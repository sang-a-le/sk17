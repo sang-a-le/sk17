{
 "cells": [
  {
   "cell_type": "markdown",
   "id": "0096710a",
   "metadata": {},
   "source": [
    "# DataFrame 병합"
   ]
  },
  {
   "cell_type": "code",
   "execution_count": 1,
   "id": "0205d11d",
   "metadata": {},
   "outputs": [],
   "source": [
    "import numpy as np \n",
    "import pandas as pd"
   ]
  },
  {
   "cell_type": "markdown",
   "id": "890d256f",
   "metadata": {},
   "source": [
    "### merge\n",
    "- 특정 '컬럼' 기준으로 DataFrame 병합"
   ]
  },
  {
   "cell_type": "code",
   "execution_count": 82,
   "id": "b2570ef4",
   "metadata": {},
   "outputs": [
    {
     "data": {
      "text/html": [
       "<div>\n",
       "<style scoped>\n",
       "    .dataframe tbody tr th:only-of-type {\n",
       "        vertical-align: middle;\n",
       "    }\n",
       "\n",
       "    .dataframe tbody tr th {\n",
       "        vertical-align: top;\n",
       "    }\n",
       "\n",
       "    .dataframe thead th {\n",
       "        text-align: right;\n",
       "    }\n",
       "</style>\n",
       "<table border=\"1\" class=\"dataframe\">\n",
       "  <thead>\n",
       "    <tr style=\"text-align: right;\">\n",
       "      <th></th>\n",
       "      <th>id</th>\n",
       "      <th>score</th>\n",
       "    </tr>\n",
       "  </thead>\n",
       "  <tbody>\n",
       "    <tr>\n",
       "      <th>0</th>\n",
       "      <td>1</td>\n",
       "      <td>100</td>\n",
       "    </tr>\n",
       "    <tr>\n",
       "      <th>1</th>\n",
       "      <td>2</td>\n",
       "      <td>95</td>\n",
       "    </tr>\n",
       "    <tr>\n",
       "      <th>2</th>\n",
       "      <td>3</td>\n",
       "      <td>88</td>\n",
       "    </tr>\n",
       "    <tr>\n",
       "      <th>3</th>\n",
       "      <td>5</td>\n",
       "      <td>89</td>\n",
       "    </tr>\n",
       "  </tbody>\n",
       "</table>\n",
       "</div>"
      ],
      "text/plain": [
       "   id  score\n",
       "0   1    100\n",
       "1   2     95\n",
       "2   3     88\n",
       "3   5     89"
      ]
     },
     "execution_count": 82,
     "metadata": {},
     "output_type": "execute_result"
    }
   ],
   "source": [
    "df1 = pd.DataFrame({\n",
    "    'id' : [1, 2, 3, 4], \n",
    "    'name' : ['다람쥐', '토끼', '곰', '고릴라']\n",
    "})\n",
    "\n",
    "df2 = pd.DataFrame({\n",
    "    'id' : [1, 2, 3, 5],\n",
    "    'score' : [100, 95, 88, 89]\n",
    "})\n",
    "df2"
   ]
  },
  {
   "cell_type": "code",
   "execution_count": null,
   "id": "ab6ba705",
   "metadata": {},
   "outputs": [
    {
     "data": {
      "text/html": [
       "<div>\n",
       "<style scoped>\n",
       "    .dataframe tbody tr th:only-of-type {\n",
       "        vertical-align: middle;\n",
       "    }\n",
       "\n",
       "    .dataframe tbody tr th {\n",
       "        vertical-align: top;\n",
       "    }\n",
       "\n",
       "    .dataframe thead th {\n",
       "        text-align: right;\n",
       "    }\n",
       "</style>\n",
       "<table border=\"1\" class=\"dataframe\">\n",
       "  <thead>\n",
       "    <tr style=\"text-align: right;\">\n",
       "      <th></th>\n",
       "      <th>id</th>\n",
       "      <th>name</th>\n",
       "      <th>score</th>\n",
       "    </tr>\n",
       "  </thead>\n",
       "  <tbody>\n",
       "    <tr>\n",
       "      <th>0</th>\n",
       "      <td>1</td>\n",
       "      <td>다람쥐</td>\n",
       "      <td>100.0</td>\n",
       "    </tr>\n",
       "    <tr>\n",
       "      <th>1</th>\n",
       "      <td>2</td>\n",
       "      <td>토끼</td>\n",
       "      <td>95.0</td>\n",
       "    </tr>\n",
       "    <tr>\n",
       "      <th>2</th>\n",
       "      <td>3</td>\n",
       "      <td>곰</td>\n",
       "      <td>88.0</td>\n",
       "    </tr>\n",
       "    <tr>\n",
       "      <th>3</th>\n",
       "      <td>4</td>\n",
       "      <td>고릴라</td>\n",
       "      <td>NaN</td>\n",
       "    </tr>\n",
       "    <tr>\n",
       "      <th>4</th>\n",
       "      <td>5</td>\n",
       "      <td>NaN</td>\n",
       "      <td>89.0</td>\n",
       "    </tr>\n",
       "  </tbody>\n",
       "</table>\n",
       "</div>"
      ],
      "text/plain": [
       "   id name  score\n",
       "0   1  다람쥐  100.0\n",
       "1   2   토끼   95.0\n",
       "2   3    곰   88.0\n",
       "3   4  고릴라    NaN\n",
       "4   5  NaN   89.0"
      ]
     },
     "execution_count": 9,
     "metadata": {},
     "output_type": "execute_result"
    }
   ],
   "source": [
    "# merge()     # 판다스의 함수\n",
    "# - on : merge 기준 컬럼 \n",
    "# - how : merge 방법 (inner(기본값), left, right, outer)    # left : 왼쪽 db 기준 / right : 오른쪽 db 기준 / outer : 합집합 / inner : 교집합\n",
    "pd.merge(df1, df2, on='id', how='outer')                  # on : 해당 컬럼을 기준으로 병합하라는 인스턴스   "
   ]
  },
  {
   "cell_type": "code",
   "execution_count": null,
   "id": "d80c87ec",
   "metadata": {},
   "outputs": [],
   "source": [
    "df1 = pd.DataFrame({\n",
    "    'n_id' : [1, 2, 3, 4], \n",
    "    'name' : ['다람쥐', '토끼', '곰', '고릴라']\n",
    "})\n",
    "\n",
    "df2 = pd.DataFrame({\n",
    "    's_id' : [1, 2, 3, 5],\n",
    "    'score' : [100, 95, 88, 89]\n",
    "})         # 연결하는 컬럼명이 다른 경우"
   ]
  },
  {
   "cell_type": "code",
   "execution_count": null,
   "id": "cc1917fa",
   "metadata": {},
   "outputs": [
    {
     "data": {
      "text/html": [
       "<div>\n",
       "<style scoped>\n",
       "    .dataframe tbody tr th:only-of-type {\n",
       "        vertical-align: middle;\n",
       "    }\n",
       "\n",
       "    .dataframe tbody tr th {\n",
       "        vertical-align: top;\n",
       "    }\n",
       "\n",
       "    .dataframe thead th {\n",
       "        text-align: right;\n",
       "    }\n",
       "</style>\n",
       "<table border=\"1\" class=\"dataframe\">\n",
       "  <thead>\n",
       "    <tr style=\"text-align: right;\">\n",
       "      <th></th>\n",
       "      <th>n_id</th>\n",
       "      <th>name</th>\n",
       "      <th>s_id</th>\n",
       "      <th>score</th>\n",
       "    </tr>\n",
       "  </thead>\n",
       "  <tbody>\n",
       "    <tr>\n",
       "      <th>0</th>\n",
       "      <td>1</td>\n",
       "      <td>다람쥐</td>\n",
       "      <td>1</td>\n",
       "      <td>100</td>\n",
       "    </tr>\n",
       "    <tr>\n",
       "      <th>1</th>\n",
       "      <td>2</td>\n",
       "      <td>토끼</td>\n",
       "      <td>2</td>\n",
       "      <td>95</td>\n",
       "    </tr>\n",
       "    <tr>\n",
       "      <th>2</th>\n",
       "      <td>3</td>\n",
       "      <td>곰</td>\n",
       "      <td>3</td>\n",
       "      <td>88</td>\n",
       "    </tr>\n",
       "  </tbody>\n",
       "</table>\n",
       "</div>"
      ],
      "text/plain": [
       "   n_id name  s_id  score\n",
       "0     1  다람쥐     1    100\n",
       "1     2   토끼     2     95\n",
       "2     3    곰     3     88"
      ]
     },
     "execution_count": 15,
     "metadata": {},
     "output_type": "execute_result"
    }
   ],
   "source": [
    "pd.merge(df1, df2, left_on='n_id', right_on='s_id')       # 연결하는 컬럼명이 다른 경우. left_on, right_on을 이용해 각 df의 기준 칼럼을 위치에 맞게 반환"
   ]
  },
  {
   "cell_type": "markdown",
   "id": "0add18ed",
   "metadata": {},
   "source": [
    "---"
   ]
  },
  {
   "cell_type": "markdown",
   "id": "35223a68",
   "metadata": {},
   "source": [
    "### join\n",
    "- 특정 '인덱스' 기준으로 DataFrame 병합"
   ]
  },
  {
   "cell_type": "code",
   "execution_count": 16,
   "id": "3b708f01",
   "metadata": {},
   "outputs": [
    {
     "data": {
      "text/html": [
       "<div>\n",
       "<style scoped>\n",
       "    .dataframe tbody tr th:only-of-type {\n",
       "        vertical-align: middle;\n",
       "    }\n",
       "\n",
       "    .dataframe tbody tr th {\n",
       "        vertical-align: top;\n",
       "    }\n",
       "\n",
       "    .dataframe thead th {\n",
       "        text-align: right;\n",
       "    }\n",
       "</style>\n",
       "<table border=\"1\" class=\"dataframe\">\n",
       "  <thead>\n",
       "    <tr style=\"text-align: right;\">\n",
       "      <th></th>\n",
       "      <th>age</th>\n",
       "      <th>city</th>\n",
       "    </tr>\n",
       "  </thead>\n",
       "  <tbody>\n",
       "    <tr>\n",
       "      <th>이석훈</th>\n",
       "      <td>33</td>\n",
       "      <td>서울</td>\n",
       "    </tr>\n",
       "    <tr>\n",
       "      <th>김용준</th>\n",
       "      <td>48</td>\n",
       "      <td>수원</td>\n",
       "    </tr>\n",
       "    <tr>\n",
       "      <th>김진호</th>\n",
       "      <td>55</td>\n",
       "      <td>인천</td>\n",
       "    </tr>\n",
       "    <tr>\n",
       "      <th>남윤진</th>\n",
       "      <td>24</td>\n",
       "      <td>서울</td>\n",
       "    </tr>\n",
       "  </tbody>\n",
       "</table>\n",
       "</div>"
      ],
      "text/plain": [
       "     age city\n",
       "이석훈   33   서울\n",
       "김용준   48   수원\n",
       "김진호   55   인천\n",
       "남윤진   24   서울"
      ]
     },
     "metadata": {},
     "output_type": "display_data"
    },
    {
     "data": {
      "text/html": [
       "<div>\n",
       "<style scoped>\n",
       "    .dataframe tbody tr th:only-of-type {\n",
       "        vertical-align: middle;\n",
       "    }\n",
       "\n",
       "    .dataframe tbody tr th {\n",
       "        vertical-align: top;\n",
       "    }\n",
       "\n",
       "    .dataframe thead th {\n",
       "        text-align: right;\n",
       "    }\n",
       "</style>\n",
       "<table border=\"1\" class=\"dataframe\">\n",
       "  <thead>\n",
       "    <tr style=\"text-align: right;\">\n",
       "      <th></th>\n",
       "      <th>pet</th>\n",
       "    </tr>\n",
       "  </thead>\n",
       "  <tbody>\n",
       "    <tr>\n",
       "      <th>이석훈</th>\n",
       "      <td>고양이</td>\n",
       "    </tr>\n",
       "    <tr>\n",
       "      <th>김용준</th>\n",
       "      <td>강아지</td>\n",
       "    </tr>\n",
       "    <tr>\n",
       "      <th>김진호</th>\n",
       "      <td>햄스터</td>\n",
       "    </tr>\n",
       "    <tr>\n",
       "      <th>윤진</th>\n",
       "      <td>돌</td>\n",
       "    </tr>\n",
       "  </tbody>\n",
       "</table>\n",
       "</div>"
      ],
      "text/plain": [
       "     pet\n",
       "이석훈  고양이\n",
       "김용준  강아지\n",
       "김진호  햄스터\n",
       "윤진     돌"
      ]
     },
     "metadata": {},
     "output_type": "display_data"
    }
   ],
   "source": [
    "df3 = pd.DataFrame({\n",
    "    'age' : [33, 48, 55, 24],\n",
    "    'city' : ['서울', '수원', '인천', '서울']\n",
    "}, index=['이석훈', '김용준', '김진호', '남윤진'])\n",
    "\n",
    "df4 = pd.DataFrame({\n",
    "    'pet' : ['고양이', '강아지', '햄스터', '돌']\n",
    "}, index=['이석훈', '김용준', '김진호', '윤진'])\n",
    "\n",
    "display(df3)\n",
    "display(df4)"
   ]
  },
  {
   "cell_type": "code",
   "execution_count": null,
   "id": "3d218372",
   "metadata": {},
   "outputs": [
    {
     "data": {
      "text/html": [
       "<div>\n",
       "<style scoped>\n",
       "    .dataframe tbody tr th:only-of-type {\n",
       "        vertical-align: middle;\n",
       "    }\n",
       "\n",
       "    .dataframe tbody tr th {\n",
       "        vertical-align: top;\n",
       "    }\n",
       "\n",
       "    .dataframe thead th {\n",
       "        text-align: right;\n",
       "    }\n",
       "</style>\n",
       "<table border=\"1\" class=\"dataframe\">\n",
       "  <thead>\n",
       "    <tr style=\"text-align: right;\">\n",
       "      <th></th>\n",
       "      <th>age</th>\n",
       "      <th>city</th>\n",
       "      <th>pet</th>\n",
       "    </tr>\n",
       "  </thead>\n",
       "  <tbody>\n",
       "    <tr>\n",
       "      <th>이석훈</th>\n",
       "      <td>33</td>\n",
       "      <td>서울</td>\n",
       "      <td>고양이</td>\n",
       "    </tr>\n",
       "    <tr>\n",
       "      <th>김용준</th>\n",
       "      <td>48</td>\n",
       "      <td>수원</td>\n",
       "      <td>강아지</td>\n",
       "    </tr>\n",
       "    <tr>\n",
       "      <th>김진호</th>\n",
       "      <td>55</td>\n",
       "      <td>인천</td>\n",
       "      <td>햄스터</td>\n",
       "    </tr>\n",
       "    <tr>\n",
       "      <th>남윤진</th>\n",
       "      <td>24</td>\n",
       "      <td>서울</td>\n",
       "      <td>NaN</td>\n",
       "    </tr>\n",
       "  </tbody>\n",
       "</table>\n",
       "</div>"
      ],
      "text/plain": [
       "     age city  pet\n",
       "이석훈   33   서울  고양이\n",
       "김용준   48   수원  강아지\n",
       "김진호   55   인천  햄스터\n",
       "남윤진   24   서울  NaN"
      ]
     },
     "execution_count": 18,
     "metadata": {},
     "output_type": "execute_result"
    }
   ],
   "source": [
    "df3.join(df4)       # how 파라미터 기본값 = left    # 조인은 데이터프레임의 매서드(df.join으로 사용) / 머지는 기준이 없음. 조인은 앞에 작성한 df3가 기준으로 how의 기본값이 다름."
   ]
  },
  {
   "cell_type": "code",
   "execution_count": 19,
   "id": "aa0d3da4",
   "metadata": {},
   "outputs": [
    {
     "data": {
      "text/html": [
       "<div>\n",
       "<style scoped>\n",
       "    .dataframe tbody tr th:only-of-type {\n",
       "        vertical-align: middle;\n",
       "    }\n",
       "\n",
       "    .dataframe tbody tr th {\n",
       "        vertical-align: top;\n",
       "    }\n",
       "\n",
       "    .dataframe thead th {\n",
       "        text-align: right;\n",
       "    }\n",
       "</style>\n",
       "<table border=\"1\" class=\"dataframe\">\n",
       "  <thead>\n",
       "    <tr style=\"text-align: right;\">\n",
       "      <th></th>\n",
       "      <th>age</th>\n",
       "      <th>city</th>\n",
       "      <th>pet</th>\n",
       "    </tr>\n",
       "  </thead>\n",
       "  <tbody>\n",
       "    <tr>\n",
       "      <th>이석훈</th>\n",
       "      <td>33</td>\n",
       "      <td>서울</td>\n",
       "      <td>고양이</td>\n",
       "    </tr>\n",
       "    <tr>\n",
       "      <th>김용준</th>\n",
       "      <td>48</td>\n",
       "      <td>수원</td>\n",
       "      <td>강아지</td>\n",
       "    </tr>\n",
       "    <tr>\n",
       "      <th>김진호</th>\n",
       "      <td>55</td>\n",
       "      <td>인천</td>\n",
       "      <td>햄스터</td>\n",
       "    </tr>\n",
       "    <tr>\n",
       "      <th>남윤진</th>\n",
       "      <td>24</td>\n",
       "      <td>서울</td>\n",
       "      <td>NaN</td>\n",
       "    </tr>\n",
       "  </tbody>\n",
       "</table>\n",
       "</div>"
      ],
      "text/plain": [
       "     age city  pet\n",
       "이석훈   33   서울  고양이\n",
       "김용준   48   수원  강아지\n",
       "김진호   55   인천  햄스터\n",
       "남윤진   24   서울  NaN"
      ]
     },
     "execution_count": 19,
     "metadata": {},
     "output_type": "execute_result"
    }
   ],
   "source": [
    "df3.join(df4, how='left')"
   ]
  },
  {
   "cell_type": "code",
   "execution_count": 20,
   "id": "c6f57e3e",
   "metadata": {},
   "outputs": [
    {
     "data": {
      "text/html": [
       "<div>\n",
       "<style scoped>\n",
       "    .dataframe tbody tr th:only-of-type {\n",
       "        vertical-align: middle;\n",
       "    }\n",
       "\n",
       "    .dataframe tbody tr th {\n",
       "        vertical-align: top;\n",
       "    }\n",
       "\n",
       "    .dataframe thead th {\n",
       "        text-align: right;\n",
       "    }\n",
       "</style>\n",
       "<table border=\"1\" class=\"dataframe\">\n",
       "  <thead>\n",
       "    <tr style=\"text-align: right;\">\n",
       "      <th></th>\n",
       "      <th>age</th>\n",
       "      <th>city</th>\n",
       "      <th>pet</th>\n",
       "    </tr>\n",
       "  </thead>\n",
       "  <tbody>\n",
       "    <tr>\n",
       "      <th>이석훈</th>\n",
       "      <td>33.0</td>\n",
       "      <td>서울</td>\n",
       "      <td>고양이</td>\n",
       "    </tr>\n",
       "    <tr>\n",
       "      <th>김용준</th>\n",
       "      <td>48.0</td>\n",
       "      <td>수원</td>\n",
       "      <td>강아지</td>\n",
       "    </tr>\n",
       "    <tr>\n",
       "      <th>김진호</th>\n",
       "      <td>55.0</td>\n",
       "      <td>인천</td>\n",
       "      <td>햄스터</td>\n",
       "    </tr>\n",
       "    <tr>\n",
       "      <th>윤진</th>\n",
       "      <td>NaN</td>\n",
       "      <td>NaN</td>\n",
       "      <td>돌</td>\n",
       "    </tr>\n",
       "  </tbody>\n",
       "</table>\n",
       "</div>"
      ],
      "text/plain": [
       "      age city  pet\n",
       "이석훈  33.0   서울  고양이\n",
       "김용준  48.0   수원  강아지\n",
       "김진호  55.0   인천  햄스터\n",
       "윤진    NaN  NaN    돌"
      ]
     },
     "execution_count": 20,
     "metadata": {},
     "output_type": "execute_result"
    }
   ],
   "source": [
    "df3.join(df4, how='right')"
   ]
  },
  {
   "cell_type": "code",
   "execution_count": 21,
   "id": "4784b7c3",
   "metadata": {},
   "outputs": [
    {
     "data": {
      "text/html": [
       "<div>\n",
       "<style scoped>\n",
       "    .dataframe tbody tr th:only-of-type {\n",
       "        vertical-align: middle;\n",
       "    }\n",
       "\n",
       "    .dataframe tbody tr th {\n",
       "        vertical-align: top;\n",
       "    }\n",
       "\n",
       "    .dataframe thead th {\n",
       "        text-align: right;\n",
       "    }\n",
       "</style>\n",
       "<table border=\"1\" class=\"dataframe\">\n",
       "  <thead>\n",
       "    <tr style=\"text-align: right;\">\n",
       "      <th></th>\n",
       "      <th>age</th>\n",
       "      <th>city</th>\n",
       "      <th>pet</th>\n",
       "    </tr>\n",
       "  </thead>\n",
       "  <tbody>\n",
       "    <tr>\n",
       "      <th>김용준</th>\n",
       "      <td>48.0</td>\n",
       "      <td>수원</td>\n",
       "      <td>강아지</td>\n",
       "    </tr>\n",
       "    <tr>\n",
       "      <th>김진호</th>\n",
       "      <td>55.0</td>\n",
       "      <td>인천</td>\n",
       "      <td>햄스터</td>\n",
       "    </tr>\n",
       "    <tr>\n",
       "      <th>남윤진</th>\n",
       "      <td>24.0</td>\n",
       "      <td>서울</td>\n",
       "      <td>NaN</td>\n",
       "    </tr>\n",
       "    <tr>\n",
       "      <th>윤진</th>\n",
       "      <td>NaN</td>\n",
       "      <td>NaN</td>\n",
       "      <td>돌</td>\n",
       "    </tr>\n",
       "    <tr>\n",
       "      <th>이석훈</th>\n",
       "      <td>33.0</td>\n",
       "      <td>서울</td>\n",
       "      <td>고양이</td>\n",
       "    </tr>\n",
       "  </tbody>\n",
       "</table>\n",
       "</div>"
      ],
      "text/plain": [
       "      age city  pet\n",
       "김용준  48.0   수원  강아지\n",
       "김진호  55.0   인천  햄스터\n",
       "남윤진  24.0   서울  NaN\n",
       "윤진    NaN  NaN    돌\n",
       "이석훈  33.0   서울  고양이"
      ]
     },
     "execution_count": 21,
     "metadata": {},
     "output_type": "execute_result"
    }
   ],
   "source": [
    "df3.join(df4, how='outer')"
   ]
  },
  {
   "cell_type": "code",
   "execution_count": 22,
   "id": "82ee182d",
   "metadata": {},
   "outputs": [
    {
     "data": {
      "text/html": [
       "<div>\n",
       "<style scoped>\n",
       "    .dataframe tbody tr th:only-of-type {\n",
       "        vertical-align: middle;\n",
       "    }\n",
       "\n",
       "    .dataframe tbody tr th {\n",
       "        vertical-align: top;\n",
       "    }\n",
       "\n",
       "    .dataframe thead th {\n",
       "        text-align: right;\n",
       "    }\n",
       "</style>\n",
       "<table border=\"1\" class=\"dataframe\">\n",
       "  <thead>\n",
       "    <tr style=\"text-align: right;\">\n",
       "      <th></th>\n",
       "      <th>age</th>\n",
       "      <th>city</th>\n",
       "      <th>pet</th>\n",
       "    </tr>\n",
       "  </thead>\n",
       "  <tbody>\n",
       "    <tr>\n",
       "      <th>이석훈</th>\n",
       "      <td>33</td>\n",
       "      <td>서울</td>\n",
       "      <td>고양이</td>\n",
       "    </tr>\n",
       "    <tr>\n",
       "      <th>김용준</th>\n",
       "      <td>48</td>\n",
       "      <td>수원</td>\n",
       "      <td>강아지</td>\n",
       "    </tr>\n",
       "    <tr>\n",
       "      <th>김진호</th>\n",
       "      <td>55</td>\n",
       "      <td>인천</td>\n",
       "      <td>햄스터</td>\n",
       "    </tr>\n",
       "  </tbody>\n",
       "</table>\n",
       "</div>"
      ],
      "text/plain": [
       "     age city  pet\n",
       "이석훈   33   서울  고양이\n",
       "김용준   48   수원  강아지\n",
       "김진호   55   인천  햄스터"
      ]
     },
     "execution_count": 22,
     "metadata": {},
     "output_type": "execute_result"
    }
   ],
   "source": [
    "df3.join(df4, how='inner')"
   ]
  },
  {
   "cell_type": "markdown",
   "id": "0dfd521e",
   "metadata": {},
   "source": [
    "---"
   ]
  },
  {
   "cell_type": "markdown",
   "id": "d39a4ddb",
   "metadata": {},
   "source": [
    "### concat\n",
    "- 축을 기준으로 DataFrame 병합"
   ]
  },
  {
   "cell_type": "code",
   "execution_count": 24,
   "id": "ed0e2038",
   "metadata": {},
   "outputs": [],
   "source": [
    "df5 = pd.DataFrame({\n",
    "    'name': ['구준표', '윤지후', '소이정', '프린스송'],\n",
    "    'age': [18, 18, 18, 18]\n",
    "})\n",
    "\n",
    "df6 = pd.DataFrame({\n",
    "    'name': ['금잔디'],\n",
    "    'age': [17]\n",
    "})"
   ]
  },
  {
   "cell_type": "code",
   "execution_count": 34,
   "id": "d41db361",
   "metadata": {},
   "outputs": [
    {
     "data": {
      "text/html": [
       "<div>\n",
       "<style scoped>\n",
       "    .dataframe tbody tr th:only-of-type {\n",
       "        vertical-align: middle;\n",
       "    }\n",
       "\n",
       "    .dataframe tbody tr th {\n",
       "        vertical-align: top;\n",
       "    }\n",
       "\n",
       "    .dataframe thead th {\n",
       "        text-align: right;\n",
       "    }\n",
       "</style>\n",
       "<table border=\"1\" class=\"dataframe\">\n",
       "  <thead>\n",
       "    <tr style=\"text-align: right;\">\n",
       "      <th></th>\n",
       "      <th>name</th>\n",
       "      <th>age</th>\n",
       "    </tr>\n",
       "  </thead>\n",
       "  <tbody>\n",
       "    <tr>\n",
       "      <th>0</th>\n",
       "      <td>구준표</td>\n",
       "      <td>18</td>\n",
       "    </tr>\n",
       "    <tr>\n",
       "      <th>1</th>\n",
       "      <td>윤지후</td>\n",
       "      <td>18</td>\n",
       "    </tr>\n",
       "    <tr>\n",
       "      <th>2</th>\n",
       "      <td>소이정</td>\n",
       "      <td>18</td>\n",
       "    </tr>\n",
       "    <tr>\n",
       "      <th>3</th>\n",
       "      <td>프린스송</td>\n",
       "      <td>18</td>\n",
       "    </tr>\n",
       "    <tr>\n",
       "      <th>4</th>\n",
       "      <td>금잔디</td>\n",
       "      <td>17</td>\n",
       "    </tr>\n",
       "  </tbody>\n",
       "</table>\n",
       "</div>"
      ],
      "text/plain": [
       "   name  age\n",
       "0   구준표   18\n",
       "1   윤지후   18\n",
       "2   소이정   18\n",
       "3  프린스송   18\n",
       "4   금잔디   17"
      ]
     },
     "execution_count": 34,
     "metadata": {},
     "output_type": "execute_result"
    }
   ],
   "source": [
    "pd.concat([df5, df6], axis=0).reset_index(drop=True)"
   ]
  },
  {
   "cell_type": "code",
   "execution_count": 30,
   "id": "f5d3ac37",
   "metadata": {},
   "outputs": [
    {
     "data": {
      "text/html": [
       "<div>\n",
       "<style scoped>\n",
       "    .dataframe tbody tr th:only-of-type {\n",
       "        vertical-align: middle;\n",
       "    }\n",
       "\n",
       "    .dataframe tbody tr th {\n",
       "        vertical-align: top;\n",
       "    }\n",
       "\n",
       "    .dataframe thead th {\n",
       "        text-align: right;\n",
       "    }\n",
       "</style>\n",
       "<table border=\"1\" class=\"dataframe\">\n",
       "  <thead>\n",
       "    <tr style=\"text-align: right;\">\n",
       "      <th></th>\n",
       "      <th>name</th>\n",
       "      <th>age</th>\n",
       "      <th>name</th>\n",
       "      <th>age</th>\n",
       "    </tr>\n",
       "  </thead>\n",
       "  <tbody>\n",
       "    <tr>\n",
       "      <th>0</th>\n",
       "      <td>구준표</td>\n",
       "      <td>18</td>\n",
       "      <td>금잔디</td>\n",
       "      <td>17.0</td>\n",
       "    </tr>\n",
       "    <tr>\n",
       "      <th>1</th>\n",
       "      <td>윤지후</td>\n",
       "      <td>18</td>\n",
       "      <td>NaN</td>\n",
       "      <td>NaN</td>\n",
       "    </tr>\n",
       "    <tr>\n",
       "      <th>2</th>\n",
       "      <td>소이정</td>\n",
       "      <td>18</td>\n",
       "      <td>NaN</td>\n",
       "      <td>NaN</td>\n",
       "    </tr>\n",
       "    <tr>\n",
       "      <th>3</th>\n",
       "      <td>프린스송</td>\n",
       "      <td>18</td>\n",
       "      <td>NaN</td>\n",
       "      <td>NaN</td>\n",
       "    </tr>\n",
       "  </tbody>\n",
       "</table>\n",
       "</div>"
      ],
      "text/plain": [
       "   name  age name   age\n",
       "0   구준표   18  금잔디  17.0\n",
       "1   윤지후   18  NaN   NaN\n",
       "2   소이정   18  NaN   NaN\n",
       "3  프린스송   18  NaN   NaN"
      ]
     },
     "execution_count": 30,
     "metadata": {},
     "output_type": "execute_result"
    }
   ],
   "source": [
    "pd.concat([df5, df6], axis=1)"
   ]
  },
  {
   "cell_type": "markdown",
   "id": "79e58fea",
   "metadata": {},
   "source": [
    "---"
   ]
  },
  {
   "cell_type": "markdown",
   "id": "e271baef",
   "metadata": {},
   "source": [
    "### melt\n",
    "- 열 병합"
   ]
  },
  {
   "cell_type": "code",
   "execution_count": 35,
   "id": "0c8f3d03",
   "metadata": {},
   "outputs": [
    {
     "data": {
      "text/html": [
       "<div>\n",
       "<style scoped>\n",
       "    .dataframe tbody tr th:only-of-type {\n",
       "        vertical-align: middle;\n",
       "    }\n",
       "\n",
       "    .dataframe tbody tr th {\n",
       "        vertical-align: top;\n",
       "    }\n",
       "\n",
       "    .dataframe thead th {\n",
       "        text-align: right;\n",
       "    }\n",
       "</style>\n",
       "<table border=\"1\" class=\"dataframe\">\n",
       "  <thead>\n",
       "    <tr style=\"text-align: right;\">\n",
       "      <th></th>\n",
       "      <th>name</th>\n",
       "      <th>math</th>\n",
       "      <th>english</th>\n",
       "      <th>science</th>\n",
       "    </tr>\n",
       "  </thead>\n",
       "  <tbody>\n",
       "    <tr>\n",
       "      <th>0</th>\n",
       "      <td>홍길동</td>\n",
       "      <td>80</td>\n",
       "      <td>34</td>\n",
       "      <td>99</td>\n",
       "    </tr>\n",
       "    <tr>\n",
       "      <th>1</th>\n",
       "      <td>신사임당</td>\n",
       "      <td>99</td>\n",
       "      <td>58</td>\n",
       "      <td>55</td>\n",
       "    </tr>\n",
       "    <tr>\n",
       "      <th>2</th>\n",
       "      <td>이순신</td>\n",
       "      <td>100</td>\n",
       "      <td>48</td>\n",
       "      <td>77</td>\n",
       "    </tr>\n",
       "  </tbody>\n",
       "</table>\n",
       "</div>"
      ],
      "text/plain": [
       "   name  math  english  science\n",
       "0   홍길동    80       34       99\n",
       "1  신사임당    99       58       55\n",
       "2   이순신   100       48       77"
      ]
     },
     "execution_count": 35,
     "metadata": {},
     "output_type": "execute_result"
    }
   ],
   "source": [
    "df = pd.DataFrame({\n",
    "    'name': ['홍길동', '신사임당', '이순신'],\n",
    "    'math': [80, 99, 100],\n",
    "    'english': [34, 58, 48],\n",
    "    'science': [99, 55, 77],\n",
    "})\n",
    "\n",
    "df"
   ]
  },
  {
   "cell_type": "code",
   "execution_count": null,
   "id": "d80fda77",
   "metadata": {},
   "outputs": [
    {
     "data": {
      "text/html": [
       "<div>\n",
       "<style scoped>\n",
       "    .dataframe tbody tr th:only-of-type {\n",
       "        vertical-align: middle;\n",
       "    }\n",
       "\n",
       "    .dataframe tbody tr th {\n",
       "        vertical-align: top;\n",
       "    }\n",
       "\n",
       "    .dataframe thead th {\n",
       "        text-align: right;\n",
       "    }\n",
       "</style>\n",
       "<table border=\"1\" class=\"dataframe\">\n",
       "  <thead>\n",
       "    <tr style=\"text-align: right;\">\n",
       "      <th></th>\n",
       "      <th>name</th>\n",
       "      <th>subject</th>\n",
       "      <th>score</th>\n",
       "    </tr>\n",
       "  </thead>\n",
       "  <tbody>\n",
       "    <tr>\n",
       "      <th>0</th>\n",
       "      <td>홍길동</td>\n",
       "      <td>math</td>\n",
       "      <td>80</td>\n",
       "    </tr>\n",
       "    <tr>\n",
       "      <th>1</th>\n",
       "      <td>신사임당</td>\n",
       "      <td>math</td>\n",
       "      <td>99</td>\n",
       "    </tr>\n",
       "    <tr>\n",
       "      <th>2</th>\n",
       "      <td>이순신</td>\n",
       "      <td>math</td>\n",
       "      <td>100</td>\n",
       "    </tr>\n",
       "    <tr>\n",
       "      <th>3</th>\n",
       "      <td>홍길동</td>\n",
       "      <td>english</td>\n",
       "      <td>34</td>\n",
       "    </tr>\n",
       "    <tr>\n",
       "      <th>4</th>\n",
       "      <td>신사임당</td>\n",
       "      <td>english</td>\n",
       "      <td>58</td>\n",
       "    </tr>\n",
       "    <tr>\n",
       "      <th>5</th>\n",
       "      <td>이순신</td>\n",
       "      <td>english</td>\n",
       "      <td>48</td>\n",
       "    </tr>\n",
       "    <tr>\n",
       "      <th>6</th>\n",
       "      <td>홍길동</td>\n",
       "      <td>science</td>\n",
       "      <td>99</td>\n",
       "    </tr>\n",
       "    <tr>\n",
       "      <th>7</th>\n",
       "      <td>신사임당</td>\n",
       "      <td>science</td>\n",
       "      <td>55</td>\n",
       "    </tr>\n",
       "    <tr>\n",
       "      <th>8</th>\n",
       "      <td>이순신</td>\n",
       "      <td>science</td>\n",
       "      <td>77</td>\n",
       "    </tr>\n",
       "  </tbody>\n",
       "</table>\n",
       "</div>"
      ],
      "text/plain": [
       "   name  subject  score\n",
       "0   홍길동     math     80\n",
       "1  신사임당     math     99\n",
       "2   이순신     math    100\n",
       "3   홍길동  english     34\n",
       "4  신사임당  english     58\n",
       "5   이순신  english     48\n",
       "6   홍길동  science     99\n",
       "7  신사임당  science     55\n",
       "8   이순신  science     77"
      ]
     },
     "execution_count": 41,
     "metadata": {},
     "output_type": "execute_result"
    }
   ],
   "source": [
    "pd.melt(\n",
    "    df,                                             # 대상 DataFrame\n",
    "    id_vars = ['name'],                             # 고정(유지)될 컬럼\n",
    "    value_vars = ['math', 'english', 'science'],    # 합쳐질 컬럼 내용\n",
    "    var_name = 'subject',                           # 컬럼명이 합쳐질 컬럼의 이름\n",
    "    value_name = 'score'                            # 컬럼값이 합쳐질 컬럼의 이름\n",
    ")\n",
    "# 열 여러개를 하나로 병합한다.                                                   "
   ]
  },
  {
   "cell_type": "markdown",
   "id": "a3f6b0c9",
   "metadata": {},
   "source": [
    "---"
   ]
  },
  {
   "cell_type": "markdown",
   "id": "5e1522d6",
   "metadata": {},
   "source": [
    "# pandas 종합 실습"
   ]
  },
  {
   "cell_type": "markdown",
   "id": "aac7f1b3",
   "metadata": {},
   "source": [
    "## **[종합 실습 1] 상품 판매 데이터 분석**\n",
    "\n",
    "다음은 한 전자상거래 사이트의 **상품 판매 데이터**입니다. 고객들이 특정 상품을 구매한 기록이 포함되어 있습니다. 데이터를 활용하여 아래의 문제를 해결하세요.\n",
    "\n"
   ]
  },
  {
   "cell_type": "markdown",
   "id": "f5c1a81e",
   "metadata": {},
   "source": [
    "1. 각 고객(`CustomerID`)별로 총 구매 금액을 계산하세요.\n",
    "2. `Laptop`을 구매한 고객들의 평균 구매 금액을 계산하세요.\n",
    "3. 가장 많이 판매된 상품(상품 이름과 판매된 총 수량)을 구하세요.\n",
    "4. `OrderDate`가 2024년 1월 10일 이후인 주문만 필터링하여 출력하세요.\n",
    "5. `Product`별로 판매량과 총 판매 금액을 계산한 후, 이를 `Price` 기준으로 내림차순으로 정렬하여 출력하세요."
   ]
  },
  {
   "cell_type": "code",
   "execution_count": 44,
   "id": "4538e191",
   "metadata": {},
   "outputs": [
    {
     "name": "stdout",
     "output_type": "stream",
     "text": [
      "<class 'pandas.core.frame.DataFrame'>\n",
      "RangeIndex: 10 entries, 0 to 9\n",
      "Data columns (total 6 columns):\n",
      " #   Column      Non-Null Count  Dtype \n",
      "---  ------      --------------  ----- \n",
      " 0   OrderID     10 non-null     int64 \n",
      " 1   Product     10 non-null     object\n",
      " 2   Quantity    10 non-null     int64 \n",
      " 3   Price       10 non-null     int64 \n",
      " 4   CustomerID  10 non-null     int64 \n",
      " 5   OrderDate   10 non-null     object\n",
      "dtypes: int64(4), object(2)\n",
      "memory usage: 612.0+ bytes\n"
     ]
    }
   ],
   "source": [
    "import pandas as pd\n",
    "\n",
    "# 예시 상품 판매 데이터\n",
    "sales_data = {\n",
    "    'OrderID': [101, 102, 103, 104, 105, 106, 107, 108, 109, 110],\n",
    "    'Product': ['Laptop', 'Mouse', 'Laptop', 'Monitor', 'Mouse', 'Keyboard', 'Laptop', 'Mouse', 'Monitor', 'Keyboard'],\n",
    "    'Quantity': [1, 2, 1, 1, 2, 1, 1, 3, 1, 1],\n",
    "    'Price': [1200, 25, 1200, 300, 25, 100, 1200, 25, 300, 100],\n",
    "    'CustomerID': [1001, 1002, 1001, 1003, 1004, 1002, 1001, 1003, 1005, 1002],\n",
    "    'OrderDate': ['2024-01-05', '2024-01-06', '2024-01-07', '2024-01-10', '2024-01-12', '2024-01-15', '2024-01-18', '2024-01-20', '2024-01-22', '2024-01-25']\n",
    "}\n",
    "df_sales = pd.DataFrame(sales_data)\n",
    "df_sales.info()"
   ]
  },
  {
   "cell_type": "code",
   "execution_count": 46,
   "id": "c3a3b4c9",
   "metadata": {},
   "outputs": [
    {
     "data": {
      "text/plain": [
       "CustomerID\n",
       "1001    3600\n",
       "1002     225\n",
       "1003     325\n",
       "1004      25\n",
       "1005     300\n",
       "Name: Price, dtype: int64"
      ]
     },
     "execution_count": 46,
     "metadata": {},
     "output_type": "execute_result"
    }
   ],
   "source": [
    "#1. \n",
    "df_sales_gb = df_sales.groupby('CustomerID')\n",
    "df_sales_gb['Price'].sum()"
   ]
  },
  {
   "cell_type": "code",
   "execution_count": null,
   "id": "ba1ee54d",
   "metadata": {},
   "outputs": [
    {
     "name": "stdout",
     "output_type": "stream",
     "text": [
      "1200.0\n"
     ]
    }
   ],
   "source": [
    "#2. \n",
    "a = df_sales[df_sales['Product'] == 'Laptop']\n",
    "print(a['Price'].mean())"
   ]
  },
  {
   "cell_type": "code",
   "execution_count": null,
   "id": "b52e57fa",
   "metadata": {},
   "outputs": [
    {
     "name": "stdout",
     "output_type": "stream",
     "text": [
      "3\n"
     ]
    }
   ],
   "source": [
    "#3. 가장 많이 판매된 상품(상품 이름과 판매된 총 수량)을 구하세요.\n",
    "\n",
    "print(df_sales['Quantity'].max())\n"
   ]
  },
  {
   "cell_type": "markdown",
   "id": "b5b1c844",
   "metadata": {},
   "source": [
    "## [종합 실습 2] **컨텐츠 선호 데이터 분석**\n",
    "\n",
    "다음은 사용자가 다양한 컨텐츠를 평가한 **컨텐츠 선호 데이터**입니다. 사용자가 영화, 음악, 책 등을 평가한 데이터를 바탕으로 분석을 수행하세요."
   ]
  },
  {
   "cell_type": "markdown",
   "id": "40fca98c",
   "metadata": {},
   "source": [
    "1. 각 컨텐츠 타입(`ContentType`)별로 평균 평점을 계산하세요.\n",
    "2. 가장 높은 평점을 받은 `ContentID`와 해당 평점을 구하세요.\n",
    "3. `ReviewDate`가 2024년 2월 10일 이후인 리뷰 중에서 `Rating`이 4 이상인 데이터를 필터링하여 출력하세요.\n",
    "4. 각 사용자(`UserID`)가 평가한 컨텐츠 수를 계산하고, 이를 출력하세요."
   ]
  },
  {
   "cell_type": "code",
   "execution_count": 66,
   "id": "76ff0aa6",
   "metadata": {},
   "outputs": [],
   "source": [
    "import pandas as pd\n",
    "\n",
    "# 예시 컨텐츠 선호 데이터\n",
    "preference_data = {\n",
    "    'UserID': [1, 2, 3, 4, 5, 6, 7, 8, 9, 10],\n",
    "    'ContentID': [101, 102, 101, 103, 104, 105, 106, 101, 107, 102],\n",
    "    'ContentType': ['Movie', 'Music', 'Movie', 'Book', 'Movie', 'Music', 'Book', 'Movie', 'Music', 'Book'],\n",
    "    'Rating': [5, 3, 4, 2, 5, 4, 3, 4, 5, 2],\n",
    "    'ReviewDate': ['2024-02-01', '2024-02-02', '2024-02-03', '2024-02-05', '2024-02-07', '2024-02-10', '2024-02-12', '2024-02-14', '2024-02-15', '2024-02-20']\n",
    "}\n",
    "df_preference = pd.DataFrame(preference_data)"
   ]
  },
  {
   "cell_type": "code",
   "execution_count": 69,
   "id": "9d93b72a",
   "metadata": {},
   "outputs": [
    {
     "data": {
      "text/plain": [
       "ContentType\n",
       "Book     2.333333\n",
       "Movie    4.500000\n",
       "Music    4.000000\n",
       "Name: Rating, dtype: float64"
      ]
     },
     "execution_count": 69,
     "metadata": {},
     "output_type": "execute_result"
    }
   ],
   "source": [
    "#1.\n",
    "df_preference_gb = df_preference.groupby('ContentType')\n",
    "df_preference_gb['Rating'].mean()"
   ]
  },
  {
   "cell_type": "code",
   "execution_count": null,
   "id": "3ee2e7f3",
   "metadata": {},
   "outputs": [
    {
     "name": "stdout",
     "output_type": "stream",
     "text": [
      "UserID                  6\n",
      "ContentID             105\n",
      "ContentType         Music\n",
      "Rating                  4\n",
      "ReviewDate     2024-02-10\n",
      "Name: 5, dtype: object\n"
     ]
    }
   ],
   "source": [
    "#2. \n",
    "df_preference.index[df_preference['Rating'].max()]\n",
    "print(df_preference.iloc[5])    # 105번, 4점"
   ]
  },
  {
   "cell_type": "code",
   "execution_count": 80,
   "id": "35b5fffc",
   "metadata": {},
   "outputs": [],
   "source": [
    "#3. `ReviewDate`가 2024년 2월 10일 이후인 리뷰 중에서 `Rating`이 4 이상인 데이터를 필터링하여 출력하세요.\n",
    "# df_preference[df_preference['ReviewDate'] <= '2024-02-10' & df_preference['Rating'] >= 4]"
   ]
  }
 ],
 "metadata": {
  "kernelspec": {
   "display_name": "pystudy_env",
   "language": "python",
   "name": "python3"
  },
  "language_info": {
   "codemirror_mode": {
    "name": "ipython",
    "version": 3
   },
   "file_extension": ".py",
   "mimetype": "text/x-python",
   "name": "python",
   "nbconvert_exporter": "python",
   "pygments_lexer": "ipython3",
   "version": "3.12.11"
  }
 },
 "nbformat": 4,
 "nbformat_minor": 5
}
