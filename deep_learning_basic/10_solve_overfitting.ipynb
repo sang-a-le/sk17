{
 "cells": [
  {
   "cell_type": "markdown",
   "id": "79a1666b",
   "metadata": {},
   "source": [
    "0807"
   ]
  },
  {
   "cell_type": "markdown",
   "id": "0681c353",
   "metadata": {},
   "source": [
    "# 과적합 해결"
   ]
  },
  {
   "cell_type": "code",
   "execution_count": 52,
   "id": "99ffc175",
   "metadata": {},
   "outputs": [],
   "source": [
    "import torch\n",
    "import torch.nn as nn \n",
    "import torch.optim as optim\n",
    "from torch.utils.data import DataLoader, random_split  # dataloder : 주어진 데이터단위를 미니배치 단위로 묶어주는 유틸리티. randomsplit : 데이터셋을 학습, 테스트용으로 분리해주는 유틸리티\n",
    "import torchvision.transforms as transforms            # torchvision은 이미지 처리 - 스케일링, 정규화 기능 제공(transforms)\n",
    "import torchvision.datasets as datasets                # 자주쓰이는 이미지 데이터를 불러올수 있게 해주는 모듈"
   ]
  },
  {
   "cell_type": "markdown",
   "id": "0e0aeace",
   "metadata": {},
   "source": [
    "### 배치 정규화 적용"
   ]
  },
  {
   "cell_type": "code",
   "execution_count": 53,
   "id": "f1d32914",
   "metadata": {},
   "outputs": [],
   "source": [
    "transforms = transforms.Compose([transforms.ToTensor(), transforms.Normalize((0.5), (0.5, ))])  # transforms.ToTensor() 이미지를 컴퓨터가 알아들을수있게 tensor로 변환 / Normalize((0.5), (0.5, ): 해당 사이즈로 변환\n",
    "dataset = datasets.MNIST(root='./data', train=True, transform=transforms, download=True)  #datasets에서 MNIST를 불러오게 하는 것. /train : 학습용 데이터셋 로드 (f가 기본) / transform=transforms 전처리를 위의 방식으로 해서 가져와라 / download=True 다운로드 해라 "
   ]
  },
  {
   "cell_type": "code",
   "execution_count": 54,
   "id": "5f9dee8a",
   "metadata": {},
   "outputs": [],
   "source": [
    "train_size = int(0.8*len(dataset))    # 80%의 train 사이즈 \n",
    "val_size = len(dataset) - train_size\n",
    "\n",
    "train_data, val_data = random_split(dataset, [train_size, val_size])   # 검증에 나눠서 쓰기 위해 테스트 데이터 나누기 \n",
    "train_loader = DataLoader(train_data, batch_size=64, shuffle=True)     # 하위 데이터셋을 미니배치(batch) 단위로 꺼내올 수 있게 만들어 주는 유틸리티\n",
    "val_loader = DataLoader(val_data, batch_size=64, shuffle=False)          "
   ]
  },
  {
   "cell_type": "code",
   "execution_count": 55,
   "id": "0298da92",
   "metadata": {},
   "outputs": [],
   "source": [
    "# BatchNorm1d를 사용하는 신경망 구조 \n",
    "\n",
    "class SimpleNN(nn.Module) :\n",
    "    def __init__(self, use_bn=False):   #use_bn: 배치 정규화를 적용하는지 \n",
    "        super(SimpleNN, self).__init__()\n",
    "        self.fc1 = nn.Linear(28 * 28, 128)\n",
    "        self.bn1 = nn.BatchNorm1d(128) if use_bn else nn.Identity()\n",
    "        self.fc2 = nn.Linear(128, 64)\n",
    "        self.bn2 = nn.BatchNorm1d(64) if use_bn else nn.Identity()\n",
    "        self.fc3 = nn.Linear(64, 10)\n",
    "\n",
    "    def forward(self, x):   # 소프트 맥스 함수 처리를 해주기 때문에 return에 소프트맥스 안함. \n",
    "        x = x.view(x.size(0), -1)  # (배치크기, h, w) -> (배치크기, feature)\n",
    "        x = torch.relu(self.bn1(self.fc1(x)))\n",
    "        x = torch.relu(self.bn2(self.fc2(x)))\n",
    "        x = self.fc3(x)\n",
    "\n",
    "        return x"
   ]
  },
  {
   "cell_type": "code",
   "execution_count": 56,
   "id": "e6861d81",
   "metadata": {},
   "outputs": [],
   "source": [
    "def train(model, train_loader, val_loader, epochs=5):\n",
    "    criterion = nn.CrossEntropyLoss()\n",
    "    optimizer = optim.Adam(model.parameters(), lr=0.001)\n",
    "\n",
    "    for epoch in range(epochs):\n",
    "        model.train()\n",
    "        for images, labels in train_loader :            # 미니배치로 뽑은 데이터의 x, y값 \n",
    "            images = images.view(images.size(0), -1)    # 평탄화\n",
    "            optimizer.zero_grad()                       # 기울기 초기화 \n",
    "            outputs = model(images)                     # 순전파의 결과값\n",
    "            loss = criterion(outputs, labels)           # 손실값\n",
    "            loss.backward()                             # 역전파 \n",
    "            optimizer.step()                            # 가중치 업데이트 \n",
    "            \n",
    "        model.eval()\n",
    "        val_loss = 0 \n",
    "        correct = 0\n",
    "        with torch.no_grad():\n",
    "            for images, labels in val_loader : \n",
    "                images = images.view(images.size(0), -1)\n",
    "                outputs = model(images)\n",
    "                val_loss += criterion(outputs, labels).item()\n",
    "                preds = outputs.argmax(dim=1)\n",
    "                correct += (preds == labels).sum().item()\n",
    "\n",
    "        print(f'Epoch { epoch +1} | Val Loss : { val_loss / len(val_loader):.4f}, Accuracy: { correct / len(val_data):.4f}')"
   ]
  },
  {
   "cell_type": "code",
   "execution_count": 58,
   "id": "bff3466c",
   "metadata": {},
   "outputs": [
    {
     "name": "stdout",
     "output_type": "stream",
     "text": [
      "배치 정규화 적용 안함\n",
      "Epoch 1 | Val Loss : 0.2450, Accuracy: 0.9253\n",
      "Epoch 2 | Val Loss : 0.1738, Accuracy: 0.9456\n",
      "Epoch 3 | Val Loss : 0.1419, Accuracy: 0.9549\n",
      "Epoch 4 | Val Loss : 0.1273, Accuracy: 0.9607\n",
      "Epoch 5 | Val Loss : 0.1149, Accuracy: 0.9653\n",
      "\n",
      "배치 정규화 적용\n",
      "Epoch 1 | Val Loss : 0.1288, Accuracy: 0.9620\n",
      "Epoch 2 | Val Loss : 0.0910, Accuracy: 0.9730\n",
      "Epoch 3 | Val Loss : 0.0962, Accuracy: 0.9710\n",
      "Epoch 4 | Val Loss : 0.0903, Accuracy: 0.9735\n",
      "Epoch 5 | Val Loss : 0.0864, Accuracy: 0.9742\n"
     ]
    }
   ],
   "source": [
    "print('배치 정규화 적용 안함')\n",
    "model_without_bn = SimpleNN(use_bn = False)\n",
    "train(model_without_bn, train_loader, val_loader)\n",
    "\n",
    "print()\n",
    "print('배치 정규화 적용')\n",
    "model_with_bn = SimpleNN(use_bn = True)\n",
    "train(model_with_bn, train_loader, val_loader)  # 배치 정규화를 쓴것이 더 잘 나옴. "
   ]
  },
  {
   "cell_type": "code",
   "execution_count": null,
   "id": "7949a60d",
   "metadata": {},
   "outputs": [
    {
     "name": "stdout",
     "output_type": "stream",
     "text": [
      "batch size: 16\n",
      "Epoch 1 | Val Loss : 0.1208, Accuracy: 0.9627\n",
      "Epoch 2 | Val Loss : 0.1011, Accuracy: 0.9681\n",
      "Epoch 3 | Val Loss : 0.0916, Accuracy: 0.9721\n",
      "Epoch 4 | Val Loss : 0.0896, Accuracy: 0.9737\n",
      "Epoch 5 | Val Loss : 0.0796, Accuracy: 0.9768\n",
      "batch size: 32\n",
      "Epoch 1 | Val Loss : 0.1222, Accuracy: 0.9647\n",
      "Epoch 2 | Val Loss : 0.0899, Accuracy: 0.9732\n",
      "Epoch 3 | Val Loss : 0.0844, Accuracy: 0.9744\n",
      "Epoch 4 | Val Loss : 0.0811, Accuracy: 0.9759\n",
      "Epoch 5 | Val Loss : 0.0789, Accuracy: 0.9778\n",
      "batch size: 128\n",
      "Epoch 1 | Val Loss : 0.1432, Accuracy: 0.9603\n",
      "Epoch 2 | Val Loss : 0.1035, Accuracy: 0.9682\n",
      "Epoch 3 | Val Loss : 0.0910, Accuracy: 0.9723\n",
      "Epoch 4 | Val Loss : 0.0857, Accuracy: 0.9755\n",
      "Epoch 5 | Val Loss : 0.0939, Accuracy: 0.9725\n"
     ]
    }
   ],
   "source": [
    "for batch_size in [16, 32, 128] : \n",
    "    print(f'batch size: { batch_size}')\n",
    "    train_loader = DataLoader(train_data, batch_size=batch_size, shuffle=True)\n",
    "    val_loader = DataLoader(val_data, batch_size=batch_size, shuffle=False)\n",
    "    model = SimpleNN(use_bn = True)\n",
    "    train(model, train_loader, val_loader)   # 배치사이즈가 커지면 튀는 다이나믹함을 볼 수 있음. "
   ]
  },
  {
   "cell_type": "markdown",
   "id": "9ed03edf",
   "metadata": {},
   "source": [
    "### 드롭아웃 적용"
   ]
  },
  {
   "cell_type": "code",
   "execution_count": null,
   "id": "20bbea9a",
   "metadata": {},
   "outputs": [],
   "source": [
    "class DropoutNN(nn.Module) :\n",
    "    def __init__(self, dropout_rate) :\n",
    "        super(DropoutNN, self).__init__()\n",
    "        self.fc1 = nn.Linear(28 * 28, 128)\n",
    "        self.dropout1 = nn.Dropout(dropout_rate)\n",
    "        self.fc2 = nn.Linear(128, 64)\n",
    "        self.dropout2 = nn.Dropout(dropout_rate)\n",
    "        self.fc3 = nn.Linear(64, 10)\n",
    "\n",
    "    def forward(self, x) : \n",
    "        x = x.view(x.size(0), -1)\n",
    "        x = torch.relu(self.dropout1(self.fc1(x)))  # 훈련상황에서만 작동 \n",
    "        x = torch.relu(self.dropout2(self.fc2(x)))\n",
    "        x = self.fc3(x)\n",
    "        return x"
   ]
  },
  {
   "cell_type": "code",
   "execution_count": null,
   "id": "22d09871",
   "metadata": {},
   "outputs": [
    {
     "name": "stdout",
     "output_type": "stream",
     "text": [
      "Dropout Rate: 0.2\n",
      "Epoch 1 | Val Loss : 0.2328, Accuracy: 0.9320\n",
      "Epoch 2 | Val Loss : 0.1878, Accuracy: 0.9450\n",
      "Epoch 3 | Val Loss : 0.1516, Accuracy: 0.9544\n",
      "Epoch 4 | Val Loss : 0.1398, Accuracy: 0.9577\n",
      "Epoch 5 | Val Loss : 0.1333, Accuracy: 0.9614\n",
      "Dropout Rate: 0.5\n",
      "Epoch 1 | Val Loss : 0.3414, Accuracy: 0.8981\n",
      "Epoch 2 | Val Loss : 0.2858, Accuracy: 0.9178\n",
      "Epoch 3 | Val Loss : 0.2689, Accuracy: 0.9246\n",
      "Epoch 4 | Val Loss : 0.2628, Accuracy: 0.9218\n",
      "Epoch 5 | Val Loss : 0.2285, Accuracy: 0.9363\n",
      "Dropout Rate: 0.8\n",
      "Epoch 1 | Val Loss : 1.4268, Accuracy: 0.6165\n",
      "Epoch 2 | Val Loss : 1.2488, Accuracy: 0.6253\n",
      "Epoch 3 | Val Loss : 1.2724, Accuracy: 0.6152\n",
      "Epoch 4 | Val Loss : 1.2045, Accuracy: 0.6440\n",
      "Epoch 5 | Val Loss : 1.3222, Accuracy: 0.6168\n"
     ]
    }
   ],
   "source": [
    "train_loader = DataLoader(train_data, batch_size=64, shuffle=True)\n",
    "val_loader = DataLoader(val_data, batch_size=64, shuffle=False)\n",
    "\n",
    "for rate in [0.2, 0.5, 0.8] : \n",
    "    print(f'Dropout Rate: {rate}')\n",
    "    model = DropoutNN(dropout_rate=rate)\n",
    "    train(model, train_loader, val_loader)"
   ]
  },
  {
   "cell_type": "code",
   "execution_count": null,
   "id": "970bb7a9",
   "metadata": {},
   "outputs": [],
   "source": [
    "model = DropoutNN(dropout_rate=0.2)"
   ]
  },
  {
   "cell_type": "code",
   "execution_count": null,
   "id": "281eaa1b",
   "metadata": {},
   "outputs": [
    {
     "name": "stdout",
     "output_type": "stream",
     "text": [
      "True\n"
     ]
    }
   ],
   "source": [
    "model.eval()  # 모든 뉴런 활성화\n",
    "with torch.no_grad():\n",
    "    images, _ = next(iter(val_loader))         # 미니배치에서 하나만 꺼내는 것 \n",
    "    images = images.view(images.size(0), -1)   \n",
    "\n",
    "    out1 = model(images)\n",
    "    out2 = model(images)\n",
    "\n",
    "    print(torch.allclose(out1, out2))          # 두개의 텐서값이 유사한지 비교하는 것 \n",
    "\n",
    "# test 에서는 dropout이 동작하지 않아서 동일한 뉴런에 대해 통과하기 때문에 두가지 텐서값이 유사함. "
   ]
  },
  {
   "cell_type": "code",
   "execution_count": null,
   "id": "da2fd8a4",
   "metadata": {},
   "outputs": [
    {
     "name": "stdout",
     "output_type": "stream",
     "text": [
      "False\n"
     ]
    }
   ],
   "source": [
    "model.train()\n",
    "\n",
    "out1 = model(images)    # 드롭아웃이 적용됐기 때문에 학습데이터에서는 False 반환. 각자 다른 뉴런을 통과해서 다른 값 반환\n",
    "out2 = model(images)\n",
    "\n",
    "print(torch.allclose(out1, out2))  # 드롭아웃이 학습과정에서 다른 뉴런을 통과 시킨다는 것을 알 수 있다. "
   ]
  },
  {
   "cell_type": "markdown",
   "id": "142a56ce",
   "metadata": {},
   "source": [
    "### Learning Rate Scheduler 적용"
   ]
  },
  {
   "cell_type": "code",
   "execution_count": null,
   "id": "5e2cdd3a",
   "metadata": {},
   "outputs": [],
   "source": [
    "class RealSimpleNN(nn.Module) : \n",
    "    def __init__(self) :\n",
    "        super(RealSimpleNN, self).__init__()\n",
    "        self.fc1 = nn.Linear(28 * 28, 128)\n",
    "        self.fc2 = nn.Linear(128, 64)\n",
    "        self.fc3 = nn.Linear(64, 10)\n",
    "    \n",
    "    def forward(self, x):\n",
    "        x = x.view(x.size(0), -1)\n",
    "        x = torch.relu(self.fc1(x))\n",
    "        x = torch.relu(self.fc2(x))\n",
    "        x = self.fc3(x)\n",
    "        return x "
   ]
  },
  {
   "cell_type": "code",
   "execution_count": null,
   "id": "33abcd25",
   "metadata": {},
   "outputs": [],
   "source": [
    "def train_lr(model, train_loader, val_loader, optimizer, scheduler, epochs=10):\n",
    "    criterion = nn.CrossEntropyLoss()\n",
    "\n",
    "    for epoch in range(epochs):\n",
    "        model.train()\n",
    "        for images, labels in train_loader :            # 미니배치로 뽑은 데이터의 x, y값 \n",
    "            images = images.view(images.size(0), -1)    # 평탄화\n",
    "            optimizer.zero_grad()                       # 기울기 초기화 \n",
    "            outputs = model(images)                     # 순전파의 결과값\n",
    "            loss = criterion(outputs, labels)           # 손실값\n",
    "            loss.backward()                             # 역전파 \n",
    "            optimizer.step()                            # 가중치 업데이트 \n",
    "            \n",
    "        model.eval()\n",
    "        val_loss = 0 \n",
    "        correct = 0\n",
    "        with torch.no_grad():\n",
    "            for images, labels in val_loader : \n",
    "                images = images.view(images.size(0), -1)\n",
    "                outputs = model(images)\n",
    "                val_loss += criterion(outputs, labels).item()\n",
    "                preds = outputs.argmax(dim=1)\n",
    "                correct += (preds == labels).sum().item()\n",
    "\n",
    "        scheduler.step()\n",
    "        print(f'Epoch { epoch +1} | Val Loss : { val_loss / len(val_loader):.4f}, Accuracy: { correct / len(val_data):.4f}')"
   ]
  },
  {
   "cell_type": "code",
   "execution_count": null,
   "id": "0a7133b4",
   "metadata": {},
   "outputs": [
    {
     "name": "stdout",
     "output_type": "stream",
     "text": [
      "Epoch 1 | Val Loss : 0.2656, Accuracy: 0.9189\n",
      "Epoch 2 | Val Loss : 0.2397, Accuracy: 0.9315\n",
      "Epoch 3 | Val Loss : 0.2927, Accuracy: 0.9240\n",
      "Epoch 4 | Val Loss : 0.1658, Accuracy: 0.9533\n",
      "Epoch 5 | Val Loss : 0.1549, Accuracy: 0.9551\n"
     ]
    }
   ],
   "source": [
    "model = RealSimpleNN()\n",
    "optimizer = optim.Adam(model.parameters(), lr=0.01)\n",
    "scheduler = optim.lr_scheduler.StepLR(optimizer, step_size=3, gamma=0.1)\n",
    "\n",
    "train_lr(model, train_loader, val_loader, optimizer, scheduler)"
   ]
  },
  {
   "cell_type": "markdown",
   "id": "8502f312",
   "metadata": {},
   "source": [
    "### 조기 종료 "
   ]
  },
  {
   "cell_type": "code",
   "execution_count": 60,
   "id": "5680b9c0",
   "metadata": {},
   "outputs": [],
   "source": [
    "def train_es(model, train_loader, val_loader, optimizer, epochs=50, early_stopping=None):\n",
    "    criterion = nn.CrossEntropyLoss()\n",
    "    train_losses = []\n",
    "    val_losses = []\n",
    "\n",
    "    for epoch in range(epochs):\n",
    "        model.train()\n",
    "        train_loss = 0 \n",
    "        for images, labels in train_loader :\n",
    "            images = images.view(images.size(0), -1)\n",
    "            optimizer.zero_grad()\n",
    "            outputs = model(images)\n",
    "            loss = criterion(outputs, labels)\n",
    "            loss.backward()\n",
    "            optimizer.step()\n",
    "            train_loss += loss.item()\n",
    "        train_loss /= len(train_loader)\n",
    "        train_losses.append(train_loss)\n",
    "\n",
    "        model.eval()\n",
    "        val_loss = 0\n",
    "        correct = 0\n",
    "        with torch.no_grad() :\n",
    "            for images, labels in val_loader :\n",
    "                images = images.view(images.size(0), -1)\n",
    "                outputs = model(images)\n",
    "                loss = criterion(outputs, labels)\n",
    "                val_loss += loss.item()\n",
    "                preds = outputs.argmax(dim =1)\n",
    "                correct += (preds == labels).sum().item()\n",
    "        val_loss /= len(val_loader)\n",
    "        val_losses.append(val_loss)\n",
    "        accuracy = correct / len(val_data)\n",
    "\n",
    "        print(f'Epoch { epoch +1} | Val Loss : { val_loss:.4f}, Accuracy: { accuracy:.4f}')\n",
    "\n",
    "        if early_stopping and early_stopping(val_loss):\n",
    "            print(f'조기종료 epoch {epoch + 1}')\n",
    "            break\n",
    "\n",
    "    return train_losses, val_losses \n"
   ]
  },
  {
   "cell_type": "code",
   "execution_count": 63,
   "id": "f858f8dc",
   "metadata": {},
   "outputs": [],
   "source": [
    "class EarlyStopping:\n",
    "    def __init__(self, patience=5, min_delta=0.001) :\n",
    "        self.patience = patience\n",
    "        self.min_delta = min_delta\n",
    "        self.best_loss = float('inf')\n",
    "        self.counter = 0\n",
    "\n",
    "    def __call__(self, val_loss) : \n",
    "        if val_loss < self.best_loss - self.min_delta :\n",
    "            self.best_loss = val_loss\n",
    "            self.counter = 0\n",
    "        else : \n",
    "            self.counter += 1\n",
    "        \n",
    "        return self.counter >= self.patience "
   ]
  },
  {
   "cell_type": "code",
   "execution_count": 64,
   "id": "b9086684",
   "metadata": {},
   "outputs": [
    {
     "name": "stdout",
     "output_type": "stream",
     "text": [
      "Epoch 1 | Val Loss : 1.7732, Accuracy: 0.2926\n",
      "Epoch 2 | Val Loss : 1.8876, Accuracy: 0.2335\n",
      "Epoch 3 | Val Loss : 2.1993, Accuracy: 0.1587\n",
      "Epoch 4 | Val Loss : 2.2994, Accuracy: 0.1102\n",
      "Epoch 5 | Val Loss : 2.3067, Accuracy: 0.1003\n",
      "Epoch 6 | Val Loss : 2.3178, Accuracy: 0.1023\n",
      "Epoch 7 | Val Loss : 2.3066, Accuracy: 0.1019\n",
      "Epoch 8 | Val Loss : 2.3144, Accuracy: 0.1019\n",
      "Epoch 9 | Val Loss : 2.3151, Accuracy: 0.1102\n",
      "Epoch 10 | Val Loss : 2.3060, Accuracy: 0.1019\n",
      "Epoch 11 | Val Loss : 2.3043, Accuracy: 0.1045\n",
      "Epoch 12 | Val Loss : 2.3118, Accuracy: 0.1045\n",
      "Epoch 13 | Val Loss : 2.3103, Accuracy: 0.1102\n",
      "Epoch 14 | Val Loss : 2.3090, Accuracy: 0.1102\n",
      "Epoch 15 | Val Loss : 2.3083, Accuracy: 0.1035\n",
      "Epoch 16 | Val Loss : 2.3052, Accuracy: 0.1102\n",
      "Epoch 17 | Val Loss : 2.3076, Accuracy: 0.0936\n",
      "Epoch 18 | Val Loss : 2.3066, Accuracy: 0.0995\n",
      "Epoch 19 | Val Loss : 2.3058, Accuracy: 0.1001\n",
      "Epoch 20 | Val Loss : 2.3096, Accuracy: 0.1019\n",
      "Epoch 21 | Val Loss : 2.3145, Accuracy: 0.1022\n",
      "Epoch 22 | Val Loss : 2.3171, Accuracy: 0.1102\n",
      "Epoch 23 | Val Loss : 2.3066, Accuracy: 0.1102\n",
      "Epoch 24 | Val Loss : 2.3101, Accuracy: 0.1022\n",
      "Epoch 25 | Val Loss : 2.3066, Accuracy: 0.0936\n",
      "Epoch 26 | Val Loss : 2.3181, Accuracy: 0.0936\n",
      "Epoch 27 | Val Loss : 2.3059, Accuracy: 0.1001\n",
      "Epoch 28 | Val Loss : 2.3088, Accuracy: 0.1001\n",
      "Epoch 29 | Val Loss : 2.3154, Accuracy: 0.0995\n",
      "Epoch 30 | Val Loss : 2.3125, Accuracy: 0.0936\n",
      "Epoch 31 | Val Loss : 2.3185, Accuracy: 0.1022\n",
      "Epoch 32 | Val Loss : 2.3100, Accuracy: 0.1102\n",
      "Epoch 33 | Val Loss : 2.3154, Accuracy: 0.0945\n",
      "Epoch 34 | Val Loss : 2.3149, Accuracy: 0.0936\n",
      "Epoch 35 | Val Loss : 2.3089, Accuracy: 0.0995\n",
      "Epoch 36 | Val Loss : 2.3105, Accuracy: 0.0945\n",
      "Epoch 37 | Val Loss : 2.3078, Accuracy: 0.1019\n",
      "Epoch 38 | Val Loss : 2.3047, Accuracy: 0.1045\n",
      "Epoch 39 | Val Loss : 2.3142, Accuracy: 0.1022\n",
      "Epoch 40 | Val Loss : 2.3082, Accuracy: 0.1035\n",
      "Epoch 41 | Val Loss : 2.3098, Accuracy: 0.1102\n",
      "Epoch 42 | Val Loss : 2.3051, Accuracy: 0.1045\n",
      "Epoch 43 | Val Loss : 2.3091, Accuracy: 0.0995\n",
      "Epoch 44 | Val Loss : 2.3044, Accuracy: 0.1045\n",
      "Epoch 45 | Val Loss : 2.3104, Accuracy: 0.1102\n",
      "Epoch 46 | Val Loss : 2.3089, Accuracy: 0.1001\n",
      "Epoch 47 | Val Loss : 2.3176, Accuracy: 0.1019\n",
      "Epoch 48 | Val Loss : 2.3090, Accuracy: 0.0936\n",
      "Epoch 49 | Val Loss : 2.3098, Accuracy: 0.0936\n",
      "Epoch 50 | Val Loss : 2.3103, Accuracy: 0.1102\n",
      "Epoch 1 | Val Loss : 0.2626, Accuracy: 0.9186\n",
      "Epoch 2 | Val Loss : 0.3346, Accuracy: 0.9062\n",
      "Epoch 3 | Val Loss : 0.3549, Accuracy: 0.9069\n",
      "Epoch 4 | Val Loss : 0.2152, Accuracy: 0.9376\n",
      "Epoch 5 | Val Loss : 0.2207, Accuracy: 0.9418\n",
      "Epoch 6 | Val Loss : 0.2300, Accuracy: 0.9380\n",
      "Epoch 7 | Val Loss : 0.2160, Accuracy: 0.9437\n",
      "Epoch 8 | Val Loss : 0.1976, Accuracy: 0.9469\n",
      "Epoch 9 | Val Loss : 0.2441, Accuracy: 0.9377\n",
      "Epoch 10 | Val Loss : 0.2624, Accuracy: 0.9345\n",
      "Epoch 11 | Val Loss : 0.2274, Accuracy: 0.9441\n",
      "Epoch 12 | Val Loss : 0.2780, Accuracy: 0.9327\n",
      "Epoch 13 | Val Loss : 0.2576, Accuracy: 0.9419\n",
      "조기종료 epoch 13\n"
     ]
    }
   ],
   "source": [
    "model_no_es = RealSimpleNN()\n",
    "optim_no_es = optim.Adam(model_no_es.parameters(), lr=0.1)\n",
    "train_losses, val_losses = train_es(model_no_es, train_loader, val_loader, optim_no_es)\n",
    "\n",
    "model_es = RealSimpleNN()\n",
    "optim_es = optim.Adam(model_es.parameters(), lr=0.01)\n",
    "early_stopping = EarlyStopping(patience=5)\n",
    "train_es_losses, val_es_losses = train_es(model_es, train_loader, val_loader, optim_es, early_stopping=early_stopping)"
   ]
  },
  {
   "cell_type": "code",
   "execution_count": 65,
   "id": "9de1287f",
   "metadata": {},
   "outputs": [
    {
     "data": {
      "image/png": "[encoded data removed]",
      "text/plain": [
       "<Figure size 1000x400 with 1 Axes>"
      ]
     },
     "metadata": {},
     "output_type": "display_data"
    }
   ],
   "source": [
    "import matplotlib.pyplot as plt\n",
    "\n",
    "plt.figure(figsize=(10, 4))\n",
    "plt.plot(train_losses, label='Train Loss (All epoch)', linestyle='dashed')\n",
    "plt.plot(val_losses, label='Valid Loss (All epoch)')\n",
    "plt.plot(train_es_losses, label='Train Loss (Early Stopping)', linestyle = 'dashed')\n",
    "plt.plot(val_es_losses, label='Valid Loss (Early Stopping)')\n",
    "\n",
    "plt.xlabel('Epoch')\n",
    "plt.ylabel('Loss')\n",
    "plt.legend()\n",
    "plt.show()"
   ]
  },
  {
   "cell_type": "markdown",
   "id": "30c3bbfe",
   "metadata": {},
   "source": [
    "### L2 적용"
   ]
  },
  {
   "cell_type": "code",
   "execution_count": 71,
   "id": "089af8a4",
   "metadata": {},
   "outputs": [],
   "source": [
    "def train_reg(model, train_loader, val_loader, optimizer, epochs=50):\n",
    "    criterion = nn.CrossEntropyLoss()\n",
    "    train_losses = []\n",
    "    val_losses = []\n",
    "    weight_norms = []\n",
    "\n",
    "    for epoch in range(epochs):\n",
    "        model.train()\n",
    "        train_loss = 0 \n",
    "        for images, labels in train_loader :\n",
    "            images = images.view(images.size(0), -1)\n",
    "            optimizer.zero_grad()\n",
    "            outputs = model(images)\n",
    "            loss = criterion(outputs, labels)\n",
    "            loss.backward()\n",
    "            optimizer.step()\n",
    "            train_loss += loss.item()\n",
    "        train_loss /= len(train_loader)\n",
    "        train_losses.append(train_loss)\n",
    "\n",
    "        model.eval()\n",
    "        val_loss = 0\n",
    "        correct = 0\n",
    "        with torch.no_grad() :\n",
    "            for images, labels in val_loader :\n",
    "                images = images.view(images.size(0), -1)\n",
    "                outputs = model(images)\n",
    "                loss = criterion(outputs, labels)\n",
    "                val_loss += loss.item()\n",
    "                preds = outputs.argmax(dim =1)\n",
    "                correct += (preds == labels).sum().item()\n",
    "        val_loss /= len(val_loader)\n",
    "        val_losses.append(val_loss)\n",
    "        accuracy = correct / len(val_data)\n",
    "\n",
    "        print(f'Epoch { epoch +1} | Val Loss : { val_loss:.4f}, Accuracy: { accuracy:.4f}')\n",
    "\n",
    "        weight_norm = sum(torch.norm(p).item() for p in model.parameters())\n",
    "        weight_norms.append(weight_norm)\n",
    "\n",
    "    return train_losses, val_losses, weight_norms"
   ]
  },
  {
   "cell_type": "code",
   "execution_count": null,
   "id": "afcce845",
   "metadata": {},
   "outputs": [
    {
     "name": "stdout",
     "output_type": "stream",
     "text": [
      "Epoch 1 | Val Loss : 0.2513, Accuracy: 0.9253\n",
      "Epoch 2 | Val Loss : 0.1810, Accuracy: 0.9436\n",
      "Epoch 3 | Val Loss : 0.1350, Accuracy: 0.9591\n",
      "Epoch 4 | Val Loss : 0.1301, Accuracy: 0.9599\n",
      "Epoch 5 | Val Loss : 0.1153, Accuracy: 0.9633\n",
      "Epoch 6 | Val Loss : 0.1123, Accuracy: 0.9676\n",
      "Epoch 7 | Val Loss : 0.1247, Accuracy: 0.9632\n",
      "Epoch 8 | Val Loss : 0.1051, Accuracy: 0.9695\n",
      "Epoch 9 | Val Loss : 0.0971, Accuracy: 0.9710\n",
      "Epoch 10 | Val Loss : 0.0911, Accuracy: 0.9740\n",
      "Epoch 11 | Val Loss : 0.0974, Accuracy: 0.9722\n",
      "Epoch 12 | Val Loss : 0.1142, Accuracy: 0.9675\n",
      "Epoch 13 | Val Loss : 0.0940, Accuracy: 0.9729\n",
      "Epoch 14 | Val Loss : 0.1000, Accuracy: 0.9733\n",
      "Epoch 15 | Val Loss : 0.0917, Accuracy: 0.9751\n",
      "Epoch 16 | Val Loss : 0.0951, Accuracy: 0.9750\n",
      "Epoch 17 | Val Loss : 0.0978, Accuracy: 0.9752\n",
      "Epoch 18 | Val Loss : 0.1030, Accuracy: 0.9752\n",
      "Epoch 19 | Val Loss : 0.1040, Accuracy: 0.9747\n",
      "Epoch 20 | Val Loss : 0.1167, Accuracy: 0.9715\n",
      "Epoch 21 | Val Loss : 0.0935, Accuracy: 0.9777\n",
      "Epoch 22 | Val Loss : 0.1003, Accuracy: 0.9773\n",
      "Epoch 23 | Val Loss : 0.0951, Accuracy: 0.9782\n",
      "Epoch 24 | Val Loss : 0.1038, Accuracy: 0.9765\n",
      "Epoch 25 | Val Loss : 0.1105, Accuracy: 0.9768\n",
      "Epoch 26 | Val Loss : 0.1062, Accuracy: 0.9748\n",
      "Epoch 27 | Val Loss : 0.1058, Accuracy: 0.9772\n",
      "Epoch 28 | Val Loss : 0.1108, Accuracy: 0.9758\n",
      "Epoch 29 | Val Loss : 0.1034, Accuracy: 0.9782\n",
      "Epoch 30 | Val Loss : 0.1089, Accuracy: 0.9781\n",
      "Epoch 31 | Val Loss : 0.1046, Accuracy: 0.9797\n",
      "Epoch 32 | Val Loss : 0.1083, Accuracy: 0.9786\n",
      "Epoch 33 | Val Loss : 0.1084, Accuracy: 0.9792\n",
      "Epoch 34 | Val Loss : 0.1082, Accuracy: 0.9794\n",
      "Epoch 35 | Val Loss : 0.1089, Accuracy: 0.9789\n",
      "Epoch 36 | Val Loss : 0.1100, Accuracy: 0.9798\n",
      "Epoch 37 | Val Loss : 0.1111, Accuracy: 0.9790\n",
      "Epoch 38 | Val Loss : 0.1107, Accuracy: 0.9788\n",
      "Epoch 39 | Val Loss : 0.1126, Accuracy: 0.9786\n",
      "Epoch 40 | Val Loss : 0.1128, Accuracy: 0.9792\n",
      "Epoch 41 | Val Loss : 0.1135, Accuracy: 0.9791\n",
      "Epoch 42 | Val Loss : 0.1131, Accuracy: 0.9786\n",
      "Epoch 43 | Val Loss : 0.1139, Accuracy: 0.9793\n",
      "Epoch 44 | Val Loss : 0.1141, Accuracy: 0.9792\n",
      "Epoch 45 | Val Loss : 0.1143, Accuracy: 0.9788\n",
      "Epoch 46 | Val Loss : 0.1152, Accuracy: 0.9797\n",
      "Epoch 47 | Val Loss : 0.1149, Accuracy: 0.9791\n",
      "Epoch 48 | Val Loss : 0.1168, Accuracy: 0.9787\n",
      "Epoch 49 | Val Loss : 0.1163, Accuracy: 0.9789\n",
      "Epoch 50 | Val Loss : 0.1171, Accuracy: 0.9789\n",
      "Epoch 1 | Val Loss : 2.3107, Accuracy: 0.1055\n",
      "Epoch 2 | Val Loss : 2.3107, Accuracy: 0.1055\n",
      "Epoch 3 | Val Loss : 2.3107, Accuracy: 0.1055\n",
      "Epoch 4 | Val Loss : 2.3107, Accuracy: 0.1055\n",
      "Epoch 5 | Val Loss : 2.3107, Accuracy: 0.1055\n",
      "Epoch 6 | Val Loss : 2.3107, Accuracy: 0.1055\n",
      "Epoch 7 | Val Loss : 2.3107, Accuracy: 0.1055\n",
      "Epoch 8 | Val Loss : 2.3107, Accuracy: 0.1055\n",
      "Epoch 9 | Val Loss : 2.3107, Accuracy: 0.1055\n",
      "Epoch 10 | Val Loss : 2.3107, Accuracy: 0.1055\n",
      "Epoch 11 | Val Loss : 2.3107, Accuracy: 0.1055\n",
      "Epoch 12 | Val Loss : 2.3107, Accuracy: 0.1055\n",
      "Epoch 13 | Val Loss : 2.3107, Accuracy: 0.1055\n",
      "Epoch 14 | Val Loss : 2.3107, Accuracy: 0.1055\n",
      "Epoch 15 | Val Loss : 2.3107, Accuracy: 0.1055\n",
      "Epoch 16 | Val Loss : 2.3107, Accuracy: 0.1055\n",
      "Epoch 17 | Val Loss : 2.3107, Accuracy: 0.1055\n",
      "Epoch 18 | Val Loss : 2.3107, Accuracy: 0.1055\n",
      "Epoch 19 | Val Loss : 2.3107, Accuracy: 0.1055\n",
      "Epoch 20 | Val Loss : 2.3107, Accuracy: 0.1055\n",
      "Epoch 21 | Val Loss : 2.3107, Accuracy: 0.1055\n",
      "Epoch 22 | Val Loss : 2.3107, Accuracy: 0.1055\n",
      "Epoch 23 | Val Loss : 2.3107, Accuracy: 0.1055\n",
      "Epoch 24 | Val Loss : 2.3107, Accuracy: 0.1055\n",
      "Epoch 25 | Val Loss : 2.3107, Accuracy: 0.1055\n",
      "Epoch 26 | Val Loss : 2.3107, Accuracy: 0.1055\n",
      "Epoch 27 | Val Loss : 2.3107, Accuracy: 0.1055\n",
      "Epoch 28 | Val Loss : 2.3107, Accuracy: 0.1055\n",
      "Epoch 29 | Val Loss : 2.3107, Accuracy: 0.1055\n",
      "Epoch 30 | Val Loss : 2.3107, Accuracy: 0.1055\n",
      "Epoch 31 | Val Loss : 2.3107, Accuracy: 0.1055\n",
      "Epoch 32 | Val Loss : 2.3107, Accuracy: 0.1055\n",
      "Epoch 33 | Val Loss : 2.3107, Accuracy: 0.1055\n",
      "Epoch 34 | Val Loss : 2.3107, Accuracy: 0.1055\n",
      "Epoch 35 | Val Loss : 2.3107, Accuracy: 0.1055\n",
      "Epoch 36 | Val Loss : 2.3107, Accuracy: 0.1055\n",
      "Epoch 37 | Val Loss : 2.3107, Accuracy: 0.1055\n",
      "Epoch 38 | Val Loss : 2.3107, Accuracy: 0.1055\n",
      "Epoch 39 | Val Loss : 2.3107, Accuracy: 0.1055\n",
      "Epoch 40 | Val Loss : 2.3107, Accuracy: 0.1055\n",
      "Epoch 41 | Val Loss : 2.3107, Accuracy: 0.1055\n",
      "Epoch 42 | Val Loss : 2.3107, Accuracy: 0.1055\n",
      "Epoch 43 | Val Loss : 2.3107, Accuracy: 0.1055\n",
      "Epoch 44 | Val Loss : 2.3107, Accuracy: 0.1055\n",
      "Epoch 45 | Val Loss : 2.3107, Accuracy: 0.1055\n",
      "Epoch 46 | Val Loss : 2.3107, Accuracy: 0.1055\n",
      "Epoch 47 | Val Loss : 2.3107, Accuracy: 0.1055\n",
      "Epoch 48 | Val Loss : 2.3107, Accuracy: 0.1055\n",
      "Epoch 49 | Val Loss : 2.3107, Accuracy: 0.1055\n",
      "Epoch 50 | Val Loss : 2.3107, Accuracy: 0.1055\n"
     ]
    }
   ],
   "source": [
    "model_no_reg = RealSimpleNN()\n",
    "optim_no_reg = optim.SGD(model_no_reg.parameters(), lr=0.01, weight_decay=0.0, momentum=0.9)              # weight_decay : 가중치 감쇄하는것 \n",
    "train_losses, val_losses, weight_norms = train_reg(model_no_reg, train_loader, val_loader, optim_no_reg)\n",
    "\n",
    "model_reg = RealSimpleNN()\n",
    "optim_reg = optim.SGD(model_reg.parameters(), lr=0.01, weight_decay=0.01, momentum=0.9)\n",
    "train_reg_losses, val_reg_losses, weight_norms_reg = train_reg(model_reg, train_loader, val_loader, optim_no_reg)"
   ]
  },
  {
   "cell_type": "code",
   "execution_count": 76,
   "id": "8d16542a",
   "metadata": {},
   "outputs": [
    {
     "data": {
      "image/png": "[encoded data removed]",
      "text/plain": [
       "<Figure size 1200x500 with 2 Axes>"
      ]
     },
     "metadata": {},
     "output_type": "display_data"
    }
   ],
   "source": [
    "plt.figure(figsize=(12, 5))\n",
    "\n",
    "plt.plot(train_losses, label='Train Loss (No Reg)', linestyle='dashed')\n",
    "plt.plot(val_losses, label='Valid Loss (No Reg)')\n",
    "plt.plot(train_es_losses, label='Train Loss (L2 reg)', linestyle = 'dashed')\n",
    "plt.plot(val_es_losses, label='Valid Loss (L2 reg)')\n",
    "plt.xlabel('Epoch')\n",
    "plt.ylabel('Loss')\n",
    "plt.legend()\n",
    "\n",
    "plt.subplot(1, 2, 2)\n",
    "plt.plot(weight_norms, label='Weight Norm (No Reg)')\n",
    "plt.plot(weight_norms_reg, label='Weight Norm (L2 reg)')\n",
    "plt.xlabel('Epoch')\n",
    "plt.ylabel('Weight Norm')\n",
    "plt.legend()\n",
    "\n",
    "plt.show()"
   ]
  }
 ],
 "metadata": {
  "kernelspec": {
   "display_name": "torch_env",
   "language": "python",
   "name": "python3"
  },
  "language_info": {
   "codemirror_mode": {
    "name": "ipython",
    "version": 3
   },
   "file_extension": ".py",
   "mimetype": "text/x-python",
   "name": "python",
   "nbconvert_exporter": "python",
   "pygments_lexer": "ipython3",
   "version": "3.12.11"
  }
 },
 "nbformat": 4,
 "nbformat_minor": 5
}
