{
 "cells": [
  {
   "cell_type": "markdown",
   "id": "ee6936a4",
   "metadata": {},
   "source": [
    "# Silhouette Score :  군집 평가 "
   ]
  }
 ],
 "metadata": {
  "language_info": {
   "name": "python"
  }
 },
 "nbformat": 4,
 "nbformat_minor": 5
}
