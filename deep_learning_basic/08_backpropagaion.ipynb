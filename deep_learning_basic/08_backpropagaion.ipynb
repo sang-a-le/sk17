{
 "cells": [
  {
   "cell_type": "markdown",
   "id": "5825800c",
   "metadata": {},
   "source": [
    "0805"
   ]
  },
  {
   "cell_type": "markdown",
   "id": "c9ee4b05",
   "metadata": {},
   "source": [
    "# 역전파 (Backpropagation)"
   ]
  },
  {
   "cell_type": "markdown",
   "id": "5bec9864",
   "metadata": {},
   "source": [
    "### 연쇄법칙 \n",
    "- 기본 수식의 역전파 & 연쇄법칙 적용"
   ]
  },
  {
   "cell_type": "code",
   "execution_count": null,
   "id": "3e17d417",
   "metadata": {},
   "outputs": [
    {
     "name": "stdout",
     "output_type": "stream",
     "text": [
      "9.0\n",
      "6.0\n"
     ]
    }
   ],
   "source": [
    "import numpy as np \n",
    "\n",
    "def forward(x):   # 순전파 \n",
    "    y = x**2\n",
    "    return y\n",
    "\n",
    "def backward(x):   # 역전파 : 순전파에 대해 미분함 \n",
    "    dy_dx = 2 * x\n",
    "    return dy_dx\n",
    "\n",
    "x = 3.0 \n",
    "print(forward(x))     # 예측값으로 생각하면 됨. \n",
    "print(backward(x))    # 기울기 값이라고 생각하면 됨."
   ]
  },
  {
   "cell_type": "markdown",
   "id": "dcc05bfb",
   "metadata": {},
   "source": [
    "- 다층 신경망에서 연쇄법칙 적용"
   ]
  },
  {
   "cell_type": "code",
   "execution_count": 3,
   "id": "cd756f8c",
   "metadata": {},
   "outputs": [
    {
     "name": "stdout",
     "output_type": "stream",
     "text": [
      "9.0\n",
      "6.0\n"
     ]
    }
   ],
   "source": [
    "def forward(x):   # 순전파 \n",
    "    y = x**2\n",
    "    z = 2 * y\n",
    "    return y\n",
    "\n",
    "def backward(x):   # 역전파 : 순전파에 대해 미분함 \n",
    "    dy_dx = 2 * x\n",
    "    dz_dy = 2\n",
    "    dz_dx = dy_dx * dz_dy      # 연쇄법칙\n",
    "    return dy_dx\n",
    "\n",
    "x = 3.0 \n",
    "print(forward(x))     # 예측값으로 생각하면 됨. \n",
    "print(backward(x))    # 기울기 값이라고 생각하면 됨."
   ]
  },
  {
   "cell_type": "markdown",
   "id": "fa701e29",
   "metadata": {},
   "source": [
    "### 신경망에서의 활용\n",
    "- 단순 신경망 학습"
   ]
  },
  {
   "cell_type": "code",
   "execution_count": 7,
   "id": "57b2f3f0",
   "metadata": {},
   "outputs": [],
   "source": [
    "def sigmoid(x):\n",
    "    return 1 / (1 + np.exp(-x))\n",
    "\n",
    "def sigmoid_d(x):\n",
    "    return sigmoid(x) * (1-sigmoid(x))"
   ]
  },
  {
   "cell_type": "code",
   "execution_count": 5,
   "id": "e5bb248b",
   "metadata": {},
   "outputs": [],
   "source": [
    "x = np.array([0.5, 0.8])\n",
    "y = np.array([1])\n",
    "\n",
    "W = np.array([0.2, 0.4])"
   ]
  },
  {
   "cell_type": "code",
   "execution_count": 8,
   "id": "8d46fc78",
   "metadata": {},
   "outputs": [
    {
     "name": "stdout",
     "output_type": "stream",
     "text": [
      "[0.20474415 0.40759064]\n"
     ]
    }
   ],
   "source": [
    "# 순전파\n",
    "z = np.dot(x, W)\n",
    "r = sigmoid(z)\n",
    "\n",
    "# 오차 계산 \n",
    "loss = 0.5 * (y - r) ** 2\n",
    "\n",
    "# 역전파 (기울기 계산)\n",
    "delta = (r - y) * sigmoid_d(z)\n",
    "grad_w = delta * x\n",
    "\n",
    "# 가중치 갱신\n",
    "W -= 0.1 * grad_w              # 0.1 == learning_rate\n",
    "\n",
    "print(W)"
   ]
  },
  {
   "cell_type": "markdown",
   "id": "6eb22992",
   "metadata": {},
   "source": [
    "- 은닉층 추가 "
   ]
  },
  {
   "cell_type": "code",
   "execution_count": 13,
   "id": "5a864656",
   "metadata": {},
   "outputs": [],
   "source": [
    "def relu(x) :\n",
    "    return np.maximum(0, x)\n",
    "\n",
    "def relu_d(x):\n",
    "    return np.where(x > 0, 1, 0)"
   ]
  },
  {
   "cell_type": "code",
   "execution_count": 15,
   "id": "f555226f",
   "metadata": {},
   "outputs": [],
   "source": [
    "x = np.array([0.5, 0.8])   # (2, )\n",
    "y = np.array([1])          # (1, )\n",
    "\n",
    "W1 = np.array([[0.2, 0.4], [0.1, 0.3]])       # (2, 2)\n",
    "b1 = np.array([0.1, 0.2])                     # (2, )\n",
    "W2 = np.array([[0.5], [0.6]])                 # (2. 1)\n",
    "b2 = np.array([0.3])                          # (1, )"
   ]
  },
  {
   "cell_type": "code",
   "execution_count": 16,
   "id": "c6cd0d24",
   "metadata": {},
   "outputs": [
    {
     "name": "stdout",
     "output_type": "stream",
     "text": [
      "[[0.5004928]\n",
      " [0.6011264]]\n",
      "[[0.20044   0.400528 ]\n",
      " [0.100704  0.3008448]]\n"
     ]
    }
   ],
   "source": [
    "# 순전파 \n",
    "z1 = np.dot(x, W1) + b1\n",
    "r1 = relu(z1)\n",
    "\n",
    "z2 = np.dot(r1, W2) + b2\n",
    "r2 = relu(z2)\n",
    "\n",
    "# 손실 계산 -> 역전파 (기울기 계산)\n",
    "delta2 = (r2 - y) * relu_d(z2)\n",
    "grad_W2 = np.outer(r1, delta2)\n",
    "\n",
    "delta1 = np.dot(W2, delta2) * relu_d(z1)\n",
    "grad_W1 = np.outer(x, delta1)\n",
    "\n",
    "# 가중치 갱신\n",
    "learning_rate = 0.01\n",
    "W2 -= learning_rate * grad_W2\n",
    "W1 -= learning_rate * grad_W1\n",
    "\n",
    "print(W2)\n",
    "print(W1)"
   ]
  },
  {
   "cell_type": "markdown",
   "id": "4a294884",
   "metadata": {},
   "source": [
    "### 수치미분과 역전파 "
   ]
  },
  {
   "cell_type": "code",
   "execution_count": null,
   "id": "c5bd8b22",
   "metadata": {},
   "outputs": [
    {
     "name": "stdout",
     "output_type": "stream",
     "text": [
      "6.000000000039306\n",
      "6.0\n"
     ]
    }
   ],
   "source": [
    "def f(x):\n",
    "    return x **2\n",
    "\n",
    "def num_d_gradient(f, x):\n",
    "    h = 1e-5\n",
    "    return (f(x + h) - f(x - h)) / (2 * h)   # 수치미분 중앙차원법\n",
    "\n",
    "def backward_gradient(x) : \n",
    "    return 2 * x             # 해석적 미분? 검증 목적으로 사용 \n",
    "\n",
    "print(num_d_gradient(f, 3.0))\n",
    "print(backward_gradient(3.0))"
   ]
  },
  {
   "cell_type": "markdown",
   "id": "5043acdd",
   "metadata": {},
   "source": [
    "##### 숫자 맞추기 AI"
   ]
  },
  {
   "cell_type": "code",
   "execution_count": 22,
   "id": "2cc0ee4d",
   "metadata": {},
   "outputs": [
    {
     "name": "stdout",
     "output_type": "stream",
     "text": [
      "epoch 100 | 예측값 41.99886313461546 | 손실 7.978166065210436e-07\n",
      "epoch 200 | 예측값 41.99999996980326 | 손실 5.628659180927374e-16\n",
      "epoch 300 | 예측값 41.9999999999992 | 손실 4.0076658340124107e-25\n",
      "epoch 400 | 예측값 41.99999999999997 | 손실 4.0389678347315804e-28\n",
      "epoch 500 | 예측값 41.99999999999997 | 손실 4.0389678347315804e-28\n",
      "최종 예측값: 41.99999999999997\n"
     ]
    }
   ],
   "source": [
    "target_number = 42\n",
    "guess = np.random.randn()\n",
    "learning_rate = 0.1\n",
    "epochs = 500\n",
    "\n",
    "for i in range(epochs) : \n",
    "    # 오차 계산 \n",
    "    loss = 0.5 * ((guess - target_number) ** 2)\n",
    "    # 역전파 (기울기 계산)\n",
    "    grad = (guess - target_number)\n",
    "\n",
    "    # 업데이트 (guess 계산)\n",
    "    guess -= learning_rate * grad\n",
    "    # epoch 100 마다 예측값과 손실 출력 \n",
    "    if (i+1) % 100 == 0 :\n",
    "     print(f'epoch { i +1 } | 예측값 {guess} | 손실 {loss}')\n",
    "# 최종 예측값 guess 출력\n",
    "print(f'최종 예측값: {guess}')"
   ]
  }
 ],
 "metadata": {
  "kernelspec": {
   "display_name": "torch_env",
   "language": "python",
   "name": "python3"
  },
  "language_info": {
   "codemirror_mode": {
    "name": "ipython",
    "version": 3
   },
   "file_extension": ".py",
   "mimetype": "text/x-python",
   "name": "python",
   "nbconvert_exporter": "python",
   "pygments_lexer": "ipython3",
   "version": "3.12.11"
  }
 },
 "nbformat": 4,
 "nbformat_minor": 5
}
