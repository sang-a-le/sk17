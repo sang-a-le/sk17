{
 "cells": [
  {
   "cell_type": "markdown",
   "id": "cc0d9f4d",
   "metadata": {},
   "source": [
    "### **[실습 1] 1차원 배열 병합**\n",
    "\n",
    "<aside>\n",
    "💡\n",
    "\n",
    "다음 두 개의 1차원 배열을 `np.concatenate()`와 `np.hstack()`을 사용하여 병합하세요.\n",
    "\n",
    "</aside>"
   ]
  },
  {
   "cell_type": "code",
   "execution_count": 12,
   "id": "a2019981",
   "metadata": {},
   "outputs": [],
   "source": [
    "import numpy as np"
   ]
  },
  {
   "cell_type": "code",
   "execution_count": 21,
   "id": "86f42d94",
   "metadata": {},
   "outputs": [
    {
     "name": "stdout",
     "output_type": "stream",
     "text": [
      "[1 2 3 4 5 6]\n",
      "[1 2 3 4 5 6]\n"
     ]
    }
   ],
   "source": [
    "arr1 = np.array([1, 2, 3])\n",
    "arr2 = np.array([4, 5, 6])\n",
    "\n",
    "print(np.concatenate((arr1, arr2)))\n",
    "print(np.hstack((arr1, arr2)))"
   ]
  },
  {
   "cell_type": "markdown",
   "id": "3a55ae1e",
   "metadata": {},
   "source": [
    "### **[실습 2] 2차원 배열 병합**\n",
    "\n",
    "<aside>\n",
    "💡\n",
    "\n",
    "다음 두 개의 2차원 배열을 `np.concatenate()`와 `np.vstack()`을 사용하여 각각 병합하세요.\n",
    "\n",
    "</aside>"
   ]
  },
  {
   "cell_type": "code",
   "execution_count": 24,
   "id": "c93148f9",
   "metadata": {},
   "outputs": [
    {
     "name": "stdout",
     "output_type": "stream",
     "text": [
      "[[1 2]\n",
      " [3 4]\n",
      " [5 6]\n",
      " [7 8]]\n",
      "[[1 2]\n",
      " [3 4]\n",
      " [5 6]\n",
      " [7 8]]\n"
     ]
    }
   ],
   "source": [
    "arr1 = np.array([[1, 2], [3, 4]])\n",
    "arr2 = np.array([[5, 6], [7, 8]])\n",
    "\n",
    "print(np.concatenate((arr1, arr2)))\n",
    "print(np.vstack((arr1, arr2)))"
   ]
  }
 ],
 "metadata": {
  "kernelspec": {
   "display_name": "pystudy_env",
   "language": "python",
   "name": "python3"
  },
  "language_info": {
   "codemirror_mode": {
    "name": "ipython",
    "version": 3
   },
   "file_extension": ".py",
   "mimetype": "text/x-python",
   "name": "python",
   "nbconvert_exporter": "python",
   "pygments_lexer": "ipython3",
   "version": "3.12.11"
  }
 },
 "nbformat": 4,
 "nbformat_minor": 5
}
