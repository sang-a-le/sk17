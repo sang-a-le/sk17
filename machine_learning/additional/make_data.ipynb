{
 "cells": [
  {
   "cell_type": "markdown",
   "id": "b22a7f37",
   "metadata": {},
   "source": [
    "# 가상 데이터 생성 (Faker)"
   ]
  },
  {
   "cell_type": "code",
   "execution_count": 1,
   "id": "3ed837e8",
   "metadata": {},
   "outputs": [
    {
     "name": "stdout",
     "output_type": "stream",
     "text": [
      "Collecting faker\n",
      "  Downloading faker-37.5.3-py3-none-any.whl.metadata (15 kB)\n",
      "Requirement already satisfied: tzdata in c:\\users\\playdata\\anaconda3\\envs\\ml_env\\lib\\site-packages (from faker) (2025.2)\n",
      "Downloading faker-37.5.3-py3-none-any.whl (1.9 MB)\n",
      "   ---------------------------------------- 0.0/1.9 MB ? eta -:--:--\n",
      "   ---------------------------------------- 0.0/1.9 MB ? eta -:--:--\n",
      "   ----- ---------------------------------- 0.3/1.9 MB ? eta -:--:--\n",
      "   ----- ---------------------------------- 0.3/1.9 MB ? eta -:--:--\n",
      "   ---------- ----------------------------- 0.5/1.9 MB 882.6 kB/s eta 0:00:02\n",
      "   ---------- ----------------------------- 0.5/1.9 MB 882.6 kB/s eta 0:00:02\n",
      "   ---------------- ----------------------- 0.8/1.9 MB 633.2 kB/s eta 0:00:02\n",
      "   ---------------- ----------------------- 0.8/1.9 MB 633.2 kB/s eta 0:00:02\n",
      "   ---------------- ----------------------- 0.8/1.9 MB 633.2 kB/s eta 0:00:02\n",
      "   --------------------- ------------------ 1.0/1.9 MB 565.8 kB/s eta 0:00:02\n",
      "   --------------------- ------------------ 1.0/1.9 MB 565.8 kB/s eta 0:00:02\n",
      "   --------------------- ------------------ 1.0/1.9 MB 565.8 kB/s eta 0:00:02\n",
      "   -------------------------- ------------- 1.3/1.9 MB 501.0 kB/s eta 0:00:02\n",
      "   -------------------------- ------------- 1.3/1.9 MB 501.0 kB/s eta 0:00:02\n",
      "   -------------------------- ------------- 1.3/1.9 MB 501.0 kB/s eta 0:00:02\n",
      "   -------------------------- ------------- 1.3/1.9 MB 501.0 kB/s eta 0:00:02\n",
      "   -------------------------- ------------- 1.3/1.9 MB 501.0 kB/s eta 0:00:02\n",
      "   -------------------------- ------------- 1.3/1.9 MB 501.0 kB/s eta 0:00:02\n",
      "   -------------------------------- ------- 1.6/1.9 MB 392.1 kB/s eta 0:00:01\n",
      "   ------------------------------------- -- 1.8/1.9 MB 437.8 kB/s eta 0:00:01\n",
      "   ---------------------------------------- 1.9/1.9 MB 457.6 kB/s eta 0:00:00\n",
      "Installing collected packages: faker\n",
      "Successfully installed faker-37.5.3\n"
     ]
    }
   ],
   "source": [
    "!pip install faker"
   ]
  },
  {
   "cell_type": "code",
   "execution_count": null,
   "id": "2bf99157",
   "metadata": {},
   "outputs": [
    {
     "name": "stdout",
     "output_type": "stream",
     "text": [
      "Sarah Watson\n",
      "Ashley , Larson\n",
      "griffithjames@example.net\n",
      "Klein, Byrd and Yang\n",
      "1958-01-27\n"
     ]
    }
   ],
   "source": [
    "from faker import Faker\n",
    "\n",
    "fake = Faker()\n",
    "print(fake.name())\n",
    "print(fake.first_name(), ',', fake.last_name())\n",
    "print(fake.email())\n",
    "print(fake.company())\n",
    "print(fake.date_of_birth(minimum_age=19, maximum_age=90))   # "
   ]
  },
  {
   "cell_type": "code",
   "execution_count": null,
   "id": "900e55ca",
   "metadata": {},
   "outputs": [],
   "source": [
    "import pandas as pd \n",
    "\n",
    "# 가상 데이더를 생성하여 DataFrame으로 반환하는 함수 \n",
    "def generate_customer_data(n=1000) :\n",
    "\n",
    "    # age : 19세 ~ 60세 사이 \n",
    "    # sub_months : 구독 개월 수 (최소 1개월, 최대 10개월)\n",
    "    # monthly_payment : 월 결제 금액 (10달라~100달라)\n",
    "    # usage_frequency : 월간 사용 빈도 (최소 1회, 최대 30회)\n",
    "    # stft_score : 고객 만족도 점수 (1~5정)\n",
    "    # churn : 고객 이탈 여부 (30% 비율로 이탈)\n",
    "\n",
    "    fake\n",
    "\n",
    "    return pd.DataFrame()"
   ]
  }
 ],
 "metadata": {
  "kernelspec": {
   "display_name": "ml_env",
   "language": "python",
   "name": "python3"
  },
  "language_info": {
   "codemirror_mode": {
    "name": "ipython",
    "version": 3
   },
   "file_extension": ".py",
   "mimetype": "text/x-python",
   "name": "python",
   "nbconvert_exporter": "python",
   "pygments_lexer": "ipython3",
   "version": "3.12.11"
  }
 },
 "nbformat": 4,
 "nbformat_minor": 5
}
