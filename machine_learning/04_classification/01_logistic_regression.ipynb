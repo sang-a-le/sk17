{
 "cells": [
  {
   "cell_type": "markdown",
   "id": "c35618df",
   "metadata": {},
   "source": [
    "# 분류(Classification)\n",
    "\n"
   ]
  },
  {
   "cell_type": "markdown",
   "id": "4930f405",
   "metadata": {},
   "source": [
    "### 이진 분류를 위한 Sigmoid 함수 \n",
    "- 선형회귀식을 통해 도출한 예측값(z)을 0과 1 사이의 수로 변환해주는 활성화 함수 (Activation Function)\n",
    "\n",
    "$\n",
    "    시그모이드(z) = \\frac{1}{1 + e^{-z}}\n",
    "$"
   ]
  },
  {
   "cell_type": "code",
   "execution_count": 18,
   "id": "d1a3155a",
   "metadata": {},
   "outputs": [],
   "source": [
    "import numpy as np \n",
    "import pandas as pd \n",
    "import matplotlib.pyplot as plt \n",
    "import seaborn as sns"
   ]
  },
  {
   "cell_type": "code",
   "execution_count": 19,
   "id": "6392f649",
   "metadata": {},
   "outputs": [
    {
     "data": {
      "image/png": "[encoded data removed]",
      "text/plain": [
       "<Figure size 640x480 with 1 Axes>"
      ]
     },
     "metadata": {},
     "output_type": "display_data"
    }
   ],
   "source": [
    "# 시그모이드 시각화 \n",
    "z = np.linspace(-5, 5, 100)   # (임의의) 선형회귀 결과값\n",
    "sigmoid_value = 1 / (1 + np.exp(-z))\n",
    "\n",
    "plt.plot(z, sigmoid_value)\n",
    "plt.xlabel('z')\n",
    "plt.ylabel('sigmoid(z)')\n",
    "plt.grid()\n",
    "plt.show()"
   ]
  },
  {
   "cell_type": "code",
   "execution_count": 20,
   "id": "0c4c271e",
   "metadata": {},
   "outputs": [
    {
     "data": {
      "text/plain": [
       "Species\n",
       "Bream    35\n",
       "Smelt    14\n",
       "Name: count, dtype: int64"
      ]
     },
     "execution_count": 20,
     "metadata": {},
     "output_type": "execute_result"
    }
   ],
   "source": [
    "# 이진분류를 위한 데이터셋 준비 (도미, 빙어)\n",
    "fish_df = pd.read_csv('./data/fish.csv')\n",
    "# fish_df['Species'].value_counts()\n",
    "\n",
    "is_bream_or_smelt = ((fish_df['Species'] == 'Bream') | (fish_df['Species'] == 'Smelt'))\n",
    "fish_df = fish_df[is_bream_or_smelt]\n",
    "fish_df['Species'].value_counts()    "
   ]
  },
  {
   "cell_type": "code",
   "execution_count": 21,
   "id": "6bd36ca0",
   "metadata": {},
   "outputs": [],
   "source": [
    "# 데이터 분리 및 정규화 (X-y 데이터 분리 / 훈련-평가 데이터 분리 / 정규화)\n",
    "from sklearn.model_selection import train_test_split\n",
    "from sklearn.preprocessing import StandardScaler\n",
    "\n",
    "X = fish_df.drop('Species', axis=1)\n",
    "y = fish_df['Species']\n",
    "\n",
    "X_train, X_test, y_train, y_test = train_test_split(X, y, random_state = 42)\n",
    "\n",
    "scaler = StandardScaler()\n",
    "X_train_scaled = scaler.fit_transform(X_train)\n",
    "X_test_scaled = scaler.fit_transform(X_test)"
   ]
  },
  {
   "cell_type": "code",
   "execution_count": 22,
   "id": "788f8c7b",
   "metadata": {},
   "outputs": [
    {
     "name": "stdout",
     "output_type": "stream",
     "text": [
      "1.0 1.0\n"
     ]
    }
   ],
   "source": [
    "# 모델 학습 및 평가 \n",
    "from sklearn.linear_model import LogisticRegression\n",
    "\n",
    "lr_clf = LogisticRegression()\n",
    "lr_clf.fit(X_train_scaled, y_train)\n",
    "print(lr_clf.score(X_train_scaled, y_train), lr_clf.score(X_test_scaled, y_test))"
   ]
  },
  {
   "cell_type": "code",
   "execution_count": 23,
   "id": "6f703bd0",
   "metadata": {},
   "outputs": [
    {
     "name": "stdout",
     "output_type": "stream",
     "text": [
      "['Bream' 'Smelt' 'Smelt']\n",
      "['Bream' 'Smelt']\n",
      "[[0.94897272 0.05102728]\n",
      " [0.01069927 0.98930073]\n",
      " [0.02188743 0.97811257]]\n"
     ]
    }
   ],
   "source": [
    "y_pred = lr_clf.predict(X_test_scaled[:3])      # 예측\n",
    "print(y_pred)\n",
    "\n",
    "print(lr_clf.classes_)                          # 분류 카테고리\n",
    "print(lr_clf.predict_proba(X_test_scaled[:3]))  # 클래스별 확률 : 주어진 값에 대해 예측 확률을 계산하는 것.  / bream, smelt 에 대한 예측 확률 반환 "
   ]
  },
  {
   "cell_type": "code",
   "execution_count": 24,
   "id": "bec12b2e",
   "metadata": {},
   "outputs": [
    {
     "name": "stdout",
     "output_type": "stream",
     "text": [
      "[[-0.57717269 -0.79233938 -0.82533982 -0.86579233 -0.82205625]]\n",
      "[-2.38186126]\n",
      "[-2.92301974  4.5268231   3.79971238]\n",
      "[0.05102728 0.98930073 0.97811257]\n",
      "['Bream', 'Smelt', 'Smelt']\n",
      "['Bream', 'Smelt', 'Smelt']\n"
     ]
    }
   ],
   "source": [
    "# w1x1 + w2x2 + w3x3 + w4x4 + w5x5 + b\n",
    "\n",
    "print(lr_clf.coef_)\n",
    "print(lr_clf.intercept_)\n",
    "\n",
    "# X -> 선형회귀값 계산\n",
    "# z = np.dot(X_test_scaled[:3], lr_clf.coef_[0]) + lr_clf.intercept_\n",
    "z = lr_clf.decision_function(X_test_scaled[:3])\n",
    "print(z)\n",
    "\n",
    "# 시그모이드 함수 적용 -> 결과값\n",
    "sigmoid_value = 1 / (1 + np.exp(-z))\n",
    "print(sigmoid_value)\n",
    "\n",
    "# 결과값 -> 최종 분류 결과 \n",
    "result_arr = ['Smelt' if value >= 0.5 else 'Bream' for value in sigmoid_value]\n",
    "print(result_arr)\n",
    "\n",
    "result_arr = [ ]   # 반복문으로 진행(동일)\n",
    "for value in sigmoid_value :\n",
    "    if value >= 0.5 : \n",
    "        result_arr.append('Smelt')\n",
    "    else:\n",
    "        result_arr.append('Bream')\n",
    "print(result_arr)"
   ]
  },
  {
   "cell_type": "markdown",
   "id": "fbf39c9f",
   "metadata": {},
   "source": [
    "**다중 클래스 확률 계산 순서** \n",
    "깃확인"
   ]
  },
  {
   "cell_type": "code",
   "execution_count": 33,
   "id": "03cbd043",
   "metadata": {},
   "outputs": [],
   "source": [
    "# 데이터 셋 생성\n",
    "from sklearn.datasets import make_classification\n",
    "\n",
    "X, y = make_classification(\n",
    "    n_samples=100,\n",
    "    n_features=4,       # 특성 개수\n",
    "    n_informative=3, \n",
    "    n_redundant=0, \n",
    "    n_classes=3,        # 하나의 타겟데이터가 가지는 값\n",
    "    random_state=42\n",
    ")\n",
    "# 반환되는 값이 x, y형태로 나옴"
   ]
  },
  {
   "cell_type": "code",
   "execution_count": null,
   "id": "1a3ced8f",
   "metadata": {},
   "outputs": [],
   "source": [
    "# df.pd.DataFrame(X, columns=['f1', 'f2', 'f3', 'f4'])\n",
    "# df['target'] = y\n",
    "# df   # 영상 확인하기"
   ]
  },
  {
   "cell_type": "code",
   "execution_count": 34,
   "id": "3c8f4fc3",
   "metadata": {},
   "outputs": [],
   "source": [
    "# 데이터 분리\n",
    "X_train, X_test, y_train, y_test = train_test_split(X, y, random_state=42)\n"
   ]
  },
  {
   "cell_type": "code",
   "execution_count": 35,
   "id": "a96b892f",
   "metadata": {},
   "outputs": [
    {
     "data": {
      "text/plain": [
       "(0.7066666666666667, 0.44)"
      ]
     },
     "execution_count": 35,
     "metadata": {},
     "output_type": "execute_result"
    }
   ],
   "source": [
    "# 모델 학습 및 평가 \n",
    "lr_clf = LogisticRegression()\n",
    "lr_clf.fit(X_train, y_train)\n",
    "lr_clf.score(X_train, y_train), lr_clf.score(X_test, y_test)"
   ]
  },
  {
   "cell_type": "code",
   "execution_count": 36,
   "id": "fa40a1f5",
   "metadata": {},
   "outputs": [
    {
     "data": {
      "text/plain": [
       "array([1, 0, 0, 1, 2])"
      ]
     },
     "execution_count": 36,
     "metadata": {},
     "output_type": "execute_result"
    }
   ],
   "source": [
    "# 예측(분류)\n",
    "lr_clf.predict(X_test[:5])"
   ]
  },
  {
   "cell_type": "code",
   "execution_count": null,
   "id": "c49fff1e",
   "metadata": {},
   "outputs": [
    {
     "data": {
      "text/plain": [
       "array([[0.22917118, 0.39960169, 0.37122713],\n",
       "       [0.83550691, 0.16166581, 0.00282727],\n",
       "       [0.573597  , 0.32484717, 0.10155583],\n",
       "       [0.20188375, 0.64427073, 0.15384551],\n",
       "       [0.02755811, 0.07287149, 0.8995704 ]])"
      ]
     },
     "execution_count": 37,
     "metadata": {},
     "output_type": "execute_result"
    }
   ],
   "source": [
    "lr_clf.predict_proba(X_test[:5])    # 분류 기준 확인 "
   ]
  },
  {
   "cell_type": "code",
   "execution_count": 38,
   "id": "0d02952d",
   "metadata": {},
   "outputs": [
    {
     "name": "stdout",
     "output_type": "stream",
     "text": [
      "[[ 0.89441441  0.61903765 -0.35254926 -0.16837743]\n",
      " [ 0.10632026  0.03401018  0.43335793  0.09398105]\n",
      " [-1.00073467 -0.65304782 -0.08080867  0.07439638]]\n",
      "[ 0.29927161  0.3716549  -0.67092651]\n"
     ]
    }
   ],
   "source": [
    "print(lr_clf.coef_)\n",
    "print(lr_clf.intercept_)"
   ]
  },
  {
   "cell_type": "code",
   "execution_count": 40,
   "id": "f4288d04",
   "metadata": {},
   "outputs": [
    {
     "data": {
      "text/plain": [
       "array([[-0.34611464,  0.20988442,  0.13623022],\n",
       "       [ 2.44374453,  0.80123723, -3.24498176],\n",
       "       [ 0.76663021,  0.19805797, -0.96468818],\n",
       "       [-0.29622795,  0.86419902, -0.56797107],\n",
       "       [-1.48600708, -0.51360637,  1.99961345]])"
      ]
     },
     "execution_count": 40,
     "metadata": {},
     "output_type": "execute_result"
    }
   ],
   "source": [
    "z = lr_clf.decision_function(X_test[:5])\n",
    "z"
   ]
  },
  {
   "cell_type": "code",
   "execution_count": 45,
   "id": "79b66252",
   "metadata": {},
   "outputs": [],
   "source": [
    "def softmax(z):\n",
    "    exp_z = np.exp(z)     # e^z     (5, 3) 행렬 형태로 반환\n",
    "    sum_exp_z = np.sum(exp_z, axis=1, keepdims=True)    # 열방향 합계 / (5, 1) 형태 반환 = sum 함수의 차원축소로 인해 오류 발행 // keepdims=True를 통해 \n",
    "    return exp_z / sum_exp_z\n",
    "\n",
    "# softmax\n",
    "# e^z / e^z1 + e^z2 + e^z3\n",
    "\n",
    "y_pred_proba = softmax(z)"
   ]
  },
  {
   "cell_type": "code",
   "execution_count": 47,
   "id": "c9e84a6b",
   "metadata": {},
   "outputs": [
    {
     "data": {
      "text/plain": [
       "array([[0.22917118, 0.39960169, 0.37122713],\n",
       "       [0.83550691, 0.16166581, 0.00282727],\n",
       "       [0.573597  , 0.32484717, 0.10155583],\n",
       "       [0.20188375, 0.64427073, 0.15384551],\n",
       "       [0.02755811, 0.07287149, 0.8995704 ]])"
      ]
     },
     "execution_count": 47,
     "metadata": {},
     "output_type": "execute_result"
    }
   ],
   "source": [
    "import scipy\n",
    "\n",
    "scipy.special.softmax(z, axis=1)"
   ]
  },
  {
   "cell_type": "code",
   "execution_count": 46,
   "id": "bc04df8f",
   "metadata": {},
   "outputs": [
    {
     "data": {
      "text/plain": [
       "array([1, 0, 0, 1, 2])"
      ]
     },
     "execution_count": 46,
     "metadata": {},
     "output_type": "execute_result"
    }
   ],
   "source": [
    "np.argmax(y_pred_proba, axis=1)"
   ]
  },
  {
   "cell_type": "code",
   "execution_count": null,
   "id": "51db0654",
   "metadata": {},
   "outputs": [],
   "source": [
    "# sum 함수 주의사항\n",
    "\n",
    "\n",
    "# 차원이 축소됨. "
   ]
  },
  {
   "cell_type": "markdown",
   "id": "a70aeecf",
   "metadata": {},
   "source": [
    "- 다중 생선 분류"
   ]
  },
  {
   "cell_type": "code",
   "execution_count": null,
   "id": "0eb6ba5a",
   "metadata": {},
   "outputs": [],
   "source": [
    "# 데이터 로드 \n",
    "fish_df = pd.read_csv('./data/fish.csv')\n",
    "\n"
   ]
  },
  {
   "cell_type": "code",
   "execution_count": null,
   "id": "3a0dc2ee",
   "metadata": {},
   "outputs": [],
   "source": [
    "# 데이터 분리 및 정규화 (x, y, teat, train)\n",
    "from sklearn.model_selection import train_test_split\n",
    "from sklearn.preprocessing import StandardScaler\n",
    "\n",
    "x = \n",
    "y = 라벨데이터만\n",
    "\n"
   ]
  },
  {
   "cell_type": "code",
   "execution_count": 51,
   "id": "0303e408",
   "metadata": {},
   "outputs": [],
   "source": [
    "# 모델 훈련 및 평가\n"
   ]
  },
  {
   "cell_type": "code",
   "execution_count": null,
   "id": "536979af",
   "metadata": {},
   "outputs": [],
   "source": [
    "# 모델이 학습한 클래스 출력해보기 \n",
    "lr_clf."
   ]
  },
  {
   "cell_type": "code",
   "execution_count": 48,
   "id": "9c11b27a",
   "metadata": {},
   "outputs": [],
   "source": [
    "# 테스트 데이터 5개에 대한 예측 확률 출력해보기\n"
   ]
  },
  {
   "cell_type": "code",
   "execution_count": null,
   "id": "fab774a6",
   "metadata": {},
   "outputs": [],
   "source": [
    "# 모델의 가중치와 절편을 가져와 z 값을 직접 계산해보기 (decision_function 사용 x)\n",
    "# softmax 항수 적용 (위에서 만든 softmax() 함수 활용)\n"
   ]
  }
 ],
 "metadata": {
  "kernelspec": {
   "display_name": "ml_env",
   "language": "python",
   "name": "python3"
  },
  "language_info": {
   "codemirror_mode": {
    "name": "ipython",
    "version": 3
   },
   "file_extension": ".py",
   "mimetype": "text/x-python",
   "name": "python",
   "nbconvert_exporter": "python",
   "pygments_lexer": "ipython3",
   "version": "3.12.11"
  }
 },
 "nbformat": 4,
 "nbformat_minor": 5
}
