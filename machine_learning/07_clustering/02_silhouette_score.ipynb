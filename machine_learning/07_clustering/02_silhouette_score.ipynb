{
 "cells": [
  {
   "cell_type": "markdown",
   "id": "ee6936a4",
   "metadata": {},
   "source": [
    "# Silhouette Score :  군집 평가 \n",
    "- 실루엣 계수를 통해 군집화의 품질 형가 \n",
    "- 실루엣 계수는 -1에서 1 사이의 값을 가짐\n",
    "    - 1에 가까울수록 군집화 잘굄 (다른 군집과 잘 분리되어 있음)\n",
    "    - 0은 군집의 경계에 위치함\n",
    "    - -1은 다른 군집과 겹치거나 발못 분류된 경우 \n",
    "\n",
    "**주요함수**\n",
    "- silhouette_samples : 개별 데이터 포인트의 점수 \n",
    "- silhouette_score : 전체 데이터 포인트의 평균값"
   ]
  },
  {
   "cell_type": "code",
   "execution_count": 1,
   "id": "d90c8b7c",
   "metadata": {},
   "outputs": [],
   "source": [
    "import numpy as np \n",
    "import pandas as pd \n",
    "import matplotlib.pyplot as plt \n",
    "import seaborn as sns "
   ]
  },
  {
   "cell_type": "code",
   "execution_count": 2,
   "id": "7e84f289",
   "metadata": {},
   "outputs": [],
   "source": [
    "from sklearn.datasets import load_iris\n",
    "\n",
    "iris_data = load_iris()\n",
    "iris_df = pd.DataFrame(iris_data.data, columns=iris_data.feature_names)\n",
    "iris_df['species'] = iris_data.target"
   ]
  },
  {
   "cell_type": "code",
   "execution_count": 3,
   "id": "386c0e64",
   "metadata": {},
   "outputs": [],
   "source": [
    "from sklearn.cluster import KMeans\n",
    "\n",
    "kmeans = KMeans(n_clusters=3, init = 'k-means++', max_iter=100, random_state=0)\n",
    "kmeans.fit(iris_data.data)\n",
    "iris_df['cluster'] = kmeans.labels_"
   ]
  },
  {
   "cell_type": "code",
   "execution_count": 4,
   "id": "48214a12",
   "metadata": {},
   "outputs": [
    {
     "data": {
      "text/plain": [
       "(150,)"
      ]
     },
     "execution_count": 4,
     "metadata": {},
     "output_type": "execute_result"
    }
   ],
   "source": [
    "from sklearn.metrics import silhouette_samples, silhouette_score\n",
    "\n",
    "sil_samples = silhouette_samples(iris_data.data, kmeans.labels_)\n",
    "sil_samples.shape"
   ]
  },
  {
   "cell_type": "code",
   "execution_count": null,
   "id": "6d20cbfb",
   "metadata": {},
   "outputs": [
    {
     "data": {
      "text/plain": [
       "(0.551191604619592, np.float64(0.551191604619592))"
      ]
     },
     "execution_count": 6,
     "metadata": {},
     "output_type": "execute_result"
    }
   ],
   "source": [
    "sil_score = silhouette_score(iris_data.data, kmeans.labels_)\n",
    "sil_score, sil_samples.mean()  "
   ]
  },
  {
   "cell_type": "code",
   "execution_count": null,
   "id": "2a30b192",
   "metadata": {},
   "outputs": [],
   "source": [
    "# k 개수에 따른 실루엣 개수 시각화 코드 "
   ]
  }
 ],
 "metadata": {
  "kernelspec": {
   "display_name": "ml_env",
   "language": "python",
   "name": "python3"
  },
  "language_info": {
   "codemirror_mode": {
    "name": "ipython",
    "version": 3
   },
   "file_extension": ".py",
   "mimetype": "text/x-python",
   "name": "python",
   "nbconvert_exporter": "python",
   "pygments_lexer": "ipython3",
   "version": "3.12.11"
  }
 },
 "nbformat": 4,
 "nbformat_minor": 5
}
