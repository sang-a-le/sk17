{
 "cells": [
  {
   "cell_type": "markdown",
   "id": "2a2502fc",
   "metadata": {},
   "source": [
    "# ndarray 병합 및 분할"
   ]
  },
  {
   "cell_type": "code",
   "execution_count": 3,
   "id": "baf75c79",
   "metadata": {},
   "outputs": [],
   "source": [
    "import numpy as np"
   ]
  },
  {
   "cell_type": "markdown",
   "id": "09e7b97a",
   "metadata": {},
   "source": [
    "### ndarray 요소 추가 및 삭제\n",
    "- ndarray는 고정 길이 배열이다. == 크기 변경이 불가하다. == 요소를 추가할 수 없다(삭제할 수 없다.) \n",
    "- * 원본이 바뀐 것이 아니라 원본에 새로운 것을 추가하여 새로운 array를 만드는 것"
   ]
  },
  {
   "cell_type": "code",
   "execution_count": null,
   "id": "b33c56f9",
   "metadata": {},
   "outputs": [
    {
     "name": "stdout",
     "output_type": "stream",
     "text": [
      "[10 20 30]\n",
      "[10 20 30 40]\n",
      "[ 10 999  20  30]\n",
      "False\n"
     ]
    }
   ],
   "source": [
    "# np.append(원본배열, 삽입한 요소) : 요소를 추가한 새로운 배열을 반환\n",
    "# np.insert(원본배열, 삽입할 위치 인덱스, 삽입할 요소) : 요소를 추가한 새로운 배열을 반환\n",
    "\n",
    "arr = np.array([10, 20, 30])\n",
    "\n",
    "arr1 = np.append(arr, 40)          # 함수\n",
    "arr2 = np.insert(arr, 1, 999)      # insert(배열, 인덱스, 값)\n",
    "\n",
    "print(arr)                         # append, insert가 출력된 결과는 포함하지 않음\n",
    "print(arr1)\n",
    "print(arr2)\n",
    "\n",
    "print(arr2 is arr)                 # 서로 일치하는지 알아보는 함수"
   ]
  },
  {
   "cell_type": "code",
   "execution_count": null,
   "id": "f2570ca4",
   "metadata": {},
   "outputs": [
    {
     "name": "stdout",
     "output_type": "stream",
     "text": [
      "[[ 1  2  3  4]\n",
      " [ 5  6  7  8]\n",
      " [ 9 10 11 12]]\n",
      "[  1 100   2   3   4   5   6   7   8   9  10  11  12]\n",
      "[[  1   2   3   4]\n",
      " [100 100 100 100]\n",
      " [  5   6   7   8]\n",
      " [  9  10  11  12]]\n",
      "[[  1 100   2   3   4]\n",
      " [  5 100   6   7   8]\n",
      " [  9 100  10  11  12]]\n"
     ]
    }
   ],
   "source": [
    "# 2차원 배열에서 insert()\n",
    "arr_2d = np.arange(1, 13).reshape(3, 4)\n",
    "print(arr_2d)\n",
    "\n",
    "# np.append(arr_2d, 100)\n",
    "print(np.insert(arr_2d, 1, 100))     # 요소가 제거됨. axis=None : 1차원 배열로 변환 후 요소 삽입\n",
    "\n",
    "# 파라미터 -> 원본배열, 삽입할 위치 인덱스, 삽입할 요소, axis (0: 행 기준 / 1: 열 기준)\n",
    "print(np.insert(arr_2d, 1, 100, axis=0))   # 행 기준 [1] 위치 요소에 값 부여. 다른 값은 한 줄 밀려남.\n",
    "print(np.insert(arr_2d, 1, 100, axis=1))   "
   ]
  },
  {
   "cell_type": "code",
   "execution_count": null,
   "id": "a74520c9",
   "metadata": {},
   "outputs": [
    {
     "name": "stdout",
     "output_type": "stream",
     "text": [
      "[[  1 100   2   3   4]\n",
      " [  5 100   6   7   8]\n",
      " [  9 100  10  11  12]]\n",
      "[[  1 100   2   3   4]\n",
      " [  5 100   6   7   8]\n",
      " [  9 100  10  11  12]]\n",
      "[[  1 100   2   3   4]\n",
      " [  5 200   6   7   8]\n",
      " [  9 300  10  11  12]]\n",
      "[[  1   2   3   4]\n",
      " [100 200 300 400]\n",
      " [  5   6   7   8]\n",
      " [  9  10  11  12]]\n"
     ]
    }
   ],
   "source": [
    "print(np.insert(arr_2d, 1, 100, axis=1))  # 스칼라값\n",
    "print(np.insert(arr_2d, 1, [100], axis=1)) # 배열 형태\n",
    "print(np.insert(arr_2d, 1, [100, 200, 300], axis=1))  # 여러 값 가능\n",
    "# print(np.insert(arr_2d, 1, [100, 200, 300], axis=0))  # shape의 형태와 동일하게 작성해야함. \n",
    "                                                        # 삽입하려는 값의 형태가 기존 shape에 맞지 않으면 error 발생\n",
    "print(np.insert(arr_2d, 1, [100, 200, 300, 400], axis=0))"
   ]
  },
  {
   "cell_type": "code",
   "execution_count": null,
   "id": "6477aadb",
   "metadata": {},
   "outputs": [
    {
     "name": "stdout",
     "output_type": "stream",
     "text": [
      "[ 1  2  3  4  5  6  7  8  9 10 11 12 13 14]\n",
      "[ 1  2  3  4  5  6  7  9 10 11 12 13 14]\n"
     ]
    }
   ],
   "source": [
    "# np.delete(원본배열, 삭제할 요소의 위치 인덱스): 요소를 삭제한 새로운 배열을 반환\n",
    "\n",
    "arr = np.arange(1, 15)\n",
    "arr1 = np.delete(arr, 7)     # 원본배열, 삭제할 요소의 위치 인덱스\n",
    "\n",
    "print(arr)\n",
    "print(arr1)\n",
    "\n"
   ]
  },
  {
   "cell_type": "code",
   "execution_count": null,
   "id": "e73b1a9d",
   "metadata": {},
   "outputs": [
    {
     "name": "stdout",
     "output_type": "stream",
     "text": [
      "[[ 1  2  3  4]\n",
      " [ 5  6  7  8]\n",
      " [ 9 10 11 12]]\n",
      "[ 1  3  4  5  6  7  8  9 10 11 12]\n",
      "[[ 1  2  3  4]\n",
      " [ 9 10 11 12]]\n",
      "[[ 1  3  4]\n",
      " [ 5  7  8]\n",
      " [ 9 11 12]]\n"
     ]
    }
   ],
   "source": [
    "arr_2d = np.arange(1, 13).reshape(3, 4)\n",
    "\n",
    "print(arr_2d)\n",
    "print(np.delete(arr_2d, 1))            # axis=None : 1차원 배열로 변환 후 요소 삭제 \n",
    "print(np.delete(arr_2d, 1, axis = 0))\n",
    "print(np.delete(arr_2d, 1, axis = 1))"
   ]
  },
  {
   "cell_type": "markdown",
   "id": "384b3d08",
   "metadata": {},
   "source": [
    "---"
   ]
  },
  {
   "cell_type": "markdown",
   "id": "ff4906d4",
   "metadata": {},
   "source": [
    "### ndarray 병합\n",
    "- np.append()\n",
    "- np.vstack()\n",
    "- np.hstack()\n",
    "- np.concatenate()"
   ]
  },
  {
   "cell_type": "code",
   "execution_count": 28,
   "id": "b0fa0356",
   "metadata": {},
   "outputs": [
    {
     "data": {
      "text/plain": [
       "(array([[ 1,  2,  3,  4],\n",
       "        [ 5,  6,  7,  8],\n",
       "        [ 9, 10, 11, 12]]),\n",
       " array([[13, 14, 15, 16],\n",
       "        [17, 18, 19, 20],\n",
       "        [21, 22, 23, 24]]))"
      ]
     },
     "execution_count": 28,
     "metadata": {},
     "output_type": "execute_result"
    }
   ],
   "source": [
    "arr1 = np.arange(1, 13).reshape(3, 4)\n",
    "arr2 = np.arange(13, 25).reshape(3, 4)\n",
    "\n",
    "arr1, arr2"
   ]
  },
  {
   "cell_type": "code",
   "execution_count": null,
   "id": "d27721df",
   "metadata": {},
   "outputs": [
    {
     "name": "stdout",
     "output_type": "stream",
     "text": [
      "[ 1  2  3  4  5  6  7  8  9 10 11 12 13 14 15 16 17 18 19 20 21 22 23 24]\n",
      "[[ 1  2  3  4]\n",
      " [ 5  6  7  8]\n",
      " [ 9 10 11 12]\n",
      " [13 14 15 16]\n",
      " [17 18 19 20]\n",
      " [21 22 23 24]]\n",
      "[[ 1  2  3  4 13 14 15 16]\n",
      " [ 5  6  7  8 17 18 19 20]\n",
      " [ 9 10 11 12 21 22 23 24]]\n"
     ]
    }
   ],
   "source": [
    "# np.append()\n",
    "print(np.append(arr1, arr2))    # axis = NOne\n",
    "print(np.append(arr1, arr2, axis = 0))  # 행 방향으로 병합 (행 추가)\n",
    "print(np.append(arr1, arr2, axis = 1))  # 열 방향으로 병합 (열 추가)"
   ]
  },
  {
   "cell_type": "code",
   "execution_count": null,
   "id": "f348ffd6",
   "metadata": {},
   "outputs": [
    {
     "data": {
      "text/plain": [
       "array([[ 1,  2,  3,  4],\n",
       "       [ 5,  6,  7,  8],\n",
       "       [ 9, 10, 11, 12],\n",
       "       [13, 14, 15, 16],\n",
       "       [17, 18, 19, 20],\n",
       "       [21, 22, 23, 24]])"
      ]
     },
     "execution_count": 31,
     "metadata": {},
     "output_type": "execute_result"
    }
   ],
   "source": [
    "# np.vstack() : axis=0 병합 (수직)\n",
    "# 병합 대상 ndarray를 튜플/리스트로 묶어서 전달해야함. (파라미터를 하나만 받도록 만들어짐)\n",
    "# 열의 개수가 같아야함.\n",
    "\n",
    "np.vstack((arr1, arr2))"
   ]
  },
  {
   "cell_type": "code",
   "execution_count": null,
   "id": "9d986d0f",
   "metadata": {},
   "outputs": [
    {
     "data": {
      "text/plain": [
       "array([[ 1,  2,  3,  4, 13, 14, 15, 16],\n",
       "       [ 5,  6,  7,  8, 17, 18, 19, 20],\n",
       "       [ 9, 10, 11, 12, 21, 22, 23, 24]])"
      ]
     },
     "execution_count": 32,
     "metadata": {},
     "output_type": "execute_result"
    }
   ],
   "source": [
    "# np.hstack() : axis=1 병합 (수평)\n",
    "# 병합 대상 ndarray를 튜플/리스트로 묶어서 전달해야함.\n",
    "# 행의 개수가 같아야함.\n",
    "\n",
    "np.hstack([arr1, arr2])"
   ]
  },
  {
   "cell_type": "code",
   "execution_count": null,
   "id": "eb33fe7b",
   "metadata": {},
   "outputs": [
    {
     "name": "stdout",
     "output_type": "stream",
     "text": [
      "[[ 1  2  3  4]\n",
      " [ 5  6  7  8]\n",
      " [ 9 10 11 12]\n",
      " [13 14 15 16]\n",
      " [17 18 19 20]\n",
      " [21 22 23 24]]\n",
      "[[ 1  2  3  4]\n",
      " [ 5  6  7  8]\n",
      " [ 9 10 11 12]\n",
      " [13 14 15 16]\n",
      " [17 18 19 20]\n",
      " [21 22 23 24]]\n",
      "[[ 1  2  3  4 13 14 15 16]\n",
      " [ 5  6  7  8 17 18 19 20]\n",
      " [ 9 10 11 12 21 22 23 24]]\n",
      "[ 1  2  3  4  5  6  7  8  9 10 11 12 13 14 15 16 17 18 19 20 21 22 23 24]\n"
     ]
    }
   ],
   "source": [
    "# np.concatenate()\n",
    "# append 와 유사하나 병합 대상 ndarray를 묶어서 전달해야하며, axis 기본값이 0임. (append = None이였음.)\n",
    "\n",
    "# print(np.concatenate(arr1, arr2))   # 병합 대상 ndarray 묶어서 전달\n",
    "print(np.concatenate((arr1, arr2)))   # axis 기본값 == 0 \n",
    "print(np.concatenate((arr1, arr2), axis = 0)) \n",
    "print(np.concatenate((arr1, arr2), axis = 1)) \n",
    "print(np.concatenate((arr1, arr2), axis = None)) "
   ]
  },
  {
   "cell_type": "markdown",
   "id": "7605e89f",
   "metadata": {},
   "source": [
    "### ndarray 분할\n",
    "- split()"
   ]
  },
  {
   "cell_type": "code",
   "execution_count": 41,
   "id": "047e5e9f",
   "metadata": {},
   "outputs": [
    {
     "name": "stdout",
     "output_type": "stream",
     "text": [
      "[array([[ 1,  2,  3,  4],\n",
      "       [ 5,  6,  7,  8],\n",
      "       [ 9, 10, 11, 12]]), array([[13, 14, 15, 16],\n",
      "       [17, 18, 19, 20],\n",
      "       [21, 22, 23, 24]])]\n",
      "[array([[ 1,  2,  3,  4],\n",
      "       [ 5,  6,  7,  8],\n",
      "       [ 9, 10, 11, 12]]), array([[13, 14, 15, 16],\n",
      "       [17, 18, 19, 20],\n",
      "       [21, 22, 23, 24]])]\n",
      "[array([[ 1,  2],\n",
      "       [ 5,  6],\n",
      "       [ 9, 10],\n",
      "       [13, 14],\n",
      "       [17, 18],\n",
      "       [21, 22]]), array([[ 3,  4],\n",
      "       [ 7,  8],\n",
      "       [11, 12],\n",
      "       [15, 16],\n",
      "       [19, 20],\n",
      "       [23, 24]])]\n"
     ]
    }
   ],
   "source": [
    "arr = np.concatenate((arr1, arr2))   # 수직 방향 결합 (6,4)\n",
    "\n",
    "# np.split(원본 배열, 분할할 개수, axis)\n",
    "print(np.split(arr, 2))   # 리스트로 출력. 행 방향으로 분할(기본값 axis=0)\n",
    "print(np.split(arr, 2, axis=0))   # 행 기준\n",
    "print(np.split(arr, 2, axis=1))   # 열 기준"
   ]
  },
  {
   "cell_type": "code",
   "execution_count": null,
   "id": "fbb59a3d",
   "metadata": {},
   "outputs": [
    {
     "name": "stdout",
     "output_type": "stream",
     "text": [
      "[array([[ 1,  2,  3,  4],\n",
      "       [ 5,  6,  7,  8],\n",
      "       [ 9, 10, 11, 12]]), array([[13, 14, 15, 16],\n",
      "       [17, 18, 19, 20],\n",
      "       [21, 22, 23, 24]])]\n",
      "[array([[ 1,  2],\n",
      "       [ 5,  6],\n",
      "       [ 9, 10],\n",
      "       [13, 14],\n",
      "       [17, 18],\n",
      "       [21, 22]]), array([[ 3,  4],\n",
      "       [ 7,  8],\n",
      "       [11, 12],\n",
      "       [15, 16],\n",
      "       [19, 20],\n",
      "       [23, 24]])]\n"
     ]
    }
   ],
   "source": [
    "n = 2\n",
    "\n",
    "# 약수로만 분할 가능\n",
    "\n",
    "# arr의 shape (6, 4)\n",
    "print(np.split(arr, n, axis=0))  # 행 기준 -> 6행 -> 1, 2, 3, 6\n",
    "print(np.split(arr, n, axis=1))  # 열 기준 -> 4열 -> 1, 2, 4"
   ]
  }
 ],
 "metadata": {
  "kernelspec": {
   "display_name": "pystudy_env",
   "language": "python",
   "name": "python3"
  },
  "language_info": {
   "codemirror_mode": {
    "name": "ipython",
    "version": 3
   },
   "file_extension": ".py",
   "mimetype": "text/x-python",
   "name": "python",
   "nbconvert_exporter": "python",
   "pygments_lexer": "ipython3",
   "version": "3.12.11"
  }
 },
 "nbformat": 4,
 "nbformat_minor": 5
}
