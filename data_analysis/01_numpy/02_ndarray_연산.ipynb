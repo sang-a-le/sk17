{
 "cells": [
  {
   "cell_type": "markdown",
   "id": "e6dc426f",
   "metadata": {},
   "source": [
    "### ndarray 연산"
   ]
  },
  {
   "cell_type": "code",
   "execution_count": 14,
   "id": "5a88b37b",
   "metadata": {},
   "outputs": [],
   "source": [
    "import numpy as np"
   ]
  },
  {
   "cell_type": "markdown",
   "id": "13849bf6",
   "metadata": {},
   "source": [
    "### 기본연산"
   ]
  },
  {
   "cell_type": "code",
   "execution_count": 15,
   "id": "fea3b0cd",
   "metadata": {},
   "outputs": [
    {
     "name": "stdout",
     "output_type": "stream",
     "text": [
      "[[1 2 3]\n",
      " [4 5 6]\n",
      " [7 8 9]]\n",
      "[[7 7 7]\n",
      " [7 7 7]\n",
      " [7 7 7]]\n"
     ]
    }
   ],
   "source": [
    "#np.arange(1, 10)     # 9개 요소의 1차원 배열\n",
    "arr_a = np.arange(1, 10).reshape(3, 3)    # 요소 갯수(size)와 맞춰줘야함. 괄호 안에 shape 지정\n",
    "arr_b = np.full_like(arr_a, 7)\n",
    "\n",
    "print(arr_a)\n",
    "print(arr_b)"
   ]
  },
  {
   "cell_type": "code",
   "execution_count": 16,
   "id": "0b92c4d8",
   "metadata": {},
   "outputs": [
    {
     "name": "stdout",
     "output_type": "stream",
     "text": [
      "[[ 8  9 10]\n",
      " [11 12 13]\n",
      " [14 15 16]]\n",
      "[[ 8  9 10]\n",
      " [11 12 13]\n",
      " [14 15 16]]\n"
     ]
    }
   ],
   "source": [
    "# 덧셈\n",
    "print(arr_a + arr_b)\n",
    "print(np.add(arr_a, arr_b))"
   ]
  },
  {
   "cell_type": "code",
   "execution_count": 17,
   "id": "4c4a277b",
   "metadata": {},
   "outputs": [
    {
     "name": "stdout",
     "output_type": "stream",
     "text": [
      "[[-6 -5 -4]\n",
      " [-3 -2 -1]\n",
      " [ 0  1  2]]\n",
      "[[-6 -5 -4]\n",
      " [-3 -2 -1]\n",
      " [ 0  1  2]]\n"
     ]
    }
   ],
   "source": [
    "# 뺄셈\n",
    "print(arr_a - arr_b)\n",
    "print(np.subtract(arr_a, arr_b))"
   ]
  },
  {
   "cell_type": "code",
   "execution_count": 18,
   "id": "bba17567",
   "metadata": {},
   "outputs": [
    {
     "name": "stdout",
     "output_type": "stream",
     "text": [
      "[[ 7 14 21]\n",
      " [28 35 42]\n",
      " [49 56 63]]\n",
      "[[ 7 14 21]\n",
      " [28 35 42]\n",
      " [49 56 63]]\n"
     ]
    }
   ],
   "source": [
    "# 곱셈\n",
    "print(arr_a * arr_b)\n",
    "print(np.multiply(arr_a, arr_b))"
   ]
  },
  {
   "cell_type": "code",
   "execution_count": 19,
   "id": "c002acb9",
   "metadata": {},
   "outputs": [
    {
     "name": "stdout",
     "output_type": "stream",
     "text": [
      "[[0.14285714 0.28571429 0.42857143]\n",
      " [0.57142857 0.71428571 0.85714286]\n",
      " [1.         1.14285714 1.28571429]]\n",
      "[[0.14285714 0.28571429 0.42857143]\n",
      " [0.57142857 0.71428571 0.85714286]\n",
      " [1.         1.14285714 1.28571429]]\n"
     ]
    }
   ],
   "source": [
    "# 나눗셈\n",
    "print(arr_a / arr_b)\n",
    "print(np.divide(arr_a, arr_b))"
   ]
  },
  {
   "cell_type": "code",
   "execution_count": 25,
   "id": "38586459",
   "metadata": {},
   "outputs": [
    {
     "name": "stdout",
     "output_type": "stream",
     "text": [
      "[[0 0 0]\n",
      " [0 0 0]\n",
      " [1 1 1]]\n",
      "[[0 0 0]\n",
      " [0 0 0]\n",
      " [1 1 1]]\n"
     ]
    }
   ],
   "source": [
    "# 특수연산 1 : 몫 연산\n",
    "print(arr_a // arr_b)\n",
    "print(np.floor_divide(arr_a, arr_b))"
   ]
  },
  {
   "cell_type": "code",
   "execution_count": 24,
   "id": "68f7d61d",
   "metadata": {},
   "outputs": [
    {
     "name": "stdout",
     "output_type": "stream",
     "text": [
      "[[1 2 3]\n",
      " [4 5 6]\n",
      " [0 1 2]]\n",
      "[[1 2 3]\n",
      " [4 5 6]\n",
      " [0 1 2]]\n"
     ]
    }
   ],
   "source": [
    "# 특수연산 2 : 나머지 연산\n",
    "print(arr_a % arr_b)\n",
    "print(np.mod(arr_a, arr_b))"
   ]
  },
  {
   "cell_type": "code",
   "execution_count": 34,
   "id": "629905b1",
   "metadata": {},
   "outputs": [
    {
     "name": "stdout",
     "output_type": "stream",
     "text": [
      "[[                   1                   16                19683]\n",
      " [          4294967296   298023223876953125 -5108087961858080768]\n",
      " [ 6812400838176574343                    0  8677311020002933897]]\n",
      "[[                   1                   16                19683]\n",
      " [          4294967296   298023223876953125 -5108087961858080768]\n",
      " [ 6812400838176574343                    0  8677311020002933897]]\n",
      "[[ 1  4  9]\n",
      " [16 25 36]\n",
      " [49 64 81]]\n",
      "[[1.         1.41421356 1.73205081]\n",
      " [2.         2.23606798 2.44948974]\n",
      " [2.64575131 2.82842712 3.        ]]\n"
     ]
    }
   ],
   "source": [
    "# 특수연산 3 : 거듭 제곱\n",
    "print(arr_a ** arr_b)\n",
    "print(np.power(arr_a, arr_b))\n",
    "\n",
    "print(np.square(arr_a))  # 제곱 연산 \n",
    "print(np.sqrt(arr_a))    # 제곱근 연산"
   ]
  },
  {
   "cell_type": "markdown",
   "id": "ea380c80",
   "metadata": {},
   "source": [
    "------------------------"
   ]
  },
  {
   "cell_type": "markdown",
   "id": "3c237492",
   "metadata": {},
   "source": [
    "### broadcasting 연산\n",
    "- 두 배열의 shape이 다르면 broadcasting 연산을 수행한다. \n",
    "- shape이 작은 쪽이 큰 쪽에 맞춰 확장한다.   (but 작은 쪽이 1이어야함.)\n",
    "- 두 배열의 차원의 크기가 같거나, 하나가 1이면 브로드캐스팅이 가능하다. \n",
    "- 크기가 1인 차원은 상대 배열의 해당 차원 크기와 다를 경우 자동으로 확장 가능하다. \n",
    "- shape이 다른 경우 마지막 축부터 차원이 동일한지 비교한다. "
   ]
  },
  {
   "cell_type": "code",
   "execution_count": null,
   "id": "35c0c6d2",
   "metadata": {},
   "outputs": [
    {
     "name": "stdout",
     "output_type": "stream",
     "text": [
      "[[ 5 10 15]\n",
      " [20 25 30]\n",
      " [35 40 45]]\n"
     ]
    }
   ],
   "source": [
    "result_arr = arr_a * np.array([[5, 5, 5], [5, 5, 5], [5, 5, 5]])    # shape이 일치하는 두 배열의 연산\n",
    "result_arr = arr_a * np.array([5, 5, 5])   # (3,) 1차원의 요소 3  -> 차원을 맞춰주기 위해 (1,3)으로 변환 (like : np.array([[5, 5, 5]]) ) -> 값 갯수를 맞춰주기 위해 확장 (3,3)\n",
    "result_arr = arr_a * np.array([5])         # (1, ) -> 차원을 맞춰주기 위해 (1,1)로 변환 -> (1, 3) -> (3, 3)으로 확장\n",
    "result_arr = arr_a * 5                     # 스칼라값\n",
    "\n",
    "print(result_arr)                          # 결과가 달라지지 않음. "
   ]
  },
  {
   "cell_type": "code",
   "execution_count": 43,
   "id": "c5149048",
   "metadata": {},
   "outputs": [
    {
     "data": {
      "text/plain": [
       "array([[  6,  12, 103],\n",
       "       [  9,  15, 106]])"
      ]
     },
     "execution_count": 43,
     "metadata": {},
     "output_type": "execute_result"
    }
   ],
   "source": [
    "arr1 = np.array([[1, 2, 3], [4, 5, 6]])   #(2, 3)\n",
    "arr2 = np.array([5, 10, 100])             #(3, )\n",
    "\n",
    "arr1 + arr2"
   ]
  },
  {
   "cell_type": "code",
   "execution_count": 45,
   "id": "c10847ed",
   "metadata": {},
   "outputs": [
    {
     "data": {
      "text/plain": [
       "array([[101, 102, 103],\n",
       "       [204, 205, 206]])"
      ]
     },
     "execution_count": 45,
     "metadata": {},
     "output_type": "execute_result"
    }
   ],
   "source": [
    "arr1 = np.array([[1, 2, 3], [4, 5, 6]])    #(2, 3)\n",
    "arr2 = np.array([[100], [200]])            #(2, 1)\n",
    "\n",
    "arr1 + arr2   #(2, 3)"
   ]
  },
  {
   "cell_type": "code",
   "execution_count": 47,
   "id": "012b7bd6",
   "metadata": {},
   "outputs": [
    {
     "data": {
      "text/plain": [
       "array([[5, 6, 7],\n",
       "       [6, 7, 8],\n",
       "       [7, 8, 9]])"
      ]
     },
     "execution_count": 47,
     "metadata": {},
     "output_type": "execute_result"
    }
   ],
   "source": [
    "arr1 = np.array([1, 2, 3])             # (3, )    -> (1, 3)             -> (3, 3)\n",
    "arr2 = np.array([[4], [5], [6]])       # (3, 1)              -> (3, 3)               # 뒤 먼저 비교하기 때문에 먼저 증가 \n",
    "\n",
    "arr1 + arr2    # (3, 3)"
   ]
  },
  {
   "cell_type": "code",
   "execution_count": null,
   "id": "7b454940",
   "metadata": {},
   "outputs": [],
   "source": [
    "arr1 = np.array([[1, 2, 3], [4, 5, 6]])   # (2, 3)\n",
    "arr2 = np.array([1, 2])                   # (2, )   -> (1, 2) \n",
    "\n",
    "# arr1 + arr2        # value error    불가능. "
   ]
  },
  {
   "cell_type": "markdown",
   "id": "c2eaad30",
   "metadata": {},
   "source": [
    "-----------------\n"
   ]
  },
  {
   "cell_type": "markdown",
   "id": "25ba1d21",
   "metadata": {},
   "source": [
    "### 행렬 곱셈\n",
    "- 점곱연산 (Dot Product / 내적)\n",
    "    - 두 행렬 A, B의 점곱은 첫 번째 행렬 A의 행과 두 번째 행렬 B의 열 간의 곱셈을 수행한다. \n",
    "    - 첫 번째 행렬 A의 열의 수와 두 번째 행렬 B의 행의 수가 같아야 한다. \n",
    "    - 연산 결과의 shape은 (첫 번째 행렬 A의 행 개수, 두 번째 행렬 B의 열 개수)이다. \n",
    "\n"
   ]
  },
  {
   "cell_type": "markdown",
   "id": "3acad9f8",
   "metadata": {},
   "source": [
    "\n",
    "[[a b]           [[e f]              (a*e+b*g  a*f+b*h\n",
    " [c d]]   내적     [g h]]    ->        c*e+d*g  c*f+d*h)"
   ]
  },
  {
   "cell_type": "code",
   "execution_count": 52,
   "id": "9117e039",
   "metadata": {},
   "outputs": [
    {
     "name": "stdout",
     "output_type": "stream",
     "text": [
      "[[1 2]\n",
      " [3 4]]\n",
      "[[5 6]\n",
      " [7 8]]\n",
      "[[ 5 12]\n",
      " [21 32]]\n",
      "[[19 22]\n",
      " [43 50]]\n",
      "(2, 2)\n"
     ]
    }
   ],
   "source": [
    "arr1 = np.array([[1, 2], [3, 4]])\n",
    "arr2 = np.array([[5, 6], [7, 8]])\n",
    "\n",
    "print(arr1)\n",
    "print(arr2)\n",
    "print(arr1 * arr2)   # 각 위치에 맞는 값들끼리 연산(기본연산)\n",
    "\n",
    "print(np.dot(arr1, arr2))\n",
    "print(np.dot(arr1, arr2).shape)"
   ]
  },
  {
   "cell_type": "code",
   "execution_count": null,
   "id": "a82d424f",
   "metadata": {},
   "outputs": [
    {
     "data": {
      "text/plain": [
       "array([[ 58,  64],\n",
       "       [139, 154]])"
      ]
     },
     "execution_count": 53,
     "metadata": {},
     "output_type": "execute_result"
    }
   ],
   "source": [
    "arr3 = np.array([[1, 2, 3], [4, 5, 6]])                 # (2, 3)\n",
    "arr4 = np.array([[7, 8], [9, 10], [11, 12]])            # (3, 2)\n",
    "\n",
    "np.dot(arr3, arr4)   #(2, 2)             # 행*열의 합이기 때문에 2, 2\n",
    "\n",
    "# (100, 200000) (100, 20000)  : 내적 안됨. 행의 요소와 열의 요소가 곱해진 행태로 반환하기 때문에 행, 열의 요소가 맞아야함. "
   ]
  },
  {
   "cell_type": "code",
   "execution_count": null,
   "id": "3dd0ff5d",
   "metadata": {},
   "outputs": [
    {
     "name": "stdout",
     "output_type": "stream",
     "text": [
      "[[ 58  64]\n",
      " [139 154]]\n"
     ]
    }
   ],
   "source": [
    "# @\n",
    "print(arr3 @ arr4)  # dot 연산은 아니지만 내적 시행"
   ]
  },
  {
   "cell_type": "code",
   "execution_count": 85,
   "id": "3ee8082f",
   "metadata": {},
   "outputs": [
    {
     "name": "stdout",
     "output_type": "stream",
     "text": [
      "[[1 4]\n",
      " [2 5]\n",
      " [3 6]]\n",
      "[[14 32]\n",
      " [32 77]]\n",
      "[[14 32]\n",
      " [32 77]]\n"
     ]
    }
   ],
   "source": [
    "# print(arr3 @ arr3)   # (2, 3) (2, 3) shape == 내적 안됨. \n",
    "\n",
    "# .T = 전치행렬 (행-열을 교환)\n",
    "print(arr3.T)   # 전치 속성\n",
    "print(arr3 @ arr3.T)\n",
    "\n",
    "# matmul() (= @)  : 2차원에서는 dot처럼 사용, but 다차원에서는 matmul 사용\n",
    "print(np.matmul(arr3, arr3.T))\n",
    "\n",
    "# 다차원에서의 배열에서 행렬곱을 수행하고자 할 때는 matmul 사용 (2차원에서는 dot과 같은 기능을 수행)"
   ]
  },
  {
   "cell_type": "markdown",
   "id": "3f5466e2",
   "metadata": {},
   "source": [
    "-----"
   ]
  },
  {
   "cell_type": "markdown",
   "id": "e2fdbeb9",
   "metadata": {},
   "source": [
    "### 연산함수 및 집계 함수 "
   ]
  },
  {
   "cell_type": "code",
   "execution_count": 64,
   "id": "85530037",
   "metadata": {},
   "outputs": [],
   "source": [
    "arr_negative = np.array([[-1, -2], [-100, -200]])\n",
    "arr_float = np.array([[1.234, -5.678], [-7.89, 10.123]])\n",
    "arr = np.arange(1, 7).reshape(2, 3)"
   ]
  },
  {
   "cell_type": "code",
   "execution_count": 66,
   "id": "fcb3aca7",
   "metadata": {},
   "outputs": [
    {
     "name": "stdout",
     "output_type": "stream",
     "text": [
      "[[ 2. -5.]\n",
      " [-7. 11.]]\n",
      "[[ 1. -6.]\n",
      " [-8. 10.]]\n",
      "[[ 1. -6.]\n",
      " [-8. 10.]]\n",
      "[[ 1. -5.]\n",
      " [-7. 10.]]\n"
     ]
    }
   ],
   "source": [
    "# 올림\n",
    "print(np.ceil(arr_float))\n",
    "\n",
    "# 반올림\n",
    "print(np.round(arr_float))\n",
    "\n",
    "# 내림 (지정된 수(요소)보다 작은 최대 정수)\n",
    "print(np.floor(arr_float))      # 음수일 때 차이남. (해당 수 보다 작은 최대 정수 반환)\n",
    "\n",
    "# 버림 (절삭)\n",
    "print(np.trunc(arr_float))"
   ]
  },
  {
   "cell_type": "code",
   "execution_count": 69,
   "id": "9b0ca31e",
   "metadata": {},
   "outputs": [
    {
     "data": {
      "text/plain": [
       "array([[  1,   2],\n",
       "       [100, 200]])"
      ]
     },
     "execution_count": 69,
     "metadata": {},
     "output_type": "execute_result"
    }
   ],
   "source": [
    "# 절대값\n",
    "np.abs(arr_negative)"
   ]
  },
  {
   "cell_type": "code",
   "execution_count": 84,
   "id": "b49cb0e1",
   "metadata": {},
   "outputs": [
    {
     "name": "stdout",
     "output_type": "stream",
     "text": [
      "6\n",
      "1\n",
      "[4 5 6]\n",
      "[1 4]\n",
      "[8 6 6]\n",
      "[6 8]\n"
     ]
    }
   ],
   "source": [
    "# 최대값 / 최소값\n",
    "print(np.max(arr))\n",
    "print(np.min(arr))\n",
    "\n",
    "print(np.max(arr, axis=0))  # 행 기준\n",
    "print(np.min(arr, axis=1))  # 열 기준\n",
    "\n",
    "\n",
    "arr_1 = [[4, 5, 6], [8, 6, 3]]\n",
    "print(np.max(arr_1, axis=0))\n",
    "print(np.max(arr_1, axis=1))"
   ]
  },
  {
   "cell_type": "code",
   "execution_count": 82,
   "id": "a195ccdb",
   "metadata": {},
   "outputs": [
    {
     "name": "stdout",
     "output_type": "stream",
     "text": [
      "21\n",
      "21\n",
      "[5 7 9]\n",
      "[ 6 15]\n"
     ]
    }
   ],
   "source": [
    "# 합계\n",
    "print(np.sum(arr))\n",
    "\n",
    "print(arr.sum())\n",
    "print(arr.sum(axis=0))\n",
    "print(arr.sum(axis=1))"
   ]
  },
  {
   "cell_type": "code",
   "execution_count": 80,
   "id": "c9ce0676",
   "metadata": {},
   "outputs": [
    {
     "name": "stdout",
     "output_type": "stream",
     "text": [
      "3.5\n",
      "3.5\n",
      "[2.5 3.5 4.5]\n",
      "[2. 5.]\n"
     ]
    }
   ],
   "source": [
    "# 평균\n",
    "print(np.mean(arr))  #np의 함수\n",
    "\n",
    "print(arr.mean())    #메서드\n",
    "print(arr.mean(axis=0))\n",
    "print(arr.mean(axis=1))"
   ]
  }
 ],
 "metadata": {
  "kernelspec": {
   "display_name": "pystudy_env",
   "language": "python",
   "name": "python3"
  },
  "language_info": {
   "codemirror_mode": {
    "name": "ipython",
    "version": 3
   },
   "file_extension": ".py",
   "mimetype": "text/x-python",
   "name": "python",
   "nbconvert_exporter": "python",
   "pygments_lexer": "ipython3",
   "version": "3.12.11"
  }
 },
 "nbformat": 4,
 "nbformat_minor": 5
}
