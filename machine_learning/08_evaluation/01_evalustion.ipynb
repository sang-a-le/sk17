{
 "cells": [
  {
   "cell_type": "markdown",
   "id": "fa3f75cb",
   "metadata": {},
   "source": [
    "# 평가 "
   ]
  },
  {
   "cell_type": "markdown",
   "id": "2a36e965",
   "metadata": {},
   "source": [
    "### 분류모델 평가 "
   ]
  },
  {
   "cell_type": "code",
   "execution_count": 14,
   "id": "6800381f",
   "metadata": {},
   "outputs": [],
   "source": [
    "# 타이타닉 전처리 함수 \n",
    "from sklearn.preprocessing import LabelEncoder\n",
    "from sklearn.preprocessing import StandardScaler\n",
    "\n",
    "def fillna(df):\n",
    "    \"\"\"\n",
    "    결측치 처리 함수\n",
    "    - Age : 평균치로 대체\n",
    "    - Cabin : 'N' 기본값으로 대체\n",
    "    - Embarked : 'N' 기본값으로 대체\n",
    "    \"\"\"\n",
    "    df['Age'] = df['Age'].fillna(df['Age'].mean())\n",
    "    df['Cabin'] = df['Cabin'].fillna('N')\n",
    "    df['Embarked'] = df['Embarked'].fillna('N')\n",
    "\n",
    "    return df\n",
    "\n",
    "\n",
    "def drop_feature(df):\n",
    "    \"\"\"\n",
    "    모델 훈련과 관련 없는 속성 제거\n",
    "    - PassengerId, Name, Ticket\n",
    "    \"\"\"\n",
    "    return df.drop(['PassengerId', 'Name', 'Ticket'], axis=1)\n",
    "\n",
    "\n",
    "def encode_feature(df):\n",
    "    \"\"\"\n",
    "    범주형 데이터를 숫자로 인코딩\n",
    "    - Sex, Cabin, Embarked\n",
    "    \"\"\"\n",
    "    df['Cabin'] = df['Cabin'].str[:1]    # Cabin 데이터의 앞 글자만 가져옴\n",
    "\n",
    "    categories = ['Sex', 'Cabin', 'Embarked']\n",
    "    for cate_item in categories:\n",
    "        label_encoder = LabelEncoder()\n",
    "        df[cate_item] = label_encoder.fit_transform(df[cate_item])\n",
    "    \n",
    "    return df\n",
    "\n",
    "\n",
    "def preprocess_data(df):\n",
    "    \"\"\"\n",
    "    전처리 함수 호출\n",
    "    \"\"\"\n",
    "    df = drop_feature(df)\n",
    "    df = fillna(df)\n",
    "    df = encode_feature(df)\n",
    "\n",
    "    return df\n",
    "\n",
    "\n",
    "def scailing_feature(train_data, test_data):\n",
    "    \"\"\"\n",
    "    특성 스케일링 (정규화)\n",
    "    \"\"\"\n",
    "    scaler = StandardScaler()\n",
    "    train_scaled = scaler.fit_transform(train_data)\n",
    "    test_scaled = scaler.transform(test_data)\n",
    "    \n",
    "    return train_scaled, test_scaled"
   ]
  },
  {
   "cell_type": "markdown",
   "id": "f1792876",
   "metadata": {},
   "source": [
    "##### 정확도 (Accuracy score)\n",
    "\n",
    "- 전체 샘플 중에서 올바르게 예측한 샘플의 비율\n",
    "- 데이터가 불균형한 경우 정확도는 비현실적인 성능을 낼 수 있음"
   ]
  },
  {
   "cell_type": "code",
   "execution_count": 15,
   "id": "22777c0e",
   "metadata": {},
   "outputs": [],
   "source": [
    "# 잘못 학습된 모델 만들어보기\n",
    "from sklearn.base import BaseEstimator\n",
    "import numpy as np \n",
    "\n",
    "# 성별로만 판별하는 모델 작성 \n",
    "class MyTitanicClassifier(BaseEstimator):\n",
    "\n",
    "    # 훈련 메서드\n",
    "    def fit(self, X, y) : \n",
    "        pass\n",
    "\n",
    "    # 결과 예측 메서드\n",
    "    def predict(self, X) :\n",
    "        pred = np.zeros((X.shape[0], 1))\n",
    "        for i in range(X.shape[0]):\n",
    "            sex = X['Sex'].iloc[i]     # = 해석해봐바.,.\n",
    "            if sex == 0 :                 # 여성이면\n",
    "                pred[i] = 1               # 생존이라 예측하도록 만듦\n",
    "        return pred "
   ]
  },
  {
   "cell_type": "code",
   "execution_count": null,
   "id": "84a33ebf",
   "metadata": {},
   "outputs": [],
   "source": [
    "import pandas as pd \n",
    "from sklearn.model_selection import train_test_split\n",
    "\n",
    "# 데이터 로드 \n",
    "df = pd.read_csv('./data/titanic.csv')\n",
    "\n",
    "# 데이터 분리 \n",
    "X = df.drop('Survived', axis=1)\n",
    "y = df['Survived']\n",
    "\n",
    "X = preprocess_data(X)\n",
    "\n",
    "X_train, X_test, y_train, y_test = train_test_split(X, y, random_state = 0)"
   ]
  },
  {
   "cell_type": "code",
   "execution_count": null,
   "id": "325ac8d2",
   "metadata": {},
   "outputs": [
    {
     "name": "stdout",
     "output_type": "stream",
     "text": [
      "훈련 데이터 정확도 : 0.7889221556886228\n",
      "평가 데이터 정확도 : 0.7802690582959642\n"
     ]
    }
   ],
   "source": [
    "from sklearn.metrics import accuracy_score\n",
    "\n",
    "# 훈련\n",
    "my_classifier = MyTitanicClassifier()\n",
    "my_classifier.fit(X_train, y_train)\n",
    "\n",
    "# 예측\n",
    "pred_train = my_classifier.predict(X_train)\n",
    "pred_test = my_classifier.predict(X_test)\n",
    "\n",
    "# 정확도로 평가 (accuracy_score)\n",
    "print(f'훈련 데이터 정확도 : {accuracy_score(y_train, pred_train)}')    \n",
    "print(f'평가 데이터 정확도 : {accuracy_score(y_test, pred_test)}')\n",
    "\n",
    "# 훈련 데이터 정확도 : 0.7889221556886228    # 잘못된 모델로 평가 했는데 78점이 나온것으로 봐서 평가지표로 사용하기엔 좋지 않다는 것을 알 수 있음. (그저 여자 수가 많은 것)\n",
    "# 평가 데이터 정확도 : 0.7802690582959642"
   ]
  },
  {
   "cell_type": "markdown",
   "id": "c8277a2b",
   "metadata": {},
   "source": [
    "##### 혼동행렬 (confusion matrix)\n",
    "\n",
    "깃에 사진 확인"
   ]
  },
  {
   "cell_type": "code",
   "execution_count": null,
   "id": "d7c122c2",
   "metadata": {},
   "outputs": [],
   "source": [
    "# 다중으로 그리는 방법 코드 (깃)"
   ]
  },
  {
   "cell_type": "code",
   "execution_count": 18,
   "id": "0a8909ca",
   "metadata": {},
   "outputs": [],
   "source": [
    "from sklearn.metrics import confusion_matrix, precision_score, recall_score"
   ]
  },
  {
   "cell_type": "markdown",
   "id": "6c4d3b75",
   "metadata": {},
   "source": [
    "- 정밀도 (Precision)\n",
    "    - 양성이라고 예측한 것 (TP + FP) 중에 실제 양성(TP)일 확률\n",
    "    - 정밀도가 중요한 지표인 경우 : 음성인 데이터를 양성으로 예측하면 안되는 경우 (스팸메일 분류 등)"
   ]
  },
  {
   "cell_type": "code",
   "execution_count": 20,
   "id": "af5b8f8e",
   "metadata": {},
   "outputs": [
    {
     "data": {
      "text/plain": [
       "array([[115,  24],\n",
       "       [ 25,  59]])"
      ]
     },
     "execution_count": 20,
     "metadata": {},
     "output_type": "execute_result"
    }
   ],
   "source": [
    "matrix = confusion_matrix(y_test, pred_test)\n",
    "matrix"
   ]
  },
  {
   "cell_type": "code",
   "execution_count": 22,
   "id": "6bd0847b",
   "metadata": {},
   "outputs": [
    {
     "data": {
      "text/plain": [
       "(0.7108433734939759, 0.7108433734939759)"
      ]
     },
     "execution_count": 22,
     "metadata": {},
     "output_type": "execute_result"
    }
   ],
   "source": [
    "p_score = 59 / (59 + 24)   # tp / (tp + fp)\n",
    "p_score, precision_score(y_test, pred_test)"
   ]
  },
  {
   "cell_type": "markdown",
   "id": "12a1a85b",
   "metadata": {},
   "source": [
    "- 재현율 (Recall)\n",
    "    - 실제 양성 (TP + FN) 중에 양성으로 예측(TP)한 확률\n",
    "    - 재현율이 중요한 지표인 경우 : 양성인 데이터를 음성으로 예측하면 안되는 경우 (암 진단, 보험/금융 사기 탐지 등)"
   ]
  },
  {
   "cell_type": "code",
   "execution_count": 23,
   "id": "d4231e76",
   "metadata": {},
   "outputs": [
    {
     "data": {
      "text/plain": [
       "0.7023809523809523"
      ]
     },
     "execution_count": 23,
     "metadata": {},
     "output_type": "execute_result"
    }
   ],
   "source": [
    "recall_score(y_test, pred_test)"
   ]
  },
  {
   "cell_type": "code",
   "execution_count": 28,
   "id": "760e85d8",
   "metadata": {},
   "outputs": [],
   "source": [
    "def evaluate_binary_classification(y_true, y_pred) :\n",
    "    print('혼동행렬: ')\n",
    "    print(confusion_matrix(y_true, y_pred))\n",
    "    print(f'정확도 : {accuracy_score(y_true, y_pred)}, 정밀도 : {precision_score(y_true, y_pred)}, 재현율 : {recall_score(y_true, y_pred)}')"
   ]
  },
  {
   "cell_type": "code",
   "execution_count": 29,
   "id": "33161b43",
   "metadata": {},
   "outputs": [
    {
     "name": "stdout",
     "output_type": "stream",
     "text": [
      "혼동행렬: \n",
      "[[410   0]\n",
      " [258   0]]\n",
      "정확도 : 0.6137724550898204, 정밀도 : 0.0, 재현율 : 0.0\n",
      "혼동행렬: \n",
      "[[139   0]\n",
      " [ 84   0]]\n",
      "정확도 : 0.6233183856502242, 정밀도 : 0.0, 재현율 : 0.0\n"
     ]
    },
    {
     "name": "stderr",
     "output_type": "stream",
     "text": [
      "c:\\Users\\Playdata\\anaconda3\\envs\\ml_env\\Lib\\site-packages\\sklearn\\metrics\\_classification.py:1706: UndefinedMetricWarning: Precision is ill-defined and being set to 0.0 due to no predicted samples. Use `zero_division` parameter to control this behavior.\n",
      "  _warn_prf(average, modifier, f\"{metric.capitalize()} is\", result.shape[0])\n",
      "c:\\Users\\Playdata\\anaconda3\\envs\\ml_env\\Lib\\site-packages\\sklearn\\metrics\\_classification.py:1706: UndefinedMetricWarning: Precision is ill-defined and being set to 0.0 due to no predicted samples. Use `zero_division` parameter to control this behavior.\n",
      "  _warn_prf(average, modifier, f\"{metric.capitalize()} is\", result.shape[0])\n"
     ]
    }
   ],
   "source": [
    "class MyDeathClassifier(BaseEstimator) : \n",
    "    def fit(self, X, y):\n",
    "        pass\n",
    "\n",
    "    def predict(self, X) :\n",
    "        return np.zeros((X.shape[0], 1))   # 전부 사망\n",
    "    \n",
    "my_classifier = MyDeathClassifier()\n",
    "my_classifier.fit(X_train, y_train)\n",
    "\n",
    "pred_train = my_classifier.predict(X_train)\n",
    "pred_test = my_classifier.predict(X_test)\n",
    "\n",
    "evaluate_binary_classification(y_train, pred_train)\n",
    "evaluate_binary_classification(y_test, pred_test)"
   ]
  },
  {
   "cell_type": "code",
   "execution_count": null,
   "id": "8881dbac",
   "metadata": {},
   "outputs": [
    {
     "name": "stdout",
     "output_type": "stream",
     "text": [
      "혼동행렬: \n",
      "[[350  60]\n",
      " [ 77 181]]\n",
      "정확도 : 0.7949101796407185, 정밀도 : 0.7510373443983402, 재현율 : 0.7015503875968992\n",
      "혼동행렬: \n",
      "[[117  22]\n",
      " [ 23  61]]\n",
      "정확도 : 0.7982062780269058, 정밀도 : 0.7349397590361446, 재현율 : 0.7261904761904762\n"
     ]
    },
    {
     "name": "stderr",
     "output_type": "stream",
     "text": [
      "c:\\Users\\Playdata\\anaconda3\\envs\\ml_env\\Lib\\site-packages\\sklearn\\linear_model\\_logistic.py:470: ConvergenceWarning: lbfgs failed to converge after 100 iteration(s) (status=1):\n",
      "STOP: TOTAL NO. OF ITERATIONS REACHED LIMIT\n",
      "\n",
      "Increase the number of iterations to improve the convergence (max_iter=100).\n",
      "You might also want to scale the data as shown in:\n",
      "    https://scikit-learn.org/stable/modules/preprocessing.html\n",
      "Please also refer to the documentation for alternative solver options:\n",
      "    https://scikit-learn.org/stable/modules/linear_model.html#logistic-regression\n",
      "  n_iter_i = _check_optimize_result(\n"
     ]
    }
   ],
   "source": [
    "# 제대로 된 모델 사용\n",
    "from sklearn.linear_model import LogisticRegression\n",
    "\n",
    "lr_clf = LogisticRegression()\n",
    "lr_clf.fit(X_train, y_train)\n",
    "\n",
    "pred_train = lr_clf.predict(X_train)\n",
    "pred_test = lr_clf.predict(X_test)\n",
    "\n",
    "evaluate_binary_classification(y_train, pred_train)\n",
    "evaluate_binary_classification(y_test, pred_test)           # 정확도, 정밀도, 재현율 다 다른 모델일 때와 변화"
   ]
  },
  {
   "cell_type": "markdown",
   "id": "bb749348",
   "metadata": {},
   "source": [
    "- 정밀도와 재현율의 trade-off (상충관계를 가짐)\n",
    "    - 분류 결정 임계치(threshold)를 낮추면? positive로 예측할 확률이 높아진다.\n",
    "        - 정밀도는 낮아지고, 재현율은 높아진다.\n",
    "    - 분류 결정 임계치(threshold)를 높이면? positive로 예측할 확률이 낮아진다.  (사진 확인 ;;)\n",
    "        - 정밀도는 높아지고, 재현율은 낮아진다\n",
    "\n",
    "- > 정밀도와 재현율 사이의 상충관계를 표현하기 위해 임계치를 도입한 부분 사진보면서 한번도 정리 해보기 (임계치를 0.3, 0.8로 조정할 경우 확인)"
   ]
  },
  {
   "cell_type": "code",
   "execution_count": null,
   "id": "8957fb7c",
   "metadata": {},
   "outputs": [],
   "source": [
    "# binarizer 사용 깃\n",
    "\n"
   ]
  },
  {
   "cell_type": "markdown",
   "id": "13b138f4",
   "metadata": {},
   "source": [
    "##### ROC Curve - AUC\n"
   ]
  },
  {
   "cell_type": "code",
   "execution_count": 31,
   "id": "b062153b",
   "metadata": {},
   "outputs": [
    {
     "data": {
      "text/plain": [
       "(array([0. , 0. , 0.5, 0.5, 1. ]),\n",
       " array([0. , 0.5, 0.5, 1. , 1. ]),\n",
       " array([ inf, 0.8 , 0.4 , 0.35, 0.1 ]))"
      ]
     },
     "execution_count": 31,
     "metadata": {},
     "output_type": "execute_result"
    }
   ],
   "source": [
    "from sklearn.metrics import roc_curve\n",
    "\n",
    "y_true_sample = np.array([0, 0, 1, 1])\n",
    "y_pred_sample = np.array([0.1, 0.4, 0.35, 0.8])\n",
    "\n",
    "fpr, tpr, thresholds = roc_curve(y_true_sample, y_pred_sample)\n",
    "fpr, tpr, thresholds"
   ]
  },
  {
   "cell_type": "code",
   "execution_count": 33,
   "id": "d61a79da",
   "metadata": {},
   "outputs": [
    {
     "name": "stderr",
     "output_type": "stream",
     "text": [
      "c:\\Users\\Playdata\\anaconda3\\envs\\ml_env\\Lib\\site-packages\\sklearn\\linear_model\\_logistic.py:470: ConvergenceWarning: lbfgs failed to converge after 100 iteration(s) (status=1):\n",
      "STOP: TOTAL NO. OF ITERATIONS REACHED LIMIT\n",
      "\n",
      "Increase the number of iterations to improve the convergence (max_iter=100).\n",
      "You might also want to scale the data as shown in:\n",
      "    https://scikit-learn.org/stable/modules/preprocessing.html\n",
      "Please also refer to the documentation for alternative solver options:\n",
      "    https://scikit-learn.org/stable/modules/linear_model.html#logistic-regression\n",
      "  n_iter_i = _check_optimize_result(\n"
     ]
    },
    {
     "data": {
      "image/png": "[encoded data removed]",
      "text/plain": [
       "<Figure size 640x480 with 1 Axes>"
      ]
     },
     "metadata": {},
     "output_type": "display_data"
    }
   ],
   "source": [
    "from sklearn.metrics import auc\n",
    "import matplotlib.pyplot as plt\n",
    "\n",
    "model = LogisticRegression()\n",
    "model.fit(X_train, y_train)\n",
    "\n",
    "y_pred_proba = model.predict_proba(X_test)[:, 1]\n",
    "\n",
    "fpr, tpr, thresholds = roc_curve(y_test, y_pred_proba)\n",
    "roc_auc = auc(fpr, tpr)\n",
    "\n",
    "plt.plot(fpr, tpr, color='blue', label=f'Roc curve (AUC={roc_auc:.2f})')\n",
    "plt.plot([0, 1], [0, 1], color='gray', linestyle='--')\n",
    "plt.xlabel('FPR (False Positive Rate)')\n",
    "plt.ylabel('TPR (True Positive Rate)')\n",
    "plt.legend()\n",
    "plt.show()"
   ]
  },
  {
   "cell_type": "markdown",
   "id": "e345b2bc",
   "metadata": {},
   "source": [
    "### 회귀모델 평가"
   ]
  },
  {
   "cell_type": "code",
   "execution_count": 35,
   "id": "0ffbe387",
   "metadata": {},
   "outputs": [],
   "source": [
    "# 샘플 데이터 \n",
    "y_true = [3, 0.5, 2, 7]\n",
    "y_pred = [2.5, 0, 2, 9]"
   ]
  },
  {
   "cell_type": "code",
   "execution_count": 36,
   "id": "068d21a9",
   "metadata": {},
   "outputs": [
    {
     "name": "stdout",
     "output_type": "stream",
     "text": [
      "1.125\n",
      "1.0606601717798212\n",
      "0.75\n",
      "0.058006407800631835\n",
      "0.2408451946803835\n",
      "0.8059299191374663\n"
     ]
    }
   ],
   "source": [
    "from sklearn.metrics import mean_squared_error            # MSE (평균 제곱 오차 )\n",
    "from sklearn.metrics import root_mean_squared_error       # RMSE (제곱 평균 제곱근 오차)\n",
    "from sklearn.metrics import mean_absolute_error           # MAE (평균 절대 오차)\n",
    "from sklearn.metrics import mean_squared_log_error        # MSLE (평균 제곱 로그 오차 )\n",
    "from sklearn.metrics import root_mean_squared_log_error   # RMSLE (제곱 평균 제곱근 로그 오차)\n",
    "from sklearn.metrics import r2_score                      # R^2 결정계수\n",
    "\n",
    "print(mean_squared_error(y_true, y_pred))\n",
    "print(root_mean_squared_error(y_true, y_pred))\n",
    "print(mean_absolute_error(y_true, y_pred))\n",
    "print(mean_squared_log_error(y_true, y_pred))\n",
    "print(root_mean_squared_log_error(y_true, y_pred))\n",
    "print(r2_score(y_true, y_pred))"
   ]
  }
 ],
 "metadata": {
  "kernelspec": {
   "display_name": "ml_env",
   "language": "python",
   "name": "python3"
  },
  "language_info": {
   "codemirror_mode": {
    "name": "ipython",
    "version": 3
   },
   "file_extension": ".py",
   "mimetype": "text/x-python",
   "name": "python",
   "nbconvert_exporter": "python",
   "pygments_lexer": "ipython3",
   "version": "3.12.11"
  }
 },
 "nbformat": 4,
 "nbformat_minor": 5
}
