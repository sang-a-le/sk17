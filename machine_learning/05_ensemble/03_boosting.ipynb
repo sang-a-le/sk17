{
 "cells": [
  {
   "cell_type": "markdown",
   "id": "57b8a1b3",
   "metadata": {},
   "source": [
    "# 앙상블 (Ensemble): Boosting\n",
    " - 다양한 모델을 결합하여 예측 성능을 향상시키는 방법\n",
    "    - 깊이가 얕은 결정트리를 사용해 이전 트리의 오차를 보정하는 방식\n",
    "    - 순차적으로 경사하강법을 사용해 이전 트리의 오차를 줄여나감\n",
    "        - 분류모델에서는 손실함수 Logloss를 사용해 오차를 줄임\n",
    "        - 회귀모델에서는 손실함수 MSE를 사용해 오차를 줄임\n",
    "    - Boosting 계열은 일반적으로 결정트리 개수를 늘려도 과적합에 강함\n",
    "    - 대표적인 알고리즘(모델): GradientBoosting, HistGradientBoosting, XGBoost(DMLC), LightGBM(MS), CatBoost"
   ]
  },
  {
   "cell_type": "markdown",
   "id": "1d2c3cf7",
   "metadata": {},
   "source": []
  },
  {
   "cell_type": "code",
   "execution_count": 19,
   "id": "fe028ffe",
   "metadata": {},
   "outputs": [],
   "source": [
    "import numpy as np \n",
    "import pandas as pd \n",
    "import matplotlib.pyplot as plt\n",
    "import seaborn as sns"
   ]
  },
  {
   "cell_type": "markdown",
   "id": "e6696336",
   "metadata": {},
   "source": [
    "### GradientBoosting 구현"
   ]
  },
  {
   "cell_type": "code",
   "execution_count": 20,
   "id": "589e483c",
   "metadata": {},
   "outputs": [],
   "source": [
    "from sklearn.tree import DecisionTreeRegressor\n",
    "from sklearn.ensemble import RandomForestClassifier"
   ]
  },
  {
   "cell_type": "code",
   "execution_count": 21,
   "id": "ad8aaefd",
   "metadata": {},
   "outputs": [],
   "source": [
    "class SimpleGradientBoostingClassifier : \n",
    "\n",
    "    def __init__(self, n_estimators=100, learning_rate=0.1, max_depth=3):\n",
    "        self.n_estimators = n_estimators\n",
    "        self.learning_rate = learning_rate\n",
    "        self.max_depth = max_depth\n",
    "        self.initial_log_odds = 0        # 초기 예측값 \n",
    "        self.trees = []                  # estimator 모음 배열 \n",
    "\n",
    "    def log_odds(self, p):\n",
    "        # 확률값 -> 로짓 변환\n",
    "        return np.log(p / (1-p))\n",
    "\n",
    "    def sigmoid(self, z):\n",
    "        # z값 -> 0~1 사이의 확률 값 변환\n",
    "        return 1 / (1 + np.exp(-z))\n",
    "\n",
    "    def fit(self, X, y):\n",
    "        y_mean = np.mean(y)\n",
    "        self.initial_log_odds = self.log_odds(y_mean)\n",
    "        y_pred_log_odds = np.full_like(y, self.initial_log_odds, dtype=np.float64)\n",
    "\n",
    "        for _ in range(self.n_estimators) :\n",
    "            y_pred_proba = self.sigmoid(y_pred_log_odds)\n",
    "            residual = y - y_pred_proba\n",
    "            tree = DecisionTreeRegressor(max_depth=self.max_depth)\n",
    "            tree.fit(X, residual)      # *** 중요 *** 이전에 학습한 모델에서의 잔차를 이용해서 학습 (y데이터 말고, 전 모델의 잔차)\n",
    "            self.trees.append(tree)\n",
    "            y_pred_log_odds += self.learning_rate * tree.predict(X)\n",
    "\n",
    "    def predict(self, X):\n",
    "        return (self.predict_proba(X) >= 0.5).astype(int)    # bool 값을 숫자로 변환\n",
    "\n",
    "    def predict_proba(self, X):\n",
    "        y_pred_log_odds = np.full((X.shape[0],), self.initial_log_odds)\n",
    "        \n",
    "        for tree in self.trees :\n",
    "            y_pred_log_odds += self.learning_rate * tree.predict(X)    # 예측값을 누적으로 반환\n",
    "        return self.sigmoid(y_pred_log_odds)"
   ]
  },
  {
   "cell_type": "code",
   "execution_count": 22,
   "id": "0da30270",
   "metadata": {},
   "outputs": [
    {
     "name": "stdout",
     "output_type": "stream",
     "text": [
      "학습 정확도: 0.9929577464788732\n",
      "평가 정확도: 0.958041958041958\n"
     ]
    }
   ],
   "source": [
    "from sklearn.datasets import load_breast_cancer\n",
    "from sklearn.model_selection import train_test_split\n",
    "from sklearn.metrics import accuracy_score\n",
    "\n",
    "data = load_breast_cancer()\n",
    "X_train, X_test, y_train, y_test = train_test_split(data.data, data.target, random_state=0)\n",
    "\n",
    "simple_gb_clf = SimpleGradientBoostingClassifier(\n",
    "    n_estimators=100, \n",
    "    learning_rate=0.1, \n",
    "    max_depth=3\n",
    ")\n",
    "\n",
    "simple_gb_clf.fit(X_train, y_train)\n",
    "\n",
    "y_pred_train = simple_gb_clf.predict(X_train)\n",
    "y_pred_test = simple_gb_clf.predict(X_test)\n",
    "print(f'학습 정확도: {accuracy_score(y_train, y_pred_train)}')\n",
    "print(f'평가 정확도: {accuracy_score(y_test, y_pred_test)}')"
   ]
  },
  {
   "cell_type": "markdown",
   "id": "0e51df65",
   "metadata": {},
   "source": [
    "### 와인데이터셋 이진분류"
   ]
  },
  {
   "cell_type": "code",
   "execution_count": 23,
   "id": "8d9bb9cb",
   "metadata": {},
   "outputs": [
    {
     "name": "stdout",
     "output_type": "stream",
     "text": [
      "정확도: 0.8812\n"
     ]
    },
    {
     "data": {
      "image/png": "[encoded data removed]",
      "text/plain": [
       "<Figure size 1000x600 with 1 Axes>"
      ]
     },
     "metadata": {},
     "output_type": "display_data"
    }
   ],
   "source": [
    "from sklearn.metrics import accuracy_score\n",
    "import matplotlib.pyplot as plt\n",
    "import numpy as np\n",
    "\n",
    "# 1. 데이터 로드\n",
    "wine_data = pd.read_csv('./data/wine_simple.csv')\n",
    "\n",
    "# 2. 데이터 분리\n",
    "X = wine_data.drop('class', axis=1)\n",
    "y = wine_data['class']\n",
    "X_train, X_test, y_train, y_test = train_test_split(X, y, random_state=42)\n",
    "\n",
    "# 3. RandomForestClassifier 모델 생성 및 학습\n",
    "rf_clf = RandomForestClassifier(n_estimators=100, random_state=42)\n",
    "rf_clf.fit(X_train, y_train)\n",
    "\n",
    "# 4. 예측\n",
    "y_pred = rf_clf.predict(X_test)\n",
    "\n",
    "# 5. 정확도 출력\n",
    "accuracy = accuracy_score(y_test, y_pred)\n",
    "print(f\"정확도: {accuracy:.4f}\")\n",
    "\n",
    "# 6. 특성 중요도 시각화\n",
    "importances = rf_clf.feature_importances_\n",
    "feature_names = X.columns\n",
    "\n",
    "sorted_idx = np.argsort(importances)\n",
    "\n",
    "plt.figure(figsize=(10, 6))\n",
    "plt.barh(range(len(importances)), importances[sorted_idx], align='center')\n",
    "plt.yticks(range(len(importances)), feature_names[sorted_idx])\n",
    "plt.xlabel(\"Feature Importance\")\n",
    "plt.title(\"RandomForest Feature Importance\")\n",
    "plt.tight_layout()\n",
    "plt.show()"
   ]
  },
  {
   "cell_type": "markdown",
   "id": "6abc4652",
   "metadata": {},
   "source": [
    "### 인간행동인식 다중 분류"
   ]
  },
  {
   "cell_type": "markdown",
   "id": "9660d444",
   "metadata": {},
   "source": [
    "##### [실습] 인간행동인식 다중 분류\n",
    "\n",
    "   https://www.kaggle.com/datasets/uciml/human-activity-recognition-with-smartphones\n",
    "  \n",
    "   - WALKING\n",
    "   사용자 행동 target class\n",
    "   - WALKING_UPSTAIRS\n",
    "   - WALKING_DOWNSTAIRS\n",
    "   - SITTING\n",
    "   - STANDING\n",
    "   - LAYING\n",
    "   \n",
    "   **HAR 특성 설명**\n",
    "\n",
    "| **특성 유형**             | **설명**|\n",
    "|--------------------------|------------------------------------------------------------------------------------------------------------|\n",
    "| **Mean와 Std** |'tBodyAcc-mean()-X', 'tBodyAcc-std()-Y'와 같은 특성은 시간 도메인에서의 신체 가속도에 대한 평균 및 표준편차 값 ('X', 'Y', 'Z'는 축을 의미) |\n",
    "| **주파수 도메인 특징**|이름에 'f'로 시작하는 특성은 주파수 도메인에서 계산된 값 (예를 들어 'fBodyAcc-meanFreq()-X'는 신체 가속도 센서의 X축에서의 평균 주파수 값)|\n",
    "| **가속도와 자이로스코프 데이터** | 'tBodyAcc', 'tGravityAcc', 'tBodyGyro' 등의 특성은 신체 가속도, 중력 가속도, 자이로스코프 데이터|\n",
    "| **Jerk 신호**             | 'tBodyAccJerk-mean()-X'와 같은 특성은 가속도의 변화율 (활동 간의 차이를 분류하는 데 중요한 역할)|\n",
    "| **Magnitude(크기)**       | 'tBodyAccMag-mean()', 'tGravityAccMag-std()'와 같은 특성은 특정 축 방향의 가속도 또는 자이로스코프 값을 합친 크기|\n",
    "| **FFT 변환 기반 특징**| 주파수 도메인에서의 데이터 특성들은 Fourier 변환을 통해 얻어짐 (예를 들어, 'fBodyAccMag-mean()'은 주파수 도메인에서 가속도의 크기의 평균값)|\n",
    "| **Angle(각도)**| 'angle(X,gravityMean)'과 같은 특성은 특정 축과 중력 벡터 간의 각도 (중력과의 상대적인 위치 나타냄)|\n",
    "| **레이블**                | 'Activity' 컬럼에는 각 행의 활동 레이블이 포함 (걷기, 계단 오르기, 계단 내리기, 앉기, 서기, 눕기 등의 활동 종류 있음)   |"
   ]
  },
  {
   "cell_type": "code",
   "execution_count": 25,
   "id": "d73db073",
   "metadata": {},
   "outputs": [
    {
     "name": "stdout",
     "output_type": "stream",
     "text": [
      "정확도: 0.9267051238547676\n"
     ]
    },
    {
     "data": {
      "image/png": "[encoded data removed]",
      "text/plain": [
       "<Figure size 800x600 with 1 Axes>"
      ]
     },
     "metadata": {},
     "output_type": "display_data"
    }
   ],
   "source": [
    "from sklearn.preprocessing import LabelEncoder, StandardScaler\n",
    "from sklearn.metrics import accuracy_score\n",
    "\n",
    "# 1. 데이터 로드\n",
    "train_data = pd.read_csv('./data/har_train.csv')\n",
    "test_data = pd.read_csv('./data/har_test.csv')\n",
    "# train_data.shape, test_data.shape\n",
    "\n",
    "# 2. 데이터 분리\n",
    "X_train = train_data.drop('Activity', axis=1)\n",
    "X_test = test_data.drop('Activity', axis=1)\n",
    "y_train = train_data['Activity']\n",
    "y_test = test_data['Activity']\n",
    "\n",
    "# 3. 레이블 인코딩 (Activity를 숫자로 변환)\n",
    "# y_train.value_counts()\n",
    "label_encoder = LabelEncoder()\n",
    "y_train_encoded = label_encoder.fit_transform(y_train)\n",
    "y_test_encoded = label_encoder.transform(y_test)\n",
    "\n",
    "# 4. 데이터 정규화\n",
    "# X_train.describe()\n",
    "scaler = StandardScaler()\n",
    "X_train_scaled = scaler.fit_transform(X_train)\n",
    "X_test_scaled = scaler.transform(X_test)\n",
    "\n",
    "# 5. RandomForestClassifier 모델 학습\n",
    "rf_clf = RandomForestClassifier(n_estimators=100, random_state=42)\n",
    "rf_clf.fit(X_train_scaled, y_train_encoded)\n",
    "\n",
    "# 6. 모델 예측\n",
    "y_pred = rf_clf.predict(X_test_scaled)\n",
    "\n",
    "# 7. 평가 (정확도) \n",
    "acc_score = accuracy_score(y_test_encoded, y_pred)\n",
    "print(f\"정확도: {acc_score}\")\n",
    "\n",
    "# 8. 중요도 상위 20개의 특성 시각화\n",
    "feat_iptcs = rf_clf.feature_importances_\n",
    "feat_names = X_train.columns\n",
    "\n",
    "iptcs_df = pd.DataFrame({\n",
    "    'Feature': feat_names,\n",
    "    'Importance': feat_iptcs\n",
    "}).sort_values(by='Importance', ascending=False).head(20)\n",
    "\n",
    "plt.figure(figsize=(8, 6))\n",
    "sns.barplot(\n",
    "    y=iptcs_df['Feature'],\n",
    "    x=iptcs_df['Importance']\n",
    ")\n",
    "plt.xlabel('feature importance')\n",
    "plt.ylabel('feature')\n",
    "plt.show()"
   ]
  },
  {
   "cell_type": "markdown",
   "id": "cb2090f5",
   "metadata": {},
   "source": [
    "### GradientBoosting"
   ]
  },
  {
   "cell_type": "markdown",
   "id": "615752e8",
   "metadata": {},
   "source": [
    "#25.07.28"
   ]
  },
  {
   "cell_type": "code",
   "execution_count": null,
   "id": "96439919",
   "metadata": {},
   "outputs": [
    {
     "name": "stdout",
     "output_type": "stream",
     "text": [
      "학습 정확도 : 0.9882629107981221\n",
      "예측 정확도 : 0.958041958041958\n"
     ]
    }
   ],
   "source": [
    "from sklearn.ensemble import GradientBoostingClassifier\n",
    "from sklearn.datasets import load_breast_cancer\n",
    "from sklearn.model_selection import train_test_split\n",
    "from sklearn.metrics import accuracy_score\n",
    "\n",
    "data = load_breast_cancer()\n",
    "X_train, X_test, y_train, y_test = train_test_split(data.data, data.target, random_state=0)\n",
    "\n",
    "gb_clf = GradientBoostingClassifier(\n",
    "    n_estimators=101, \n",
    "    learning_rate=0.01,\n",
    "    max_depth=3\n",
    ")\n",
    "\n",
    "gb_clf.fit(X_train, y_train)\n",
    "\n",
    "y_pred_train = gb_clf.predict(X_train)\n",
    "y_pred_test = gb_clf.predict(X_test)\n",
    "\n",
    "print(f'학습 정확도 : {accuracy_score(y_train, y_pred_train)}')\n",
    "print(f'예측 정확도 : {accuracy_score(y_test, y_pred_test)}')"
   ]
  },
  {
   "cell_type": "markdown",
   "id": "5f5aa431",
   "metadata": {},
   "source": [
    "### HistGradientBoosting\n",
    "\n",
    "- 고성능 GradientBoosting 모델로 대규모 데이터셋 처리에 적합\n",
    "- Histogram 기반으로 256개의 구간으로 나누러 처리 병합하는 방식\n",
    "- 결측치가 있어도 전처리가 필요 없음\n",
    "- LightGBM의 영향을 받아 만들어진 scikit-learn 의 모델"
   ]
  },
  {
   "cell_type": "code",
   "execution_count": null,
   "id": "5117386f",
   "metadata": {},
   "outputs": [
    {
     "name": "stdout",
     "output_type": "stream",
     "text": [
      "학습 정확도 : 0.9953051643192489\n",
      "예측 정확도 : 0.965034965034965\n"
     ]
    }
   ],
   "source": [
    "from sklearn.ensemble import HistGradientBoostingClassifier\n",
    "\n",
    "hist_gb_clf = HistGradientBoostingClassifier(\n",
    "    learning_rate=0.1, \n",
    "    max_depth=3, \n",
    "    max_bins=255,   # 기본값 255개의 구간으로 나누어 처리. (1개는 결측치 전용)\n",
    "    early_stopping=True,    # 반복 중 '일정 횟수' 이상 성능 향상이 없으면 학습 종료\n",
    "    n_iter_no_change=5      # '일정 횟수' 지정하는 파라미터 (기본값 : 10)\n",
    ")\n",
    "\n",
    "hist_gb_clf.fit(X_train, y_train)\n",
    "\n",
    "y_pred_train = hist_gb_clf.predict(X_train)\n",
    "y_pred_test = hist_gb_clf.predict(X_test)\n",
    "print(f'학습 정확도 : {accuracy_score(y_train, y_pred_train)}')\n",
    "print(f'예측 정확도 : {accuracy_score(y_test, y_pred_test)}')"
   ]
  },
  {
   "cell_type": "code",
   "execution_count": null,
   "id": "3830aae8",
   "metadata": {},
   "outputs": [
    {
     "data": {
      "text/plain": [
       "array([[ 0.        ,  0.        ,  0.        ,  0.        ,  0.        ],\n",
       "       [-0.00234742,  0.        ,  0.00234742,  0.00469484,  0.00938967],\n",
       "       [ 0.        ,  0.        ,  0.        ,  0.        ,  0.        ],\n",
       "       [ 0.        ,  0.        ,  0.        ,  0.        ,  0.        ],\n",
       "       [ 0.        ,  0.00234742,  0.00234742,  0.        ,  0.        ],\n",
       "       [ 0.        ,  0.        ,  0.        ,  0.        ,  0.        ],\n",
       "       [ 0.        ,  0.        ,  0.        ,  0.        ,  0.        ],\n",
       "       [ 0.00469484,  0.00469484,  0.00469484,  0.00704225,  0.00469484],\n",
       "       [ 0.        ,  0.        ,  0.        ,  0.        ,  0.        ],\n",
       "       [ 0.        ,  0.        ,  0.        ,  0.        ,  0.        ],\n",
       "       [ 0.        ,  0.        ,  0.        , -0.00234742,  0.        ],\n",
       "       [ 0.        ,  0.        ,  0.        ,  0.        ,  0.        ],\n",
       "       [ 0.        ,  0.        ,  0.        ,  0.        ,  0.        ],\n",
       "       [ 0.00469484,  0.        ,  0.00234742,  0.00469484,  0.00469484],\n",
       "       [ 0.        ,  0.        ,  0.        ,  0.        ,  0.        ],\n",
       "       [ 0.00469484,  0.00469484,  0.00234742,  0.00469484,  0.00469484],\n",
       "       [ 0.        ,  0.        , -0.00234742,  0.        ,  0.        ],\n",
       "       [ 0.        ,  0.        ,  0.        ,  0.        ,  0.        ],\n",
       "       [ 0.        ,  0.        ,  0.        ,  0.        ,  0.        ],\n",
       "       [ 0.        ,  0.        ,  0.        ,  0.        ,  0.        ],\n",
       "       [ 0.        , -0.00234742,  0.        , -0.00234742,  0.        ],\n",
       "       [ 0.00469484,  0.00938967,  0.00469484,  0.00938967,  0.00938967],\n",
       "       [ 0.01877934,  0.00469484,  0.01173709,  0.00938967,  0.01173709],\n",
       "       [ 0.00234742,  0.        ,  0.00234742,  0.00234742,  0.00469484],\n",
       "       [ 0.        ,  0.        ,  0.        ,  0.        ,  0.        ],\n",
       "       [ 0.        ,  0.        ,  0.        ,  0.        ,  0.        ],\n",
       "       [ 0.00469484,  0.00234742,  0.        ,  0.00469484,  0.        ],\n",
       "       [ 0.01408451,  0.00704225,  0.01173709,  0.00704225,  0.00704225],\n",
       "       [ 0.        ,  0.        ,  0.        ,  0.        ,  0.        ],\n",
       "       [ 0.        ,  0.        ,  0.        ,  0.        ,  0.        ]])"
      ]
     },
     "execution_count": 7,
     "metadata": {},
     "output_type": "execute_result"
    }
   ],
   "source": [
    "# permutation_importance == 특성 중요도\n",
    "from sklearn.inspection import permutation_importance\n",
    "\n",
    "result = permutation_importance(\n",
    "    hist_gb_clf, \n",
    "    X_train, \n",
    "    y_train, \n",
    "    n_repeats=5,       # 반복 횟수 지정 \n",
    "    random_state=0\n",
    ")\n",
    "\n",
    "# importances_maen : 평균 중요도\n",
    "# importances_std : 중요도 표준편차\n",
    "# importances : 특성 중요도 \n",
    "\n",
    "result.importances"
   ]
  },
  {
   "cell_type": "markdown",
   "id": "d6c4895f",
   "metadata": {},
   "source": [
    "### 회귀모델"
   ]
  },
  {
   "cell_type": "markdown",
   "id": "3fc1f627",
   "metadata": {},
   "source": [
    "sklearn.datasets.load_diabetes 데이터셋\n",
    "\n",
    "- 당뇨병 환자의 진단 자료를 바탕으로 만들어진 회귀용 데이터셋\n",
    "데이터셋 설명:\n",
    "\n",
    "- 목적: 당뇨병 진행 정도(1년 후)를 예측\n",
    "- 데이터 수: 442개의 샘플\n",
    "- 특성 수: 10개의 특성 (10개의 입력 변수)\n",
    "- 타겟: 연속형 값, 당뇨병의 1년 후 진행 상황을 나타냄\n",
    "\n",
    " 특성 설명: 데이터셋의 각 특성(피처)은 환자의 다양한 생체 정보\n",
    "\n",
    "1. age: 나이 (Age)\n",
    "2. sex: 성별 (Sex)\n",
    "3. bmi: 체질량 지수 (Body Mass Index)\n",
    "4. bp: 평균 혈압 (Average Blood Pressure)\n",
    "5. s1: 혈청 내 TC (Total Cholesterol)\n",
    "6. s2: 혈청 내 LDL (Low-Density Lipoproteins)\n",
    "7. s3: 혈청 내 HDL (High-Density Lipoproteins)\n",
    "8. s4: 혈청 내 TCH (Total Cholesterol / HDL)\n",
    "9. s5: 혈청 내 LTG (Log of Serum Triglycerides)\n",
    "10. s6: 혈당 수치 (Blood Sugar Level)\n",
    "\n",
    "데이터 구조:\n",
    "\n",
    "- 입력 데이터 (data): (442, 10) 크기의 NumPy 배열\n",
    "- 타겟 데이터 (target): (442,) 크기의 NumPy 배열로, 각 샘플의 타겟 값(연속형 값)을 포함"
   ]
  },
  {
   "cell_type": "code",
   "execution_count": null,
   "id": "403d06d3",
   "metadata": {},
   "outputs": [],
   "source": [
    "from sklearn.datasets import load_diabetes\n",
    "\n",
    "# 1. 데이터 로드 \n",
    "data = load_diabetes()\n",
    "#  df = pd.DataFrame(data.data, columns=data.feature_names)\n",
    "\n",
    "# 2. 데이터 분리 \n",
    "X_train, X_test, y_train, y_test = train_test_split(data.data, data.target, random_state=0)\n"
   ]
  },
  {
   "cell_type": "code",
   "execution_count": null,
   "id": "87c22059",
   "metadata": {},
   "outputs": [
    {
     "name": "stdout",
     "output_type": "stream",
     "text": [
      "학습 MSE: 1349.7927482181808\n",
      "학습 R2: 0.7841531432486148\n",
      "평가 MSE: 3692.3791002557186\n",
      "평가 R2: 0.256230565040123\n"
     ]
    }
   ],
   "source": [
    "from sklearn.ensemble import HistGradientBoostingRegressor\n",
    "from sklearn.metrics import mean_squared_error, r2_score\n",
    "\n",
    "# 3. HistGrandientBoostingRegressor 모델 생성\n",
    "hist_gb_reg = HistGradientBoostingRegressor(\n",
    "    max_iter=100,\n",
    "    max_depth=3,\n",
    "    learning_rate=0.05,\n",
    "    random_state=0,\n",
    "    l2_regularization=0.5,\n",
    "    min_samples_leaf=5\n",
    ")\n",
    "\n",
    "# 4~6. 학습 > 예측 > mse. r2_score 계산 \n",
    "hist_gb_reg.fit(X_train, y_train)\n",
    "\n",
    "y_pred_train = hist_gb_reg.predict(X_train)\n",
    "y_pred_test = hist_gb_reg.predict(X_test)\n",
    "\n",
    "print(f'학습 MSE: {mean_squared_error(y_train, y_pred_train)}')\n",
    "print(f'학습 R2: {r2_score(y_train, y_pred_train)}')\n",
    "print(f'평가 MSE: {mean_squared_error(y_test, y_pred_test)}')\n",
    "print(f'평가 R2: {r2_score(y_test, y_pred_test)}')"
   ]
  },
  {
   "cell_type": "code",
   "execution_count": null,
   "id": "cec73240",
   "metadata": {},
   "outputs": [],
   "source": [
    "# 교차 검증\n",
    "from sklearn.model_selection import GridSearchCV    # 성능을 최적화 시켜주는 하이퍼파라미터를 찾아줌"
   ]
  },
  {
   "cell_type": "code",
   "execution_count": null,
   "id": "a6f01e56",
   "metadata": {},
   "outputs": [
    {
     "data": {
      "text/plain": [
       "{'l2_regularization': 0.0,\n",
       " 'learning_rate': 0.1,\n",
       " 'max_bins': 127,\n",
       " 'max_depth': 1,\n",
       " 'max_iter': 200,\n",
       " 'min_samples_leaf': 20}"
      ]
     },
     "execution_count": 12,
     "metadata": {},
     "output_type": "execute_result"
    }
   ],
   "source": [
    "# 교차 검증\n",
    "hist_gb_reg = HistGradientBoostingRegressor(random_state=0)\n",
    "param_grid = {\n",
    "    'max_iter': [100, 200, 300],\n",
    "    'max_depth': [1, 3, 5],\n",
    "    'learning_rate': [0.01, 0.05, 0.1],\n",
    "    'min_samples_leaf': [10, 20, 30],\n",
    "    'l2_regularization': [0.0, 0.1, 1.0],\n",
    "    'max_bins': [255, 127]\n",
    "}\n",
    "\n",
    "grid_search = GridSearchCV(hist_gb_reg, param_grid, cv=3, scoring='neg_mean_squared_error')\n",
    "grid_search.fit(X_train, y_train)\n",
    "\n",
    "# param_grid로 전달해준 하이퍼 파라미터 중 최고의 성능을 내는 하이퍼 파라미터 조합\n",
    "grid_search.best_params_    "
   ]
  },
  {
   "cell_type": "code",
   "execution_count": null,
   "id": "927b715a",
   "metadata": {},
   "outputs": [
    {
     "name": "stdout",
     "output_type": "stream",
     "text": [
      "학습 MSE: 2168.484353327469\n",
      "학습 R2: 0.653235259858844\n",
      "평가 MSE: 3455.1451971700467\n",
      "평가 R2: 0.3040174583304508\n"
     ]
    }
   ],
   "source": [
    "# 최고의 성능을 내는 하이퍼 파라미터 조합으로 학습된 모델\n",
    "best_hist_gb_reg = grid_search.best_estimator_\n",
    "\n",
    "y_pred_train = best_hist_gb_reg.predict(X_train)\n",
    "y_pred_test = best_hist_gb_reg.predict(X_test)\n",
    "\n",
    "print(f'학습 MSE: {mean_squared_error(y_train, y_pred_train)}')\n",
    "print(f'학습 R2: {r2_score(y_train, y_pred_train)}')\n",
    "print(f'평가 MSE: {mean_squared_error(y_test, y_pred_test)}')\n",
    "print(f'평가 R2: {r2_score(y_test, y_pred_test)}')"
   ]
  }
 ],
 "metadata": {
  "kernelspec": {
   "display_name": "ml_env",
   "language": "python",
   "name": "python3"
  },
  "language_info": {
   "codemirror_mode": {
    "name": "ipython",
    "version": 3
   },
   "file_extension": ".py",
   "mimetype": "text/x-python",
   "name": "python",
   "nbconvert_exporter": "python",
   "pygments_lexer": "ipython3",
   "version": "3.12.11"
  }
 },
 "nbformat": 4,
 "nbformat_minor": 5
}
