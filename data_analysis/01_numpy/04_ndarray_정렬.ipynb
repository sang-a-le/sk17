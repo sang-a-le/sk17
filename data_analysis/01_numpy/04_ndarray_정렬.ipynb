{
 "cells": [
  {
   "cell_type": "markdown",
   "id": "394ebf01",
   "metadata": {},
   "source": [
    "# ndarray 정렬"
   ]
  },
  {
   "cell_type": "code",
   "execution_count": 1,
   "id": "53169e24",
   "metadata": {},
   "outputs": [],
   "source": [
    "import numpy as np"
   ]
  },
  {
   "cell_type": "markdown",
   "id": "f53c986a",
   "metadata": {},
   "source": [
    "### 1차원 배열 정렬"
   ]
  },
  {
   "cell_type": "code",
   "execution_count": 2,
   "id": "220db80f",
   "metadata": {},
   "outputs": [
    {
     "data": {
      "text/plain": [
       "array([6, 4, 2, 5, 6, 3, 6, 1, 7, 7], dtype=int32)"
      ]
     },
     "execution_count": 2,
     "metadata": {},
     "output_type": "execute_result"
    }
   ],
   "source": [
    "arr = np.random.randint(1, 11, 10)\n",
    "arr"
   ]
  },
  {
   "cell_type": "code",
   "execution_count": 7,
   "id": "326b059d",
   "metadata": {},
   "outputs": [],
   "source": [
    "# np.sort(arr) \n",
    "# - 정열된 ndarray를 '반환'. 원본 배열에 영향을 주지 않음. \n",
    "# - 오름차순 정렬만 지원\n",
    "arr = np.sort(arr)   # reverse = True 지원 X \n",
    "arr_r = np.sort(arr)[::-1]"
   ]
  },
  {
   "cell_type": "code",
   "execution_count": null,
   "id": "e11430c6",
   "metadata": {},
   "outputs": [
    {
     "name": "stdout",
     "output_type": "stream",
     "text": [
      "[1 2 3 4 5 6 6 6 7 7]\n",
      "[7 7 6 6 6 5 4 3 2 1]\n"
     ]
    }
   ],
   "source": [
    "print(arr)     # python .sort 매서드는 원본 데이터에 대해 sort / sort 값을 반환하는 np.sort 함수와 다름.\n",
    "print(arr_r)   # 내림차순 정렬"
   ]
  },
  {
   "cell_type": "markdown",
   "id": "f03bd915",
   "metadata": {},
   "source": [
    "### 2차원 배열 정렬"
   ]
  },
  {
   "cell_type": "code",
   "execution_count": null,
   "id": "5f135043",
   "metadata": {},
   "outputs": [
    {
     "data": {
      "text/plain": [
       "array([[6, 4, 7, 0],\n",
       "       [1, 0, 8, 4],\n",
       "       [5, 9, 4, 3]], dtype=int32)"
      ]
     },
     "execution_count": 9,
     "metadata": {},
     "output_type": "execute_result"
    }
   ],
   "source": [
    "arr = np.random.randint(10, size=(3, 4))   # 0 이상 10 미만\n",
    "arr"
   ]
  },
  {
   "cell_type": "code",
   "execution_count": null,
   "id": "c766281a",
   "metadata": {},
   "outputs": [
    {
     "data": {
      "text/plain": [
       "array([[0, 4, 6, 7],\n",
       "       [0, 1, 4, 8],\n",
       "       [3, 4, 5, 9]], dtype=int32)"
      ]
     },
     "execution_count": 10,
     "metadata": {},
     "output_type": "execute_result"
    }
   ],
   "source": [
    "np.sort(arr)   # 열 방향 정렬 (axis 기본값 = 1)"
   ]
  },
  {
   "cell_type": "code",
   "execution_count": null,
   "id": "1ac8e544",
   "metadata": {},
   "outputs": [
    {
     "name": "stdout",
     "output_type": "stream",
     "text": [
      "[[1 0 4 0]\n",
      " [5 4 7 3]\n",
      " [6 9 8 4]]\n",
      "[[0 4 6 7]\n",
      " [0 1 4 8]\n",
      " [3 4 5 9]]\n"
     ]
    }
   ],
   "source": [
    "print(np.sort(arr, axis=0)) # 행 방향 정렬 (같은 열 안에서 정렬) (*행과 행방향은 수직임. 행방향=행이 늘어나는 방향으로 이해하기)\n",
    "print(np.sort(arr, axis=1)) # 열 방향 정렬 (같은 행 안에서 정렬)"
   ]
  },
  {
   "cell_type": "code",
   "execution_count": null,
   "id": "2ecc0650",
   "metadata": {},
   "outputs": [
    {
     "name": "stdout",
     "output_type": "stream",
     "text": [
      "[0 0 1 3 4 4 4 5 6 7 8 9]\n",
      "(12,)\n"
     ]
    }
   ],
   "source": [
    "print(np.sort(arr, axis=None))          # axis = None 축 무시 (행/열 구분없이 모든 값 정렬)      like 인덱싱 / 슬라이싱 내용\n",
    "print(np.sort(arr, axis=None).shape)    # 1차원"
   ]
  },
  {
   "cell_type": "markdown",
   "id": "f7184169",
   "metadata": {},
   "source": [
    "### np.argsort()\n",
    "- 배열의 값을 정렬했을 때, 각 값의 원래 인덱스를 반환\n",
    "- 정렬할 때 어떤 순서로 값을 배치해야 하는지 알려주는 인덱스를 반환\n",
    "- 배열의 값을 정렬한 후, 정렬된 순서에 해당하는 인덱스를 반환"
   ]
  },
  {
   "cell_type": "code",
   "execution_count": null,
   "id": "0bb01dfd",
   "metadata": {},
   "outputs": [
    {
     "name": "stdout",
     "output_type": "stream",
     "text": [
      "[100 200 300 400]\n",
      "[0 2 3 1]\n"
     ]
    }
   ],
   "source": [
    "arr = np.array([100, 400, 200, 300])\n",
    "\n",
    "print(np.sort(arr))\n",
    "print(np.argsort(arr))"
   ]
  },
  {
   "cell_type": "code",
   "execution_count": 21,
   "id": "76fb4eff",
   "metadata": {},
   "outputs": [
    {
     "name": "stdout",
     "output_type": "stream",
     "text": [
      "['지수' '제니' '로제' '리사']\n"
     ]
    }
   ],
   "source": [
    "# 블랙핑크 사라졌어...\n",
    "blackpink = np.array(['제니','로제','리사','지수'])\n",
    "album_sales = np.array([900,870,780,1002])\n",
    "\n",
    "# 앨범 판매량이 많은 순으로 멤버 이름을 정렬\n",
    "\n",
    "print(blackpink[np.argsort(album_sales)[::-1]])"
   ]
  },
  {
   "cell_type": "code",
   "execution_count": null,
   "id": "da881035",
   "metadata": {},
   "outputs": [
    {
     "name": "stdout",
     "output_type": "stream",
     "text": [
      "[[   7   25 2025]\n",
      " [  14   30   41]]\n",
      "[[1 2 0]\n",
      " [0 2 1]]\n",
      "[[1 2 0]\n",
      " [0 2 1]]\n",
      "[[1 0 0]\n",
      " [0 1 1]]\n"
     ]
    }
   ],
   "source": [
    "# 2차원 배열에서 argsort\n",
    "arr = np.array([[2025, 7, 25], [14, 41, 30]])\n",
    "\n",
    "print(np.sort(arr))\n",
    "print(np.argsort(arr))             # axis 기본값 = 1 (열 방향 정렬)\n",
    "print(np.argsort(arr, axis=1))     # 열 방향 정렬의 순서 (같은 행 안에서 정렬)\n",
    "print(np.argsort(arr, axis=0))     # 행 방향 정렬의 순서 (같은 열 안에서 정렬)"
   ]
  }
 ],
 "metadata": {
  "kernelspec": {
   "display_name": "pystudy_env",
   "language": "python",
   "name": "python3"
  },
  "language_info": {
   "codemirror_mode": {
    "name": "ipython",
    "version": 3
   },
   "file_extension": ".py",
   "mimetype": "text/x-python",
   "name": "python",
   "nbconvert_exporter": "python",
   "pygments_lexer": "ipython3",
   "version": "3.12.11"
  }
 },
 "nbformat": 4,
 "nbformat_minor": 5
}
