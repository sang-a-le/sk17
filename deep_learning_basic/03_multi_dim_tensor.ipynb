{
 "cells": [
  {
   "cell_type": "markdown",
   "id": "b68f5f76",
   "metadata": {},
   "source": [
    "# 다차원 텐서 (다차원 배열)"
   ]
  },
  {
   "cell_type": "code",
   "execution_count": 7,
   "id": "e6fc321d",
   "metadata": {},
   "outputs": [],
   "source": [
    "import numpy as np"
   ]
  },
  {
   "cell_type": "markdown",
   "id": "866309fa",
   "metadata": {},
   "source": [
    "### 다차원 배열의 계산 복습"
   ]
  },
  {
   "cell_type": "code",
   "execution_count": 8,
   "id": "46757f1d",
   "metadata": {},
   "outputs": [
    {
     "name": "stdout",
     "output_type": "stream",
     "text": [
      "[[ 8 10 12]\n",
      " [14 16 18]]\n",
      "[[2 4 6]\n",
      " [5 7 9]]\n",
      "[[ 50  68]\n",
      " [122 167]]\n"
     ]
    }
   ],
   "source": [
    "A = np.array([[1, 2, 3], [4, 5, 6]])\n",
    "B = np.array([[7, 8, 9], [10, 11, 12]])\n",
    "\n",
    "print(A + B) # 단순 합 : (2, 3) 형태로 반환\n",
    "\n",
    "vec = np.array([1, 2, 3])  # (3, ) 브로드캐스팅 연산 진행\n",
    "print(A + vec) # (2, 3) \n",
    "\n",
    "print(A.dot(B.T))  # 점곱(내적) with 전치\n",
    "                   # A.dot(B) = valueError : shape이 안맞기 때문에 에러 / 앞의 열과 뒤의 행의 갯수가 맞아야 가능함. (shape 은 (앞의 행, 뒤의 열) 형태로 반환)\n",
    "                   # 그림 그려서 이해하기 (행, 열)"
   ]
  },
  {
   "cell_type": "markdown",
   "id": "62a1e59e",
   "metadata": {},
   "source": [
    "250801"
   ]
  },
  {
   "cell_type": "markdown",
   "id": "0a3a77b5",
   "metadata": {},
   "source": [
    "### 다층 퍼셉트론"
   ]
  },
  {
   "cell_type": "code",
   "execution_count": null,
   "id": "6d5294f7",
   "metadata": {},
   "outputs": [
    {
     "name": "stdout",
     "output_type": "stream",
     "text": [
      "[[2.50957610e-01 6.97852987e-01 6.59232623e-03 4.45970771e-02]\n",
      " [1.66994884e-03 8.52643557e-04 9.76598412e-01 2.08789961e-02]\n",
      " [2.44367766e-02 7.87123389e-03 5.80661695e-01 3.87030295e-01]\n",
      " [1.18177327e-01 2.19768819e-03 3.31215229e-01 5.48409756e-01]\n",
      " [5.30673651e-01 1.21288697e-01 1.67268090e-01 1.80769562e-01]\n",
      " [2.04486087e-03 4.37542044e-03 9.26336803e-01 6.72429161e-02]]\n"
     ]
    }
   ],
   "source": [
    "### 다층 퍼셉트론에 대한 형태 확인. \n",
    "X = np.random.randn(6, 10)\n",
    "\n",
    "# 은닉층: 10개의 입력을 받아 8개의 뉴런으로 전달\n",
    "w1 = np.random.randn(10, 8)   # 가중치\n",
    "b1 = np.random.randn(1, 8)    # 편향\n",
    "\n",
    "# 출력층: 8개의 입력을 받아 4개의 클래스로 반환\n",
    "W2 = np.random.randn(8, 4)\n",
    "b2 = np.random.randn(1, 4)\n",
    "\n",
    "# 은닉층 계산(선형 계산(가중치*입력값 + 편향) + tanh 활성화 함수)\n",
    "z1 = np.dot(X, w1) + b1\n",
    "result1 = np.tanh(z1)\n",
    "\n",
    "# 출력층 계산(선형 계산 + softmax 활성화 함수)\n",
    "z2 = np.dot(result1, W2) + b2\n",
    "exp_z = np.exp(z2 - np.max(z2, axis=1, keepdims=True))  # np에는 소프트맥스 함수가 없어서 직접 식 계산 (강의 내용 확인 필요)\n",
    "result2 = exp_z / np.sum(exp_z, axis=1, keepdims=True)\n",
    "\n",
    "print(result2) "
   ]
  },
  {
   "cell_type": "markdown",
   "id": "ffc3da0c",
   "metadata": {},
   "source": [
    "### 이미지 데이터 예시"
   ]
  },
  {
   "cell_type": "code",
   "execution_count": null,
   "id": "ca1ea2bb",
   "metadata": {},
   "outputs": [
    {
     "data": {
      "image/png": "[encoded data removed]",
      "text/plain": [
       "<Figure size 640x480 with 3 Axes>"
      ]
     },
     "metadata": {},
     "output_type": "display_data"
    }
   ],
   "source": [
    "import matplotlib.pyplot as plt\n",
    "\n",
    "# 이미지 생성\n",
    "batch_size = 5   \n",
    "channels = 3\n",
    "height = 32\n",
    "width = 32\n",
    "\n",
    "images = np.random.rand(batch_size, channels, height, width)\n",
    "\n",
    "bright_images = np.clip(images + 0.2, 0, 1)  # 밝기를 억제함.\n",
    "\n",
    "gray_images = np.mean(images, axis=1)        # channels 를 기준으로 더해서 나눔 = 1 (흑백으로 변환)\n",
    "\n",
    "images_for_display = images[0].transpose(1, 2, 0)\n",
    "bright_images_for_display = bright_images[0].transpose(1, 2, 0)\n",
    "\n",
    "plt.subplot(1, 3, 1)\n",
    "plt.imshow(images_for_display)  # 숫자값을 기준으로 컬러 반환\n",
    "plt.axis('off')\n",
    "\n",
    "plt.subplot(1, 3, 2)\n",
    "plt.imshow(bright_images_for_display)\n",
    "plt.axis('off')\n",
    "\n",
    "plt.subplot(1, 3, 3)\n",
    "plt.imshow(gray_images[0], cmap='gray')  # 실제 값이 흑백일 경우, gray 명시하기 (기본값이 컬러)\n",
    "plt.axis('off')\n",
    "\n",
    "plt.show()\n"
   ]
  }
 ],
 "metadata": {
  "kernelspec": {
   "display_name": "ml_env",
   "language": "python",
   "name": "python3"
  },
  "language_info": {
   "codemirror_mode": {
    "name": "ipython",
    "version": 3
   },
   "file_extension": ".py",
   "mimetype": "text/x-python",
   "name": "python",
   "nbconvert_exporter": "python",
   "pygments_lexer": "ipython3",
   "version": "3.12.11"
  }
 },
 "nbformat": 4,
 "nbformat_minor": 5
}
