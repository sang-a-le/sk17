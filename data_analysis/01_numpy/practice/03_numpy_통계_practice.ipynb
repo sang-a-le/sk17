{
 "cells": [
  {
   "cell_type": "markdown",
   "id": "83921340",
   "metadata": {},
   "source": [
    "### **[실습 1] 중심 경향 및 산포 측도 계산**\n",
    "\n",
    "<aside>\n",
    "❓\n",
    "\n",
    "아래 배열에서 평균, 중앙값, 최빈값, 분산, 표준편차, 범위를 계산하세요.\n",
    "\n",
    "</aside>"
   ]
  },
  {
   "cell_type": "code",
   "execution_count": 1,
   "id": "699741b1",
   "metadata": {},
   "outputs": [
    {
     "name": "stdout",
     "output_type": "stream",
     "text": [
      "Collecting scipy\n",
      "  Downloading scipy-1.16.0-cp312-cp312-win_amd64.whl.metadata (60 kB)\n",
      "Requirement already satisfied: numpy<2.6,>=1.25.2 in c:\\users\\playdata\\appdata\\local\\anaconda3\\envs\\pystudy_env\\lib\\site-packages (from scipy) (2.3.1)\n",
      "Downloading scipy-1.16.0-cp312-cp312-win_amd64.whl (38.4 MB)\n",
      "   ---------------------------------------- 0.0/38.4 MB ? eta -:--:--\n",
      "   ----------- ---------------------------- 11.3/38.4 MB 64.0 MB/s eta 0:00:01\n",
      "   ---------------------- ----------------- 22.0/38.4 MB 58.0 MB/s eta 0:00:01\n",
      "   ------------------------- -------------- 24.6/38.4 MB 41.0 MB/s eta 0:00:01\n",
      "   ---------------------------------------  38.3/38.4 MB 47.7 MB/s eta 0:00:01\n",
      "   ---------------------------------------- 38.4/38.4 MB 45.2 MB/s eta 0:00:00\n",
      "Installing collected packages: scipy\n",
      "Successfully installed scipy-1.16.0\n"
     ]
    }
   ],
   "source": [
    "!pip install scipy \n",
    "\n",
    "import numpy as np\n",
    "from scipy import stats"
   ]
  },
  {
   "cell_type": "code",
   "execution_count": 2,
   "id": "7ca1529f",
   "metadata": {},
   "outputs": [
    {
     "name": "stdout",
     "output_type": "stream",
     "text": [
      "34.285714285714285\n",
      "30.0\n",
      "ModeResult(mode=np.int64(30), count=np.int64(2))\n",
      "50\n"
     ]
    }
   ],
   "source": [
    "arr = np.array([10, 20, 30, 30, 40, 50, 60])\n",
    "print(np.mean(arr))\n",
    "print(np.median(arr))\n",
    "print(stats.mode(arr))\n",
    "print(np.max(arr)-np.min(arr))"
   ]
  },
  {
   "cell_type": "markdown",
   "id": "e3b82162",
   "metadata": {},
   "source": [
    "### [**실습 2] 정규분포와 균등분포의 난수 생성**\n",
    "\n",
    "<aside>\n",
    "❓\n",
    "\n",
    "정규분포와 균등분포에서 각각 난수를 생성하여, 평균과 표준편차를 계산하세요.\n",
    "\n",
    "1. 평균 0, 표준편차 1인 정규분포 난수 1000개 생성\n",
    "2. 0과 1 사이의 균등분포 난수 1000개 생성\n",
    "</aside>"
   ]
  },
  {
   "cell_type": "code",
   "execution_count": 13,
   "id": "b88c1ddd",
   "metadata": {},
   "outputs": [
    {
     "name": "stdout",
     "output_type": "stream",
     "text": [
      "0.002981301820336876\n",
      "1.0040261786740576\n",
      "0.4893392657010899\n",
      "0.28620897162792075\n"
     ]
    }
   ],
   "source": [
    "arr_sn = np.random.randn(1000)\n",
    "# print(arr_sn)\n",
    "arr_rand = np.random.rand(1000)\n",
    "\n",
    "print(np.mean(arr_sn))\n",
    "print(np.std(arr_sn))\n",
    "\n",
    "print(np.mean(arr_rand))\n",
    "print(np.std(arr_rand))"
   ]
  },
  {
   "cell_type": "markdown",
   "id": "29184970",
   "metadata": {},
   "source": [
    "### [**실습 3] 평균 성적 구하기**\n",
    "\n",
    "<aside>\n",
    "❓\n",
    "\n",
    "아래와 같이 학생별 과목 성적 데이터가 주어졌을 때, 각 학생의 전체 평균 성적(수학, 영어, 과학)을 계산한 후, 이 평균값에 대한 분산과 표준편차를 구하세요.\n",
    "\n",
    "</aside>"
   ]
  },
  {
   "cell_type": "code",
   "execution_count": 16,
   "id": "765c440d",
   "metadata": {},
   "outputs": [
    {
     "name": "stdout",
     "output_type": "stream",
     "text": [
      "87.9 4.968903299521937\n",
      "87.1\n",
      "87.4\n"
     ]
    }
   ],
   "source": [
    "# 학생별 과목 성적 데이터\n",
    "scores_math = [88, 92, 76, 85, 95, 92, 88, 90, 85, 88]\n",
    "scores_english = [90, 85, 80, 87, 92, 89, 83, 91, 86, 88]\n",
    "scores_science = [85, 88, 82, 89, 94, 86, 91, 88, 84, 87]\n",
    "\n",
    "print(np.mean(scores_math), np.std(scores_math))\n",
    "print(np.mean(scores_english))\n",
    "print(np.mean(scores_science))"
   ]
  }
 ],
 "metadata": {
  "kernelspec": {
   "display_name": "pystudy_env",
   "language": "python",
   "name": "python3"
  },
  "language_info": {
   "codemirror_mode": {
    "name": "ipython",
    "version": 3
   },
   "file_extension": ".py",
   "mimetype": "text/x-python",
   "name": "python",
   "nbconvert_exporter": "python",
   "pygments_lexer": "ipython3",
   "version": "3.12.11"
  }
 },
 "nbformat": 4,
 "nbformat_minor": 5
}
