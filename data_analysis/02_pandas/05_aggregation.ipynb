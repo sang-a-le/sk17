{
 "cells": [
  {
   "cell_type": "markdown",
   "id": "aed05590",
   "metadata": {},
   "source": [
    "# Aggregation (집계함수)"
   ]
  },
  {
   "cell_type": "code",
   "execution_count": 81,
   "id": "9cb5e92b",
   "metadata": {},
   "outputs": [],
   "source": [
    "import pandas as pd \n",
    "import numpy as np "
   ]
  },
  {
   "cell_type": "code",
   "execution_count": 82,
   "id": "7a212035",
   "metadata": {},
   "outputs": [
    {
     "name": "stdout",
     "output_type": "stream",
     "text": [
      "<class 'pandas.core.frame.DataFrame'>\n",
      "RangeIndex: 10 entries, 0 to 9\n",
      "Data columns (total 6 columns):\n",
      " #   Column      Non-Null Count  Dtype         \n",
      "---  ------      --------------  -----         \n",
      " 0   name        10 non-null     object        \n",
      " 1   department  10 non-null     object        \n",
      " 2   job         10 non-null     object        \n",
      " 3   branch      10 non-null     object        \n",
      " 4   salary      10 non-null     int64         \n",
      " 5   hire_date   10 non-null     datetime64[ns]\n",
      "dtypes: datetime64[ns](1), int64(1), object(4)\n",
      "memory usage: 612.0+ bytes\n"
     ]
    }
   ],
   "source": [
    "data = {\n",
    "    'name': ['김혜수', '박보검', '송혜교', '아이유', '공유', '전지현', '수지', '유재석', '강동원', '윤아'],\n",
    "    'department': ['인사', '재무', '재무', 'IT', 'IT', '인사', '재무', '인사', 'IT', '재무'],\n",
    "    'job': ['사원', '과장', '대리', '사원', '팀장', '대리', '대리', '과장', '사원', '팀장'],\n",
    "    'branch': ['서울', '부산', '서울', '부산', '서울', '서울', '서울', '부산', '서울', '부산'],\n",
    "    'salary': [3500, 5000, 4200, 3800, 6000, 4500, 4600, 5200, 3900, 6100],\n",
    "    'hire_date': ['2020-03-15', '2018-07-10', '2019-05-20', '2021-01-10', '2017-09-25', '2019-03-05', '2020-06-12', '2016-11-30', '2022-04-01', '2017-12-15']\n",
    "}\n",
    "\n",
    "df = pd.DataFrame(data)\n",
    "\n",
    "df['hire_date'] = pd.to_datetime(df['hire_date'])    # 날짜형으로 반환하는 함수 \n",
    "\n",
    "df.info()"
   ]
  },
  {
   "cell_type": "code",
   "execution_count": 83,
   "id": "083e5895",
   "metadata": {},
   "outputs": [
    {
     "data": {
      "text/plain": [
       "name          10\n",
       "department    10\n",
       "job           10\n",
       "branch        10\n",
       "salary        10\n",
       "hire_date     10\n",
       "dtype: int64"
      ]
     },
     "execution_count": 83,
     "metadata": {},
     "output_type": "execute_result"
    }
   ],
   "source": [
    "# dataframe 레벨에 대해 사용\n",
    "df.count()"
   ]
  },
  {
   "cell_type": "code",
   "execution_count": 84,
   "id": "3b7a0d27",
   "metadata": {},
   "outputs": [
    {
     "name": "stdout",
     "output_type": "stream",
     "text": [
      "10\n",
      "46800\n",
      "4680.0\n",
      "6100\n",
      "3500\n",
      "4550.0\n",
      "797333.3333333334\n",
      "892.9352346801718\n"
     ]
    }
   ],
   "source": [
    "# series 레벨에 대해 사용\n",
    "print(df['salary'].size)   # 개수\n",
    "print(df['salary'].sum())   # 합계\n",
    "print(df['salary'].mean())  # 평균\n",
    "print(df['salary'].max())   # 최대값\n",
    "print(df['salary'].min())   # 최소값\n",
    "print(df['salary'].median())   # 중위값\n",
    "print(df['salary'].var())   # 분산\n",
    "print(df['salary'].std())   # 표준편차"
   ]
  },
  {
   "cell_type": "markdown",
   "id": "66bf9063",
   "metadata": {},
   "source": [
    "---"
   ]
  },
  {
   "cell_type": "markdown",
   "id": "25056467",
   "metadata": {},
   "source": [
    "### groupby\n",
    "- 특정 조건에 맞게 행을 그룹핑하는 매서드\n",
    "- DataFrameGroupBy 객체 반환"
   ]
  },
  {
   "cell_type": "code",
   "execution_count": 85,
   "id": "d58a2507",
   "metadata": {},
   "outputs": [
    {
     "name": "stdout",
     "output_type": "stream",
     "text": [
      "<pandas.core.groupby.generic.DataFrameGroupBy object at 0x0000019F908FF7A0>\n",
      "{'IT': [3, 4, 8], '인사': [0, 5, 7], '재무': [1, 2, 6, 9]}\n",
      "<class 'pandas.core.groupby.generic.DataFrameGroupBy'>\n"
     ]
    }
   ],
   "source": [
    "groupby_dept = df.groupby('department')\n",
    "\n",
    "print(groupby_dept)                  # DataFrameGroupBy object\n",
    "print(groupby_dept.groups)           # 딕셔너리 형태로 반환 : 키값=컬럼명 / 벨류값=해당 로우의 인덱스넘버     # groupby 현황 반환\n",
    "print(type(groupby_dept))            # DataFrameGroupBy object"
   ]
  },
  {
   "cell_type": "code",
   "execution_count": 86,
   "id": "c126ea38",
   "metadata": {},
   "outputs": [
    {
     "name": "stdout",
     "output_type": "stream",
     "text": [
      "department\n",
      "IT    4566.666667\n",
      "인사    4400.000000\n",
      "재무    4975.000000\n",
      "Name: salary, dtype: float64\n",
      "department\n",
      "IT    6000\n",
      "인사    5200\n",
      "재무    6100\n",
      "Name: salary, dtype: int64\n",
      "department\n",
      "IT    3800\n",
      "인사    3500\n",
      "재무    4200\n",
      "Name: salary, dtype: int64\n"
     ]
    }
   ],
   "source": [
    "# 숫자형 데이터 -> 그룹별 집계함수 조회\n",
    "print(groupby_dept['salary'].mean())\n",
    "print(groupby_dept['salary'].max())\n",
    "print(groupby_dept['salary'].min())"
   ]
  },
  {
   "cell_type": "code",
   "execution_count": 87,
   "id": "b844f03b",
   "metadata": {},
   "outputs": [
    {
     "name": "stdout",
     "output_type": "stream",
     "text": [
      "department\n",
      "IT    3\n",
      "인사    3\n",
      "재무    4\n",
      "Name: job, dtype: int64\n",
      "department  job\n",
      "IT          사원     2\n",
      "            팀장     1\n",
      "인사          과장     1\n",
      "            대리     1\n",
      "            사원     1\n",
      "재무          대리     2\n",
      "            과장     1\n",
      "            팀장     1\n",
      "Name: count, dtype: int64\n"
     ]
    }
   ],
   "source": [
    "# 숫자형 데이터가 아닌 경우 -> count()   (int가 아닌경우, 통계량 산출 제한)\n",
    "print(groupby_dept['job'].count())           # 총 개수 반환\n",
    "print(groupby_dept['job'].value_counts())    # 그룹 안에서 value값에 대한 count 반환"
   ]
  },
  {
   "cell_type": "code",
   "execution_count": 88,
   "id": "0c2ab693",
   "metadata": {},
   "outputs": [
    {
     "name": "stdout",
     "output_type": "stream",
     "text": [
      "department\n",
      "IT   2017-09-25\n",
      "인사   2016-11-30\n",
      "재무   2017-12-15\n",
      "Name: hire_date, dtype: datetime64[ns]\n",
      "department\n",
      "IT   2022-04-01\n",
      "인사   2020-03-15\n",
      "재무   2020-06-12\n",
      "Name: hire_date, dtype: datetime64[ns]\n"
     ]
    }
   ],
   "source": [
    "# 날짜형 데이터\n",
    "print(groupby_dept['hire_date'].min())     # 가장 과거인 날짜(입사일이 가장 빠른)\n",
    "print(groupby_dept['hire_date'].max())     # 가장 최근인 날짜(입사일이 가장 늦은)"
   ]
  },
  {
   "cell_type": "code",
   "execution_count": 89,
   "id": "9428b7d0",
   "metadata": {},
   "outputs": [
    {
     "data": {
      "text/html": [
       "<div>\n",
       "<style scoped>\n",
       "    .dataframe tbody tr th:only-of-type {\n",
       "        vertical-align: middle;\n",
       "    }\n",
       "\n",
       "    .dataframe tbody tr th {\n",
       "        vertical-align: top;\n",
       "    }\n",
       "\n",
       "    .dataframe thead th {\n",
       "        text-align: right;\n",
       "    }\n",
       "</style>\n",
       "<table border=\"1\" class=\"dataframe\">\n",
       "  <thead>\n",
       "    <tr style=\"text-align: right;\">\n",
       "      <th></th>\n",
       "      <th>salary_mean</th>\n",
       "      <th>salary_max</th>\n",
       "      <th>hire_date_min</th>\n",
       "      <th>hire_date_max</th>\n",
       "    </tr>\n",
       "    <tr>\n",
       "      <th>department</th>\n",
       "      <th></th>\n",
       "      <th></th>\n",
       "      <th></th>\n",
       "      <th></th>\n",
       "    </tr>\n",
       "  </thead>\n",
       "  <tbody>\n",
       "    <tr>\n",
       "      <th>IT</th>\n",
       "      <td>4566.666667</td>\n",
       "      <td>6000</td>\n",
       "      <td>2017-09-25</td>\n",
       "      <td>2022-04-01</td>\n",
       "    </tr>\n",
       "    <tr>\n",
       "      <th>인사</th>\n",
       "      <td>4400.000000</td>\n",
       "      <td>5200</td>\n",
       "      <td>2016-11-30</td>\n",
       "      <td>2020-03-15</td>\n",
       "    </tr>\n",
       "    <tr>\n",
       "      <th>재무</th>\n",
       "      <td>4975.000000</td>\n",
       "      <td>6100</td>\n",
       "      <td>2017-12-15</td>\n",
       "      <td>2020-06-12</td>\n",
       "    </tr>\n",
       "  </tbody>\n",
       "</table>\n",
       "</div>"
      ],
      "text/plain": [
       "            salary_mean  salary_max hire_date_min hire_date_max\n",
       "department                                                     \n",
       "IT          4566.666667        6000    2017-09-25    2022-04-01\n",
       "인사          4400.000000        5200    2016-11-30    2020-03-15\n",
       "재무          4975.000000        6100    2017-12-15    2020-06-12"
      ]
     },
     "execution_count": 89,
     "metadata": {},
     "output_type": "execute_result"
    }
   ],
   "source": [
    "# named aggregation\n",
    "# - DataFrameGroupBy의 여러 열에 대해 다양한 집계 함수를 적용하면서 결과 열 이름을 지정\n",
    "\n",
    "groupby_dept.agg(\n",
    "    salary_mean = ('salary', 'mean'),    # 열, 통계량 지정\n",
    "    salary_max = ('salary', 'max'), \n",
    "    hire_date_min = ('hire_date', 'min'),\n",
    "    hire_date_max = ('hire_date', 'max')\n",
    ")"
   ]
  },
  {
   "cell_type": "code",
   "execution_count": 90,
   "id": "602d57b8",
   "metadata": {},
   "outputs": [
    {
     "data": {
      "text/plain": [
       "{('IT', '사원'): [3, 8], ('IT', '팀장'): [4], ('인사', '과장'): [7], ('인사', '대리'): [5], ('인사', '사원'): [0], ('재무', '과장'): [1], ('재무', '대리'): [2, 6], ('재무', '팀장'): [9]}"
      ]
     },
     "execution_count": 90,
     "metadata": {},
     "output_type": "execute_result"
    }
   ],
   "source": [
    "# 두 개 이상의 컬럼으로 그룹핑\n",
    "groupby_dept_job = df.groupby(['department', 'job'])\n",
    "groupby_dept_job.groups"
   ]
  },
  {
   "cell_type": "code",
   "execution_count": 91,
   "id": "a09bc601",
   "metadata": {},
   "outputs": [
    {
     "data": {
      "text/html": [
       "<div>\n",
       "<style scoped>\n",
       "    .dataframe tbody tr th:only-of-type {\n",
       "        vertical-align: middle;\n",
       "    }\n",
       "\n",
       "    .dataframe tbody tr th {\n",
       "        vertical-align: top;\n",
       "    }\n",
       "\n",
       "    .dataframe thead th {\n",
       "        text-align: right;\n",
       "    }\n",
       "</style>\n",
       "<table border=\"1\" class=\"dataframe\">\n",
       "  <thead>\n",
       "    <tr style=\"text-align: right;\">\n",
       "      <th></th>\n",
       "      <th></th>\n",
       "      <th>name</th>\n",
       "      <th>branch</th>\n",
       "      <th>salary</th>\n",
       "      <th>hire_date</th>\n",
       "    </tr>\n",
       "    <tr>\n",
       "      <th>department</th>\n",
       "      <th>job</th>\n",
       "      <th></th>\n",
       "      <th></th>\n",
       "      <th></th>\n",
       "      <th></th>\n",
       "    </tr>\n",
       "  </thead>\n",
       "  <tbody>\n",
       "    <tr>\n",
       "      <th rowspan=\"2\" valign=\"top\">IT</th>\n",
       "      <th>사원</th>\n",
       "      <td>2</td>\n",
       "      <td>2</td>\n",
       "      <td>2</td>\n",
       "      <td>2</td>\n",
       "    </tr>\n",
       "    <tr>\n",
       "      <th>팀장</th>\n",
       "      <td>1</td>\n",
       "      <td>1</td>\n",
       "      <td>1</td>\n",
       "      <td>1</td>\n",
       "    </tr>\n",
       "    <tr>\n",
       "      <th rowspan=\"3\" valign=\"top\">인사</th>\n",
       "      <th>과장</th>\n",
       "      <td>1</td>\n",
       "      <td>1</td>\n",
       "      <td>1</td>\n",
       "      <td>1</td>\n",
       "    </tr>\n",
       "    <tr>\n",
       "      <th>대리</th>\n",
       "      <td>1</td>\n",
       "      <td>1</td>\n",
       "      <td>1</td>\n",
       "      <td>1</td>\n",
       "    </tr>\n",
       "    <tr>\n",
       "      <th>사원</th>\n",
       "      <td>1</td>\n",
       "      <td>1</td>\n",
       "      <td>1</td>\n",
       "      <td>1</td>\n",
       "    </tr>\n",
       "    <tr>\n",
       "      <th rowspan=\"3\" valign=\"top\">재무</th>\n",
       "      <th>과장</th>\n",
       "      <td>1</td>\n",
       "      <td>1</td>\n",
       "      <td>1</td>\n",
       "      <td>1</td>\n",
       "    </tr>\n",
       "    <tr>\n",
       "      <th>대리</th>\n",
       "      <td>2</td>\n",
       "      <td>2</td>\n",
       "      <td>2</td>\n",
       "      <td>2</td>\n",
       "    </tr>\n",
       "    <tr>\n",
       "      <th>팀장</th>\n",
       "      <td>1</td>\n",
       "      <td>1</td>\n",
       "      <td>1</td>\n",
       "      <td>1</td>\n",
       "    </tr>\n",
       "  </tbody>\n",
       "</table>\n",
       "</div>"
      ],
      "text/plain": [
       "                name  branch  salary  hire_date\n",
       "department job                                 \n",
       "IT         사원      2       2       2          2\n",
       "           팀장      1       1       1          1\n",
       "인사         과장      1       1       1          1\n",
       "           대리      1       1       1          1\n",
       "           사원      1       1       1          1\n",
       "재무         과장      1       1       1          1\n",
       "           대리      2       2       2          2\n",
       "           팀장      1       1       1          1"
      ]
     },
     "execution_count": 91,
     "metadata": {},
     "output_type": "execute_result"
    }
   ],
   "source": [
    "groupby_dept_job.count()   # 각 로우의 컬럼개수로 카운트 "
   ]
  },
  {
   "cell_type": "code",
   "execution_count": 92,
   "id": "335514db",
   "metadata": {},
   "outputs": [
    {
     "data": {
      "text/plain": [
       "department  job  name  branch  salary  hire_date \n",
       "IT          사원   강동원   서울      3900    2022-04-01    1\n",
       "                 아이유   부산      3800    2021-01-10    1\n",
       "            팀장   공유    서울      6000    2017-09-25    1\n",
       "인사          과장   유재석   부산      5200    2016-11-30    1\n",
       "            대리   전지현   서울      4500    2019-03-05    1\n",
       "            사원   김혜수   서울      3500    2020-03-15    1\n",
       "재무          과장   박보검   부산      5000    2018-07-10    1\n",
       "            대리   송혜교   서울      4200    2019-05-20    1\n",
       "                 수지    서울      4600    2020-06-12    1\n",
       "            팀장   윤아    부산      6100    2017-12-15    1\n",
       "Name: count, dtype: int64"
      ]
     },
     "execution_count": 92,
     "metadata": {},
     "output_type": "execute_result"
    }
   ],
   "source": [
    "groupby_dept_job.value_counts()    # 각각의 값을 반환"
   ]
  },
  {
   "cell_type": "code",
   "execution_count": 93,
   "id": "46054a91",
   "metadata": {},
   "outputs": [
    {
     "data": {
      "text/plain": [
       "('IT', '사원')"
      ]
     },
     "metadata": {},
     "output_type": "display_data"
    },
    {
     "data": {
      "text/html": [
       "<div>\n",
       "<style scoped>\n",
       "    .dataframe tbody tr th:only-of-type {\n",
       "        vertical-align: middle;\n",
       "    }\n",
       "\n",
       "    .dataframe tbody tr th {\n",
       "        vertical-align: top;\n",
       "    }\n",
       "\n",
       "    .dataframe thead th {\n",
       "        text-align: right;\n",
       "    }\n",
       "</style>\n",
       "<table border=\"1\" class=\"dataframe\">\n",
       "  <thead>\n",
       "    <tr style=\"text-align: right;\">\n",
       "      <th></th>\n",
       "      <th>name</th>\n",
       "      <th>department</th>\n",
       "      <th>job</th>\n",
       "      <th>branch</th>\n",
       "      <th>salary</th>\n",
       "      <th>hire_date</th>\n",
       "    </tr>\n",
       "  </thead>\n",
       "  <tbody>\n",
       "    <tr>\n",
       "      <th>3</th>\n",
       "      <td>아이유</td>\n",
       "      <td>IT</td>\n",
       "      <td>사원</td>\n",
       "      <td>부산</td>\n",
       "      <td>3800</td>\n",
       "      <td>2021-01-10</td>\n",
       "    </tr>\n",
       "    <tr>\n",
       "      <th>8</th>\n",
       "      <td>강동원</td>\n",
       "      <td>IT</td>\n",
       "      <td>사원</td>\n",
       "      <td>서울</td>\n",
       "      <td>3900</td>\n",
       "      <td>2022-04-01</td>\n",
       "    </tr>\n",
       "  </tbody>\n",
       "</table>\n",
       "</div>"
      ],
      "text/plain": [
       "  name department job branch  salary  hire_date\n",
       "3  아이유         IT  사원     부산    3800 2021-01-10\n",
       "8  강동원         IT  사원     서울    3900 2022-04-01"
      ]
     },
     "metadata": {},
     "output_type": "display_data"
    },
    {
     "data": {
      "text/plain": [
       "('IT', '팀장')"
      ]
     },
     "metadata": {},
     "output_type": "display_data"
    },
    {
     "data": {
      "text/html": [
       "<div>\n",
       "<style scoped>\n",
       "    .dataframe tbody tr th:only-of-type {\n",
       "        vertical-align: middle;\n",
       "    }\n",
       "\n",
       "    .dataframe tbody tr th {\n",
       "        vertical-align: top;\n",
       "    }\n",
       "\n",
       "    .dataframe thead th {\n",
       "        text-align: right;\n",
       "    }\n",
       "</style>\n",
       "<table border=\"1\" class=\"dataframe\">\n",
       "  <thead>\n",
       "    <tr style=\"text-align: right;\">\n",
       "      <th></th>\n",
       "      <th>name</th>\n",
       "      <th>department</th>\n",
       "      <th>job</th>\n",
       "      <th>branch</th>\n",
       "      <th>salary</th>\n",
       "      <th>hire_date</th>\n",
       "    </tr>\n",
       "  </thead>\n",
       "  <tbody>\n",
       "    <tr>\n",
       "      <th>4</th>\n",
       "      <td>공유</td>\n",
       "      <td>IT</td>\n",
       "      <td>팀장</td>\n",
       "      <td>서울</td>\n",
       "      <td>6000</td>\n",
       "      <td>2017-09-25</td>\n",
       "    </tr>\n",
       "  </tbody>\n",
       "</table>\n",
       "</div>"
      ],
      "text/plain": [
       "  name department job branch  salary  hire_date\n",
       "4   공유         IT  팀장     서울    6000 2017-09-25"
      ]
     },
     "metadata": {},
     "output_type": "display_data"
    },
    {
     "data": {
      "text/plain": [
       "('인사', '과장')"
      ]
     },
     "metadata": {},
     "output_type": "display_data"
    },
    {
     "data": {
      "text/html": [
       "<div>\n",
       "<style scoped>\n",
       "    .dataframe tbody tr th:only-of-type {\n",
       "        vertical-align: middle;\n",
       "    }\n",
       "\n",
       "    .dataframe tbody tr th {\n",
       "        vertical-align: top;\n",
       "    }\n",
       "\n",
       "    .dataframe thead th {\n",
       "        text-align: right;\n",
       "    }\n",
       "</style>\n",
       "<table border=\"1\" class=\"dataframe\">\n",
       "  <thead>\n",
       "    <tr style=\"text-align: right;\">\n",
       "      <th></th>\n",
       "      <th>name</th>\n",
       "      <th>department</th>\n",
       "      <th>job</th>\n",
       "      <th>branch</th>\n",
       "      <th>salary</th>\n",
       "      <th>hire_date</th>\n",
       "    </tr>\n",
       "  </thead>\n",
       "  <tbody>\n",
       "    <tr>\n",
       "      <th>7</th>\n",
       "      <td>유재석</td>\n",
       "      <td>인사</td>\n",
       "      <td>과장</td>\n",
       "      <td>부산</td>\n",
       "      <td>5200</td>\n",
       "      <td>2016-11-30</td>\n",
       "    </tr>\n",
       "  </tbody>\n",
       "</table>\n",
       "</div>"
      ],
      "text/plain": [
       "  name department job branch  salary  hire_date\n",
       "7  유재석         인사  과장     부산    5200 2016-11-30"
      ]
     },
     "metadata": {},
     "output_type": "display_data"
    },
    {
     "data": {
      "text/plain": [
       "('인사', '대리')"
      ]
     },
     "metadata": {},
     "output_type": "display_data"
    },
    {
     "data": {
      "text/html": [
       "<div>\n",
       "<style scoped>\n",
       "    .dataframe tbody tr th:only-of-type {\n",
       "        vertical-align: middle;\n",
       "    }\n",
       "\n",
       "    .dataframe tbody tr th {\n",
       "        vertical-align: top;\n",
       "    }\n",
       "\n",
       "    .dataframe thead th {\n",
       "        text-align: right;\n",
       "    }\n",
       "</style>\n",
       "<table border=\"1\" class=\"dataframe\">\n",
       "  <thead>\n",
       "    <tr style=\"text-align: right;\">\n",
       "      <th></th>\n",
       "      <th>name</th>\n",
       "      <th>department</th>\n",
       "      <th>job</th>\n",
       "      <th>branch</th>\n",
       "      <th>salary</th>\n",
       "      <th>hire_date</th>\n",
       "    </tr>\n",
       "  </thead>\n",
       "  <tbody>\n",
       "    <tr>\n",
       "      <th>5</th>\n",
       "      <td>전지현</td>\n",
       "      <td>인사</td>\n",
       "      <td>대리</td>\n",
       "      <td>서울</td>\n",
       "      <td>4500</td>\n",
       "      <td>2019-03-05</td>\n",
       "    </tr>\n",
       "  </tbody>\n",
       "</table>\n",
       "</div>"
      ],
      "text/plain": [
       "  name department job branch  salary  hire_date\n",
       "5  전지현         인사  대리     서울    4500 2019-03-05"
      ]
     },
     "metadata": {},
     "output_type": "display_data"
    },
    {
     "data": {
      "text/plain": [
       "('인사', '사원')"
      ]
     },
     "metadata": {},
     "output_type": "display_data"
    },
    {
     "data": {
      "text/html": [
       "<div>\n",
       "<style scoped>\n",
       "    .dataframe tbody tr th:only-of-type {\n",
       "        vertical-align: middle;\n",
       "    }\n",
       "\n",
       "    .dataframe tbody tr th {\n",
       "        vertical-align: top;\n",
       "    }\n",
       "\n",
       "    .dataframe thead th {\n",
       "        text-align: right;\n",
       "    }\n",
       "</style>\n",
       "<table border=\"1\" class=\"dataframe\">\n",
       "  <thead>\n",
       "    <tr style=\"text-align: right;\">\n",
       "      <th></th>\n",
       "      <th>name</th>\n",
       "      <th>department</th>\n",
       "      <th>job</th>\n",
       "      <th>branch</th>\n",
       "      <th>salary</th>\n",
       "      <th>hire_date</th>\n",
       "    </tr>\n",
       "  </thead>\n",
       "  <tbody>\n",
       "    <tr>\n",
       "      <th>0</th>\n",
       "      <td>김혜수</td>\n",
       "      <td>인사</td>\n",
       "      <td>사원</td>\n",
       "      <td>서울</td>\n",
       "      <td>3500</td>\n",
       "      <td>2020-03-15</td>\n",
       "    </tr>\n",
       "  </tbody>\n",
       "</table>\n",
       "</div>"
      ],
      "text/plain": [
       "  name department job branch  salary  hire_date\n",
       "0  김혜수         인사  사원     서울    3500 2020-03-15"
      ]
     },
     "metadata": {},
     "output_type": "display_data"
    },
    {
     "data": {
      "text/plain": [
       "('재무', '과장')"
      ]
     },
     "metadata": {},
     "output_type": "display_data"
    },
    {
     "data": {
      "text/html": [
       "<div>\n",
       "<style scoped>\n",
       "    .dataframe tbody tr th:only-of-type {\n",
       "        vertical-align: middle;\n",
       "    }\n",
       "\n",
       "    .dataframe tbody tr th {\n",
       "        vertical-align: top;\n",
       "    }\n",
       "\n",
       "    .dataframe thead th {\n",
       "        text-align: right;\n",
       "    }\n",
       "</style>\n",
       "<table border=\"1\" class=\"dataframe\">\n",
       "  <thead>\n",
       "    <tr style=\"text-align: right;\">\n",
       "      <th></th>\n",
       "      <th>name</th>\n",
       "      <th>department</th>\n",
       "      <th>job</th>\n",
       "      <th>branch</th>\n",
       "      <th>salary</th>\n",
       "      <th>hire_date</th>\n",
       "    </tr>\n",
       "  </thead>\n",
       "  <tbody>\n",
       "    <tr>\n",
       "      <th>1</th>\n",
       "      <td>박보검</td>\n",
       "      <td>재무</td>\n",
       "      <td>과장</td>\n",
       "      <td>부산</td>\n",
       "      <td>5000</td>\n",
       "      <td>2018-07-10</td>\n",
       "    </tr>\n",
       "  </tbody>\n",
       "</table>\n",
       "</div>"
      ],
      "text/plain": [
       "  name department job branch  salary  hire_date\n",
       "1  박보검         재무  과장     부산    5000 2018-07-10"
      ]
     },
     "metadata": {},
     "output_type": "display_data"
    },
    {
     "data": {
      "text/plain": [
       "('재무', '대리')"
      ]
     },
     "metadata": {},
     "output_type": "display_data"
    },
    {
     "data": {
      "text/html": [
       "<div>\n",
       "<style scoped>\n",
       "    .dataframe tbody tr th:only-of-type {\n",
       "        vertical-align: middle;\n",
       "    }\n",
       "\n",
       "    .dataframe tbody tr th {\n",
       "        vertical-align: top;\n",
       "    }\n",
       "\n",
       "    .dataframe thead th {\n",
       "        text-align: right;\n",
       "    }\n",
       "</style>\n",
       "<table border=\"1\" class=\"dataframe\">\n",
       "  <thead>\n",
       "    <tr style=\"text-align: right;\">\n",
       "      <th></th>\n",
       "      <th>name</th>\n",
       "      <th>department</th>\n",
       "      <th>job</th>\n",
       "      <th>branch</th>\n",
       "      <th>salary</th>\n",
       "      <th>hire_date</th>\n",
       "    </tr>\n",
       "  </thead>\n",
       "  <tbody>\n",
       "    <tr>\n",
       "      <th>2</th>\n",
       "      <td>송혜교</td>\n",
       "      <td>재무</td>\n",
       "      <td>대리</td>\n",
       "      <td>서울</td>\n",
       "      <td>4200</td>\n",
       "      <td>2019-05-20</td>\n",
       "    </tr>\n",
       "    <tr>\n",
       "      <th>6</th>\n",
       "      <td>수지</td>\n",
       "      <td>재무</td>\n",
       "      <td>대리</td>\n",
       "      <td>서울</td>\n",
       "      <td>4600</td>\n",
       "      <td>2020-06-12</td>\n",
       "    </tr>\n",
       "  </tbody>\n",
       "</table>\n",
       "</div>"
      ],
      "text/plain": [
       "  name department job branch  salary  hire_date\n",
       "2  송혜교         재무  대리     서울    4200 2019-05-20\n",
       "6   수지         재무  대리     서울    4600 2020-06-12"
      ]
     },
     "metadata": {},
     "output_type": "display_data"
    },
    {
     "data": {
      "text/plain": [
       "('재무', '팀장')"
      ]
     },
     "metadata": {},
     "output_type": "display_data"
    },
    {
     "data": {
      "text/html": [
       "<div>\n",
       "<style scoped>\n",
       "    .dataframe tbody tr th:only-of-type {\n",
       "        vertical-align: middle;\n",
       "    }\n",
       "\n",
       "    .dataframe tbody tr th {\n",
       "        vertical-align: top;\n",
       "    }\n",
       "\n",
       "    .dataframe thead th {\n",
       "        text-align: right;\n",
       "    }\n",
       "</style>\n",
       "<table border=\"1\" class=\"dataframe\">\n",
       "  <thead>\n",
       "    <tr style=\"text-align: right;\">\n",
       "      <th></th>\n",
       "      <th>name</th>\n",
       "      <th>department</th>\n",
       "      <th>job</th>\n",
       "      <th>branch</th>\n",
       "      <th>salary</th>\n",
       "      <th>hire_date</th>\n",
       "    </tr>\n",
       "  </thead>\n",
       "  <tbody>\n",
       "    <tr>\n",
       "      <th>9</th>\n",
       "      <td>윤아</td>\n",
       "      <td>재무</td>\n",
       "      <td>팀장</td>\n",
       "      <td>부산</td>\n",
       "      <td>6100</td>\n",
       "      <td>2017-12-15</td>\n",
       "    </tr>\n",
       "  </tbody>\n",
       "</table>\n",
       "</div>"
      ],
      "text/plain": [
       "  name department job branch  salary  hire_date\n",
       "9   윤아         재무  팀장     부산    6100 2017-12-15"
      ]
     },
     "metadata": {},
     "output_type": "display_data"
    }
   ],
   "source": [
    "for (name, group) in groupby_dept_job :      # 순회해서 값 반환하는 방법 \n",
    "    display(name)                            # print와 동일. 이쁘게 보이는거임. (주피터 전용)\n",
    "    display(group)"
   ]
  },
  {
   "cell_type": "markdown",
   "id": "81b39a17",
   "metadata": {},
   "source": [
    "---"
   ]
  },
  {
   "cell_type": "markdown",
   "id": "659c58b1",
   "metadata": {},
   "source": [
    "### pivot_table\n",
    "- 특정 컬럼(인덱스, 컬럼)을 기준으로 값 컬럼을 열람하는 기능\n",
    "- 연관 있는 데이터를 가독성 좋게 출력 가능"
   ]
  },
  {
   "cell_type": "code",
   "execution_count": 94,
   "id": "b1d5de04",
   "metadata": {},
   "outputs": [
    {
     "data": {
      "text/html": [
       "<div>\n",
       "<style scoped>\n",
       "    .dataframe tbody tr th:only-of-type {\n",
       "        vertical-align: middle;\n",
       "    }\n",
       "\n",
       "    .dataframe tbody tr th {\n",
       "        vertical-align: top;\n",
       "    }\n",
       "\n",
       "    .dataframe thead th {\n",
       "        text-align: right;\n",
       "    }\n",
       "</style>\n",
       "<table border=\"1\" class=\"dataframe\">\n",
       "  <thead>\n",
       "    <tr style=\"text-align: right;\">\n",
       "      <th></th>\n",
       "      <th>Date</th>\n",
       "      <th>City</th>\n",
       "      <th>Temperature</th>\n",
       "    </tr>\n",
       "  </thead>\n",
       "  <tbody>\n",
       "    <tr>\n",
       "      <th>0</th>\n",
       "      <td>2024-10-11</td>\n",
       "      <td>서울</td>\n",
       "      <td>17</td>\n",
       "    </tr>\n",
       "    <tr>\n",
       "      <th>1</th>\n",
       "      <td>2024-10-12</td>\n",
       "      <td>인천</td>\n",
       "      <td>18</td>\n",
       "    </tr>\n",
       "    <tr>\n",
       "      <th>2</th>\n",
       "      <td>2024-10-13</td>\n",
       "      <td>평택</td>\n",
       "      <td>19</td>\n",
       "    </tr>\n",
       "    <tr>\n",
       "      <th>3</th>\n",
       "      <td>2024-10-14</td>\n",
       "      <td>화성</td>\n",
       "      <td>18</td>\n",
       "    </tr>\n",
       "    <tr>\n",
       "      <th>4</th>\n",
       "      <td>2024-10-14</td>\n",
       "      <td>서울</td>\n",
       "      <td>19</td>\n",
       "    </tr>\n",
       "  </tbody>\n",
       "</table>\n",
       "</div>"
      ],
      "text/plain": [
       "         Date City  Temperature\n",
       "0  2024-10-11   서울           17\n",
       "1  2024-10-12   인천           18\n",
       "2  2024-10-13   평택           19\n",
       "3  2024-10-14   화성           18\n",
       "4  2024-10-14   서울           19"
      ]
     },
     "execution_count": 94,
     "metadata": {},
     "output_type": "execute_result"
    }
   ],
   "source": [
    "data = {\n",
    "    'Date': ['2024-10-11', '2024-10-12', '2024-10-13', '2024-10-14', '2024-10-14'],\n",
    "    'City': ['서울', '인천', '평택', '화성', '서울'],\n",
    "    'Temperature': [17, 18, 19, 18, 19]\n",
    "}\n",
    "\n",
    "df =pd.DataFrame(data)\n",
    "df"
   ]
  },
  {
   "cell_type": "code",
   "execution_count": 95,
   "id": "04455f08",
   "metadata": {},
   "outputs": [
    {
     "data": {
      "text/html": [
       "<div>\n",
       "<style scoped>\n",
       "    .dataframe tbody tr th:only-of-type {\n",
       "        vertical-align: middle;\n",
       "    }\n",
       "\n",
       "    .dataframe tbody tr th {\n",
       "        vertical-align: top;\n",
       "    }\n",
       "\n",
       "    .dataframe thead th {\n",
       "        text-align: right;\n",
       "    }\n",
       "</style>\n",
       "<table border=\"1\" class=\"dataframe\">\n",
       "  <thead>\n",
       "    <tr style=\"text-align: right;\">\n",
       "      <th>City</th>\n",
       "      <th>서울</th>\n",
       "      <th>인천</th>\n",
       "      <th>평택</th>\n",
       "      <th>화성</th>\n",
       "    </tr>\n",
       "    <tr>\n",
       "      <th>Date</th>\n",
       "      <th></th>\n",
       "      <th></th>\n",
       "      <th></th>\n",
       "      <th></th>\n",
       "    </tr>\n",
       "  </thead>\n",
       "  <tbody>\n",
       "    <tr>\n",
       "      <th>2024-10-11</th>\n",
       "      <td>17.0</td>\n",
       "      <td>NaN</td>\n",
       "      <td>NaN</td>\n",
       "      <td>NaN</td>\n",
       "    </tr>\n",
       "    <tr>\n",
       "      <th>2024-10-12</th>\n",
       "      <td>NaN</td>\n",
       "      <td>18.0</td>\n",
       "      <td>NaN</td>\n",
       "      <td>NaN</td>\n",
       "    </tr>\n",
       "    <tr>\n",
       "      <th>2024-10-13</th>\n",
       "      <td>NaN</td>\n",
       "      <td>NaN</td>\n",
       "      <td>19.0</td>\n",
       "      <td>NaN</td>\n",
       "    </tr>\n",
       "    <tr>\n",
       "      <th>2024-10-14</th>\n",
       "      <td>19.0</td>\n",
       "      <td>NaN</td>\n",
       "      <td>NaN</td>\n",
       "      <td>18.0</td>\n",
       "    </tr>\n",
       "  </tbody>\n",
       "</table>\n",
       "</div>"
      ],
      "text/plain": [
       "City          서울    인천    평택    화성\n",
       "Date                              \n",
       "2024-10-11  17.0   NaN   NaN   NaN\n",
       "2024-10-12   NaN  18.0   NaN   NaN\n",
       "2024-10-13   NaN   NaN  19.0   NaN\n",
       "2024-10-14  19.0   NaN   NaN  18.0"
      ]
     },
     "execution_count": 95,
     "metadata": {},
     "output_type": "execute_result"
    }
   ],
   "source": [
    "df.pivot_table(index='Date', columns='City', values='Temperature')                     # (index='', columns='', values='') 기본 지정\n",
    "                                                                                       # 피벗테이블 형식으로 변환하는 함수 "
   ]
  },
  {
   "cell_type": "code",
   "execution_count": 96,
   "id": "d4d13445",
   "metadata": {},
   "outputs": [
    {
     "data": {
      "text/html": [
       "<div>\n",
       "<style scoped>\n",
       "    .dataframe tbody tr th:only-of-type {\n",
       "        vertical-align: middle;\n",
       "    }\n",
       "\n",
       "    .dataframe tbody tr th {\n",
       "        vertical-align: top;\n",
       "    }\n",
       "\n",
       "    .dataframe thead th {\n",
       "        text-align: right;\n",
       "    }\n",
       "</style>\n",
       "<table border=\"1\" class=\"dataframe\">\n",
       "  <thead>\n",
       "    <tr style=\"text-align: right;\">\n",
       "      <th></th>\n",
       "      <th>날짜</th>\n",
       "      <th>상품</th>\n",
       "      <th>판매량</th>\n",
       "      <th>가격</th>\n",
       "    </tr>\n",
       "  </thead>\n",
       "  <tbody>\n",
       "    <tr>\n",
       "      <th>0</th>\n",
       "      <td>2024-01-01</td>\n",
       "      <td>아이폰 14</td>\n",
       "      <td>15</td>\n",
       "      <td>1000</td>\n",
       "    </tr>\n",
       "    <tr>\n",
       "      <th>1</th>\n",
       "      <td>2024-01-01</td>\n",
       "      <td>갤럭시 S23</td>\n",
       "      <td>30</td>\n",
       "      <td>900</td>\n",
       "    </tr>\n",
       "    <tr>\n",
       "      <th>2</th>\n",
       "      <td>2024-01-01</td>\n",
       "      <td>아이패드 프로</td>\n",
       "      <td>5</td>\n",
       "      <td>800</td>\n",
       "    </tr>\n",
       "    <tr>\n",
       "      <th>3</th>\n",
       "      <td>2024-01-01</td>\n",
       "      <td>아이폰 14</td>\n",
       "      <td>10</td>\n",
       "      <td>1000</td>\n",
       "    </tr>\n",
       "    <tr>\n",
       "      <th>4</th>\n",
       "      <td>2024-01-02</td>\n",
       "      <td>아이폰 14</td>\n",
       "      <td>20</td>\n",
       "      <td>1000</td>\n",
       "    </tr>\n",
       "    <tr>\n",
       "      <th>5</th>\n",
       "      <td>2024-01-02</td>\n",
       "      <td>갤럭시 S23</td>\n",
       "      <td>25</td>\n",
       "      <td>900</td>\n",
       "    </tr>\n",
       "    <tr>\n",
       "      <th>6</th>\n",
       "      <td>2024-01-02</td>\n",
       "      <td>아이패드 프로</td>\n",
       "      <td>10</td>\n",
       "      <td>800</td>\n",
       "    </tr>\n",
       "    <tr>\n",
       "      <th>7</th>\n",
       "      <td>2024-01-02</td>\n",
       "      <td>갤럭시 S23</td>\n",
       "      <td>5</td>\n",
       "      <td>900</td>\n",
       "    </tr>\n",
       "    <tr>\n",
       "      <th>8</th>\n",
       "      <td>2024-01-03</td>\n",
       "      <td>맥북 프로</td>\n",
       "      <td>8</td>\n",
       "      <td>2000</td>\n",
       "    </tr>\n",
       "    <tr>\n",
       "      <th>9</th>\n",
       "      <td>2024-01-03</td>\n",
       "      <td>아이폰 14</td>\n",
       "      <td>12</td>\n",
       "      <td>1000</td>\n",
       "    </tr>\n",
       "  </tbody>\n",
       "</table>\n",
       "</div>"
      ],
      "text/plain": [
       "           날짜       상품  판매량    가격\n",
       "0  2024-01-01   아이폰 14   15  1000\n",
       "1  2024-01-01  갤럭시 S23   30   900\n",
       "2  2024-01-01  아이패드 프로    5   800\n",
       "3  2024-01-01   아이폰 14   10  1000\n",
       "4  2024-01-02   아이폰 14   20  1000\n",
       "5  2024-01-02  갤럭시 S23   25   900\n",
       "6  2024-01-02  아이패드 프로   10   800\n",
       "7  2024-01-02  갤럭시 S23    5   900\n",
       "8  2024-01-03    맥북 프로    8  2000\n",
       "9  2024-01-03   아이폰 14   12  1000"
      ]
     },
     "execution_count": 96,
     "metadata": {},
     "output_type": "execute_result"
    }
   ],
   "source": [
    "# 제품별 판매데이터 \n",
    "data = {\n",
    "    '날짜': [\n",
    "        '2024-01-01', '2024-01-01', '2024-01-01', '2024-01-01',\n",
    "        '2024-01-02', '2024-01-02', '2024-01-02', '2024-01-02',\n",
    "        '2024-01-03', '2024-01-03'\n",
    "    ],\n",
    "    '상품': [\n",
    "        '아이폰 14', '갤럭시 S23', '아이패드 프로', '아이폰 14',\n",
    "        '아이폰 14', '갤럭시 S23', '아이패드 프로', '갤럭시 S23',\n",
    "        '맥북 프로', '아이폰 14'\n",
    "    ],\n",
    "    '판매량': [15, 30, 5, 10, 20, 25, 10, 5, 8, 12],\n",
    "    '가격': [1000, 900, 800, 1000, 1000, 900, 800, 900, 2000, 1000]\n",
    "}\n",
    "\n",
    "df2 =pd.DataFrame(data)\n",
    "df2"
   ]
  },
  {
   "cell_type": "code",
   "execution_count": 97,
   "id": "ea801436",
   "metadata": {},
   "outputs": [
    {
     "data": {
      "text/html": [
       "<div>\n",
       "<style scoped>\n",
       "    .dataframe tbody tr th:only-of-type {\n",
       "        vertical-align: middle;\n",
       "    }\n",
       "\n",
       "    .dataframe tbody tr th {\n",
       "        vertical-align: top;\n",
       "    }\n",
       "\n",
       "    .dataframe thead th {\n",
       "        text-align: right;\n",
       "    }\n",
       "</style>\n",
       "<table border=\"1\" class=\"dataframe\">\n",
       "  <thead>\n",
       "    <tr style=\"text-align: right;\">\n",
       "      <th>상품</th>\n",
       "      <th>갤럭시 S23</th>\n",
       "      <th>맥북 프로</th>\n",
       "      <th>아이패드 프로</th>\n",
       "      <th>아이폰 14</th>\n",
       "      <th>All</th>\n",
       "    </tr>\n",
       "    <tr>\n",
       "      <th>날짜</th>\n",
       "      <th></th>\n",
       "      <th></th>\n",
       "      <th></th>\n",
       "      <th></th>\n",
       "      <th></th>\n",
       "    </tr>\n",
       "  </thead>\n",
       "  <tbody>\n",
       "    <tr>\n",
       "      <th>2024-01-01</th>\n",
       "      <td>30</td>\n",
       "      <td>0</td>\n",
       "      <td>5</td>\n",
       "      <td>25</td>\n",
       "      <td>60</td>\n",
       "    </tr>\n",
       "    <tr>\n",
       "      <th>2024-01-02</th>\n",
       "      <td>30</td>\n",
       "      <td>0</td>\n",
       "      <td>10</td>\n",
       "      <td>20</td>\n",
       "      <td>60</td>\n",
       "    </tr>\n",
       "    <tr>\n",
       "      <th>2024-01-03</th>\n",
       "      <td>0</td>\n",
       "      <td>8</td>\n",
       "      <td>0</td>\n",
       "      <td>12</td>\n",
       "      <td>20</td>\n",
       "    </tr>\n",
       "    <tr>\n",
       "      <th>All</th>\n",
       "      <td>60</td>\n",
       "      <td>8</td>\n",
       "      <td>15</td>\n",
       "      <td>57</td>\n",
       "      <td>140</td>\n",
       "    </tr>\n",
       "  </tbody>\n",
       "</table>\n",
       "</div>"
      ],
      "text/plain": [
       "상품          갤럭시 S23  맥북 프로  아이패드 프로  아이폰 14  All\n",
       "날짜                                              \n",
       "2024-01-01       30      0        5      25   60\n",
       "2024-01-02       30      0       10      20   60\n",
       "2024-01-03        0      8        0      12   20\n",
       "All              60      8       15      57  140"
      ]
     },
     "execution_count": 97,
     "metadata": {},
     "output_type": "execute_result"
    }
   ],
   "source": [
    "df2.pivot_table(\n",
    "    index='날짜', columns='상품', values='판매량',          # 구조를 바꾸는 과정에서 수치값들의 평균을 반환함. \n",
    "    fill_value=0,   #결측치 대체값\n",
    "    aggfunc='sum',                                        # 기본값 = 평균에서 합계로 변경. 구조 변경 시 중복값이 발생할 때,  처리 방법을 지정\n",
    "    margins=True                                          # 행, 열 방향의 합계를 추가 \n",
    ")"
   ]
  },
  {
   "cell_type": "markdown",
   "id": "37adc181",
   "metadata": {},
   "source": [
    "---"
   ]
  },
  {
   "cell_type": "markdown",
   "id": "3ee2dd8e",
   "metadata": {},
   "source": [
    "### 실습"
   ]
  },
  {
   "cell_type": "markdown",
   "id": "a780ee1e",
   "metadata": {},
   "source": [
    "### **[실습 1] 데이터 정리 및 전처리**\n",
    "\n",
    "다음은 직장 내 직원 데이터입니다. 결측된 값들이 포함되어 있습니다. `Salary`와 `YearsAtCompany`의 결측값을 각 열의 평균값으로 채우세요."
   ]
  },
  {
   "cell_type": "code",
   "execution_count": 98,
   "id": "c9be588f",
   "metadata": {},
   "outputs": [
    {
     "name": "stdout",
     "output_type": "stream",
     "text": [
      "EmployeeID        0\n",
      "Name              0\n",
      "Department        1\n",
      "Salary            1\n",
      "YearsAtCompany    1\n",
      "dtype: int64\n",
      "54250.0\n",
      "5.0\n",
      "<class 'pandas.core.frame.DataFrame'>\n",
      "RangeIndex: 5 entries, 0 to 4\n",
      "Data columns (total 5 columns):\n",
      " #   Column          Non-Null Count  Dtype \n",
      "---  ------          --------------  ----- \n",
      " 0   EmployeeID      5 non-null      int64 \n",
      " 1   Name            5 non-null      object\n",
      " 2   Department      4 non-null      object\n",
      " 3   Salary          5 non-null      object\n",
      " 4   YearsAtCompany  5 non-null      object\n",
      "dtypes: int64(1), object(4)\n",
      "memory usage: 332.0+ bytes\n",
      "None\n"
     ]
    }
   ],
   "source": [
    "employee_data = {\n",
    "    'EmployeeID': [101, 102, 103, 104, 105],\n",
    "    'Name': ['John', 'Emily', 'Sara', 'Tom', 'Anna'],\n",
    "    'Department': ['HR', 'IT', 'Marketing', None, 'HR'],\n",
    "    'Salary': [50000, 70000, None, 45000, 52000],\n",
    "    'YearsAtCompany': [5, None, 8, 3, 4]\n",
    "}\n",
    "\n",
    "df = pd.DataFrame(employee_data)\n",
    "\n",
    "# print(df.info())\n",
    "# print(df[df.duplicated(['Department'])])\n",
    "print(df.isna().sum())\n",
    "\n",
    "print(df['Salary'].mean())\n",
    "print(df['YearsAtCompany'].mean())\n",
    "\n",
    "df['Salary'] = df['Salary'].fillna('54250')\n",
    "df['YearsAtCompany'] = df['YearsAtCompany'].fillna('5')\n",
    "\n",
    "print(df.info())\n"
   ]
  },
  {
   "cell_type": "markdown",
   "id": "9cecf93e",
   "metadata": {},
   "source": [
    "### [실습 2] **중복값 제거**\n",
    "\n",
    "다음은 한 판매점의 제품 판매 기록입니다. 동일한 제품이 중복으로 기록되어 있습니다. 중복된 `ProductID`를 가진 제품의 중복된 행을 제거한 후, 가장 저렴한 가격을 가진 데이터만 남기세요."
   ]
  },
  {
   "cell_type": "code",
   "execution_count": 99,
   "id": "f2fb6f1e",
   "metadata": {},
   "outputs": [],
   "source": [
    "product_data = {\n",
    "    'ProductID': [1, 2, 3, 1, 4, 2],\n",
    "    'ProductName': ['Laptop', 'Mouse', 'Monitor', 'Laptop', 'Keyboard', 'Mouse'],\n",
    "    'Price': [1200, 25, 300, 1150, 45, 22],\n",
    "    'QuantitySold': [10, 100, 50, 8, 70, 120]\n",
    "}\n",
    "\n",
    "df = pd.DataFrame(product_data)"
   ]
  },
  {
   "cell_type": "code",
   "execution_count": 100,
   "id": "de20f834",
   "metadata": {},
   "outputs": [
    {
     "name": "stdout",
     "output_type": "stream",
     "text": [
      "<class 'pandas.core.frame.DataFrame'>\n",
      "RangeIndex: 6 entries, 0 to 5\n",
      "Data columns (total 4 columns):\n",
      " #   Column        Non-Null Count  Dtype \n",
      "---  ------        --------------  ----- \n",
      " 0   ProductID     6 non-null      int64 \n",
      " 1   ProductName   6 non-null      object\n",
      " 2   Price         6 non-null      int64 \n",
      " 3   QuantitySold  6 non-null      int64 \n",
      "dtypes: int64(3), object(1)\n",
      "memory usage: 324.0+ bytes\n"
     ]
    }
   ],
   "source": [
    "df.info()\n",
    "\n",
    "# df.duplicated().sum() "
   ]
  },
  {
   "cell_type": "markdown",
   "id": "836b74e5",
   "metadata": {},
   "source": [
    "### [실습 3] **데이터 정렬**\n",
    "\n",
    "다음은 자동차 모델별 성능 데이터를 포함하고 있습니다. `마력(horsepower)`을 기준으로 오름차순으로 데이터를 정렬한 후, `연비(mpg)`가 높은 상위 3개 자동차만 출력하세요."
   ]
  },
  {
   "cell_type": "code",
   "execution_count": 101,
   "id": "06a23362",
   "metadata": {},
   "outputs": [],
   "source": [
    "car_data = {\n",
    "    'Model': ['Sedan', 'SUV', 'Truck', 'Coupe', 'Convertible'],\n",
    "    'Horsepower': [180, 250, 200, 170, 150],\n",
    "    'MPG': [30, 20, 15, 35, 28],\n",
    "    'Price': [30000, 45000, 40000, 28000, 32000]\n",
    "}"
   ]
  },
  {
   "cell_type": "markdown",
   "id": "0e86c203",
   "metadata": {},
   "source": [
    "### [실습 4] **데이터 필터링**\n",
    "\n",
    "다음은 축구 선수들의 데이터를 나타냅니다. 필터링을 통해 포지션이 \"Forward\"이고, 나이가 30 이하인 선수만 출력하세요."
   ]
  },
  {
   "cell_type": "code",
   "execution_count": 102,
   "id": "62fc2baf",
   "metadata": {},
   "outputs": [],
   "source": [
    "football_data = {\n",
    "    'PlayerID': [201, 202, 203, 204, 205],\n",
    "    'Name': ['Ronaldo', 'Messi', 'Neymar', 'Mbappe', 'Kane'],\n",
    "    'Position': ['Forward', 'Forward', 'Midfielder', 'Forward', 'Forward'],\n",
    "    'GoalsScored': [600, 700, 400, 150, 200],\n",
    "    'Age': [35, 33, 29, 22, 27]\n",
    "}"
   ]
  }
 ],
 "metadata": {
  "kernelspec": {
   "display_name": "pystudy_env",
   "language": "python",
   "name": "python3"
  },
  "language_info": {
   "codemirror_mode": {
    "name": "ipython",
    "version": 3
   },
   "file_extension": ".py",
   "mimetype": "text/x-python",
   "name": "python",
   "nbconvert_exporter": "python",
   "pygments_lexer": "ipython3",
   "version": "3.12.11"
  }
 },
 "nbformat": 4,
 "nbformat_minor": 5
}
