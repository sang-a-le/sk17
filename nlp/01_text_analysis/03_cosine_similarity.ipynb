{
 "cells": [
  {
   "cell_type": "markdown",
   "id": "0bee3bac",
   "metadata": {},
   "source": [
    "# 코사인 유사도 (cosine similarity)"
   ]
  },
  {
   "cell_type": "code",
   "execution_count": 1,
   "id": "90e85e49",
   "metadata": {},
   "outputs": [],
   "source": [
    "# 문서 안 문장 간의 유사도 계산 - 텍스트 분석"
   ]
  },
  {
   "cell_type": "code",
   "execution_count": 1,
   "id": "5e9b798c",
   "metadata": {},
   "outputs": [
    {
     "name": "stdout",
     "output_type": "stream",
     "text": [
      "(3, 18)\n",
      "[('blue', 0), ('deep', 1), ('ends', 2), ('goes', 3), ('hole', 4), ('how', 5), ('if', 6), ('in', 7), ('pill', 8), ('rabbit', 9), ('red', 10), ('show', 11), ('stay', 12), ('story', 13), ('take', 14), ('the', 15), ('wonderland', 16), ('you', 17)]\n"
     ]
    },
    {
     "data": {
      "text/plain": [
       "array([[0.40207758, 1.        , 0.45647296]])"
      ]
     },
     "execution_count": 1,
     "metadata": {},
     "output_type": "execute_result"
    }
   ],
   "source": [
    "from sklearn.feature_extraction.text import TfidfVectorizer\n",
    "from sklearn.metrics.pairwise import cosine_similarity\n",
    "\n",
    "doc_list = [\n",
    "    'if you take the blue pill, the story ends' ,\n",
    "    'if you take the red pill, you stay in Wonderland',\n",
    "    'if you take the red pill, I show you how deep the rabbit hole goes'\n",
    "]\n",
    "\n",
    "tfidf_vectorizer = TfidfVectorizer() #벡터화\n",
    "doc_vecs = tfidf_vectorizer.fit_transform(doc_list)\n",
    "print(doc_vecs.shape)\n",
    "print(sorted(tfidf_vectorizer.vocabulary_.items(), key=lambda x: x[1]))\n",
    "\n",
    "# 코사인 유사도는 밀집 형태로만 반환해야함\n",
    "doc_arr = doc_vecs.toarray()\n",
    "\n",
    "# 코사인 유사도 계산\n",
    "cosine_similarity(doc_arr[1:2], doc_arr)"
   ]
  }
 ],
 "metadata": {
  "kernelspec": {
   "display_name": "nlp_env",
   "language": "python",
   "name": "python3"
  },
  "language_info": {
   "codemirror_mode": {
    "name": "ipython",
    "version": 3
   },
   "file_extension": ".py",
   "mimetype": "text/x-python",
   "name": "python",
   "nbconvert_exporter": "python",
   "pygments_lexer": "ipython3",
   "version": "3.12.11"
  }
 },
 "nbformat": 4,
 "nbformat_minor": 5
}
