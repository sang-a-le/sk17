{
 "cells": [
  {
   "cell_type": "markdown",
   "metadata": {},
   "source": [
    "# 데이터 전처리 \n",
    "- 결측지 확인 및 처리\n",
    "- 이상값 처리\n",
    "- 중복값 처리"
   ]
  },
  {
   "cell_type": "code",
   "execution_count": 70,
   "id": "989fe24d",
   "metadata": {},
   "outputs": [],
   "source": [
    "import pandas as pd \n",
    "import numpy as np"
   ]
  },
  {
   "cell_type": "code",
   "execution_count": 71,
   "id": "770cbe87",
   "metadata": {},
   "outputs": [
    {
     "data": {
      "text/html": [
       "<div>\n",
       "<style scoped>\n",
       "    .dataframe tbody tr th:only-of-type {\n",
       "        vertical-align: middle;\n",
       "    }\n",
       "\n",
       "    .dataframe tbody tr th {\n",
       "        vertical-align: top;\n",
       "    }\n",
       "\n",
       "    .dataframe thead th {\n",
       "        text-align: right;\n",
       "    }\n",
       "</style>\n",
       "<table border=\"1\" class=\"dataframe\">\n",
       "  <thead>\n",
       "    <tr style=\"text-align: right;\">\n",
       "      <th></th>\n",
       "      <th>Name</th>\n",
       "      <th>Phone</th>\n",
       "      <th>Email</th>\n",
       "    </tr>\n",
       "  </thead>\n",
       "  <tbody>\n",
       "    <tr>\n",
       "      <th>0</th>\n",
       "      <td>김민수</td>\n",
       "      <td>010-1234-5678</td>\n",
       "      <td>minsu.kim@gmail.com</td>\n",
       "    </tr>\n",
       "    <tr>\n",
       "      <th>1</th>\n",
       "      <td>이지은</td>\n",
       "      <td>010-2345-6789</td>\n",
       "      <td>jieun.lee@naver.com</td>\n",
       "    </tr>\n",
       "    <tr>\n",
       "      <th>2</th>\n",
       "      <td>박철수</td>\n",
       "      <td>010-3456-7890</td>\n",
       "      <td>chulsoo.park@hotmail.com</td>\n",
       "    </tr>\n",
       "    <tr>\n",
       "      <th>3</th>\n",
       "      <td>홍길동</td>\n",
       "      <td>010-4567-8901</td>\n",
       "      <td>gildong.hong@daum.net</td>\n",
       "    </tr>\n",
       "    <tr>\n",
       "      <th>4</th>\n",
       "      <td>김영희</td>\n",
       "      <td>010-5678-9012</td>\n",
       "      <td>younghee.kim@gmail.com</td>\n",
       "    </tr>\n",
       "    <tr>\n",
       "      <th>...</th>\n",
       "      <td>...</td>\n",
       "      <td>...</td>\n",
       "      <td>...</td>\n",
       "    </tr>\n",
       "    <tr>\n",
       "      <th>72</th>\n",
       "      <td>범수정</td>\n",
       "      <td>010-3456-7892</td>\n",
       "      <td>soojeong.beom@gmail.com</td>\n",
       "    </tr>\n",
       "    <tr>\n",
       "      <th>73</th>\n",
       "      <td>이호진</td>\n",
       "      <td>010-4567-8904</td>\n",
       "      <td>hojin.lee@daum.net</td>\n",
       "    </tr>\n",
       "    <tr>\n",
       "      <th>74</th>\n",
       "      <td>정지윤</td>\n",
       "      <td>010-5678-9015</td>\n",
       "      <td>jungzee@naver.com</td>\n",
       "    </tr>\n",
       "    <tr>\n",
       "      <th>75</th>\n",
       "      <td>김지현</td>\n",
       "      <td>010-6789-0126</td>\n",
       "      <td>jh.kim@gmail.com</td>\n",
       "    </tr>\n",
       "    <tr>\n",
       "      <th>76</th>\n",
       "      <td>이지훈</td>\n",
       "      <td>010-7890-1237</td>\n",
       "      <td>leejh@gmail.com</td>\n",
       "    </tr>\n",
       "  </tbody>\n",
       "</table>\n",
       "<p>77 rows × 3 columns</p>\n",
       "</div>"
      ],
      "text/plain": [
       "   Name          Phone                     Email\n",
       "0   김민수  010-1234-5678       minsu.kim@gmail.com\n",
       "1   이지은  010-2345-6789       jieun.lee@naver.com\n",
       "2   박철수  010-3456-7890  chulsoo.park@hotmail.com\n",
       "3   홍길동  010-4567-8901     gildong.hong@daum.net\n",
       "4   김영희  010-5678-9012    younghee.kim@gmail.com\n",
       "..  ...            ...                       ...\n",
       "72  범수정  010-3456-7892   soojeong.beom@gmail.com\n",
       "73  이호진  010-4567-8904        hojin.lee@daum.net\n",
       "74  정지윤  010-5678-9015         jungzee@naver.com\n",
       "75  김지현  010-6789-0126          jh.kim@gmail.com\n",
       "76  이지훈  010-7890-1237           leejh@gmail.com\n",
       "\n",
       "[77 rows x 3 columns]"
      ]
     },
     "execution_count": 71,
     "metadata": {},
     "output_type": "execute_result"
    }
   ],
   "source": [
    "df = pd.read_csv('./data/contacts.csv')\n",
    "df"
   ]
  },
  {
   "cell_type": "code",
   "execution_count": 72,
   "id": "0b107e3e",
   "metadata": {},
   "outputs": [
    {
     "name": "stdout",
     "output_type": "stream",
     "text": [
      "<class 'pandas.core.frame.DataFrame'>\n",
      "RangeIndex: 77 entries, 0 to 76\n",
      "Data columns (total 3 columns):\n",
      " #   Column  Non-Null Count  Dtype \n",
      "---  ------  --------------  ----- \n",
      " 0   Name    77 non-null     object\n",
      " 1   Phone   71 non-null     object\n",
      " 2   Email   76 non-null     object\n",
      "dtypes: object(3)\n",
      "memory usage: 1.9+ KB\n"
     ]
    }
   ],
   "source": [
    "df.info()     # 결측치 개수 확인가능"
   ]
  },
  {
   "cell_type": "code",
   "execution_count": 73,
   "id": "431f1caa",
   "metadata": {},
   "outputs": [
    {
     "data": {
      "text/html": [
       "<div>\n",
       "<style scoped>\n",
       "    .dataframe tbody tr th:only-of-type {\n",
       "        vertical-align: middle;\n",
       "    }\n",
       "\n",
       "    .dataframe tbody tr th {\n",
       "        vertical-align: top;\n",
       "    }\n",
       "\n",
       "    .dataframe thead th {\n",
       "        text-align: right;\n",
       "    }\n",
       "</style>\n",
       "<table border=\"1\" class=\"dataframe\">\n",
       "  <thead>\n",
       "    <tr style=\"text-align: right;\">\n",
       "      <th></th>\n",
       "      <th>Name</th>\n",
       "      <th>Phone</th>\n",
       "      <th>Email</th>\n",
       "    </tr>\n",
       "  </thead>\n",
       "  <tbody>\n",
       "    <tr>\n",
       "      <th>count</th>\n",
       "      <td>77</td>\n",
       "      <td>71</td>\n",
       "      <td>76</td>\n",
       "    </tr>\n",
       "    <tr>\n",
       "      <th>unique</th>\n",
       "      <td>75</td>\n",
       "      <td>63</td>\n",
       "      <td>75</td>\n",
       "    </tr>\n",
       "    <tr>\n",
       "      <th>top</th>\n",
       "      <td>박철수</td>\n",
       "      <td>010-2345-6789</td>\n",
       "      <td>dahyun.jung@naver.com</td>\n",
       "    </tr>\n",
       "    <tr>\n",
       "      <th>freq</th>\n",
       "      <td>2</td>\n",
       "      <td>2</td>\n",
       "      <td>2</td>\n",
       "    </tr>\n",
       "  </tbody>\n",
       "</table>\n",
       "</div>"
      ],
      "text/plain": [
       "       Name          Phone                  Email\n",
       "count    77             71                     76\n",
       "unique   75             63                     75\n",
       "top     박철수  010-2345-6789  dahyun.jung@naver.com\n",
       "freq      2              2                      2"
      ]
     },
     "execution_count": 73,
     "metadata": {},
     "output_type": "execute_result"
    }
   ],
   "source": [
    "df.describe()    # object 형식이기 때문에, 다른 형식으로 반환 / top : 가장 많이 가지고 있는 값 / freq : 가장 많이 가지고 있는 값의 개수"
   ]
  },
  {
   "cell_type": "code",
   "execution_count": 74,
   "id": "16f275a6",
   "metadata": {},
   "outputs": [
    {
     "data": {
      "text/html": [
       "<div>\n",
       "<style scoped>\n",
       "    .dataframe tbody tr th:only-of-type {\n",
       "        vertical-align: middle;\n",
       "    }\n",
       "\n",
       "    .dataframe tbody tr th {\n",
       "        vertical-align: top;\n",
       "    }\n",
       "\n",
       "    .dataframe thead th {\n",
       "        text-align: right;\n",
       "    }\n",
       "</style>\n",
       "<table border=\"1\" class=\"dataframe\">\n",
       "  <thead>\n",
       "    <tr style=\"text-align: right;\">\n",
       "      <th></th>\n",
       "      <th>Name</th>\n",
       "      <th>Phone</th>\n",
       "      <th>Email</th>\n",
       "    </tr>\n",
       "  </thead>\n",
       "  <tbody>\n",
       "    <tr>\n",
       "      <th>2</th>\n",
       "      <td>박철수</td>\n",
       "      <td>010-3456-7890</td>\n",
       "      <td>chulsoo.park@hotmail.com</td>\n",
       "    </tr>\n",
       "    <tr>\n",
       "      <th>31</th>\n",
       "      <td>박철수</td>\n",
       "      <td>010-1234-5681</td>\n",
       "      <td>chulsoo.park@gmail.com</td>\n",
       "    </tr>\n",
       "  </tbody>\n",
       "</table>\n",
       "</div>"
      ],
      "text/plain": [
       "   Name          Phone                     Email\n",
       "2   박철수  010-3456-7890  chulsoo.park@hotmail.com\n",
       "31  박철수  010-1234-5681    chulsoo.park@gmail.com"
      ]
     },
     "execution_count": 74,
     "metadata": {},
     "output_type": "execute_result"
    }
   ],
   "source": [
    "df[df['Name'] == '박철수']"
   ]
  },
  {
   "cell_type": "code",
   "execution_count": 75,
   "id": "898f2026",
   "metadata": {},
   "outputs": [
    {
     "data": {
      "text/html": [
       "<div>\n",
       "<style scoped>\n",
       "    .dataframe tbody tr th:only-of-type {\n",
       "        vertical-align: middle;\n",
       "    }\n",
       "\n",
       "    .dataframe tbody tr th {\n",
       "        vertical-align: top;\n",
       "    }\n",
       "\n",
       "    .dataframe thead th {\n",
       "        text-align: right;\n",
       "    }\n",
       "</style>\n",
       "<table border=\"1\" class=\"dataframe\">\n",
       "  <thead>\n",
       "    <tr style=\"text-align: right;\">\n",
       "      <th></th>\n",
       "      <th>Name</th>\n",
       "      <th>Phone</th>\n",
       "      <th>Email</th>\n",
       "    </tr>\n",
       "  </thead>\n",
       "  <tbody>\n",
       "    <tr>\n",
       "      <th>1</th>\n",
       "      <td>이지은</td>\n",
       "      <td>010-2345-6789</td>\n",
       "      <td>jieun.lee@naver.com</td>\n",
       "    </tr>\n",
       "    <tr>\n",
       "      <th>71</th>\n",
       "      <td>엄정희</td>\n",
       "      <td>010-2345-6789</td>\n",
       "      <td>jeonghee.eom@hotmail.com</td>\n",
       "    </tr>\n",
       "  </tbody>\n",
       "</table>\n",
       "</div>"
      ],
      "text/plain": [
       "   Name          Phone                     Email\n",
       "1   이지은  010-2345-6789       jieun.lee@naver.com\n",
       "71  엄정희  010-2345-6789  jeonghee.eom@hotmail.com"
      ]
     },
     "execution_count": 75,
     "metadata": {},
     "output_type": "execute_result"
    }
   ],
   "source": [
    "df[df['Phone'] == '010-2345-6789']"
   ]
  },
  {
   "cell_type": "code",
   "execution_count": 76,
   "id": "2ae1dcb5",
   "metadata": {},
   "outputs": [
    {
     "data": {
      "text/html": [
       "<div>\n",
       "<style scoped>\n",
       "    .dataframe tbody tr th:only-of-type {\n",
       "        vertical-align: middle;\n",
       "    }\n",
       "\n",
       "    .dataframe tbody tr th {\n",
       "        vertical-align: top;\n",
       "    }\n",
       "\n",
       "    .dataframe thead th {\n",
       "        text-align: right;\n",
       "    }\n",
       "</style>\n",
       "<table border=\"1\" class=\"dataframe\">\n",
       "  <thead>\n",
       "    <tr style=\"text-align: right;\">\n",
       "      <th></th>\n",
       "      <th>Name</th>\n",
       "      <th>Phone</th>\n",
       "      <th>Email</th>\n",
       "    </tr>\n",
       "  </thead>\n",
       "  <tbody>\n",
       "    <tr>\n",
       "      <th>32</th>\n",
       "      <td>정다현</td>\n",
       "      <td>010-2345-6782</td>\n",
       "      <td>dahyun.jung@naver.com</td>\n",
       "    </tr>\n",
       "    <tr>\n",
       "      <th>67</th>\n",
       "      <td>정다현</td>\n",
       "      <td>010-2345-6782</td>\n",
       "      <td>dahyun.jung@naver.com</td>\n",
       "    </tr>\n",
       "  </tbody>\n",
       "</table>\n",
       "</div>"
      ],
      "text/plain": [
       "   Name          Phone                  Email\n",
       "32  정다현  010-2345-6782  dahyun.jung@naver.com\n",
       "67  정다현  010-2345-6782  dahyun.jung@naver.com"
      ]
     },
     "execution_count": 76,
     "metadata": {},
     "output_type": "execute_result"
    }
   ],
   "source": [
    "df[df['Email'] == 'dahyun.jung@naver.com']"
   ]
  },
  {
   "cell_type": "markdown",
   "id": "7d2156e3",
   "metadata": {},
   "source": [
    "### 중복 데이터 처리 "
   ]
  },
  {
   "cell_type": "code",
   "execution_count": null,
   "id": "b496de0b",
   "metadata": {},
   "outputs": [
    {
     "data": {
      "text/plain": [
       "0     False\n",
       "1     False\n",
       "2     False\n",
       "3     False\n",
       "4     False\n",
       "      ...  \n",
       "72    False\n",
       "73    False\n",
       "74    False\n",
       "75    False\n",
       "76    False\n",
       "Length: 76, dtype: bool"
      ]
     },
     "execution_count": 86,
     "metadata": {},
     "output_type": "execute_result"
    }
   ],
   "source": [
    "# df.duplicated()    # 기본적으로 모든 컬럼 값이 같을 때 중복으로 간주 \n",
    "\n",
    "df.duplicated().sum()    \n",
    "\n",
    "# 결과가 1 = 2개의 행의 데이터가 중복\n",
    "# 결과가 2 = a라는 데이터가 3번 중복된 경우 or a라는 데이터가 2번 + b라는 데이터가 2번 중복된 경우"
   ]
  },
  {
   "cell_type": "code",
   "execution_count": 78,
   "id": "061f9a92",
   "metadata": {},
   "outputs": [
    {
     "data": {
      "text/html": [
       "<div>\n",
       "<style scoped>\n",
       "    .dataframe tbody tr th:only-of-type {\n",
       "        vertical-align: middle;\n",
       "    }\n",
       "\n",
       "    .dataframe tbody tr th {\n",
       "        vertical-align: top;\n",
       "    }\n",
       "\n",
       "    .dataframe thead th {\n",
       "        text-align: right;\n",
       "    }\n",
       "</style>\n",
       "<table border=\"1\" class=\"dataframe\">\n",
       "  <thead>\n",
       "    <tr style=\"text-align: right;\">\n",
       "      <th></th>\n",
       "      <th>Name</th>\n",
       "      <th>Phone</th>\n",
       "      <th>Email</th>\n",
       "    </tr>\n",
       "  </thead>\n",
       "  <tbody>\n",
       "    <tr>\n",
       "      <th>67</th>\n",
       "      <td>정다현</td>\n",
       "      <td>010-2345-6782</td>\n",
       "      <td>dahyun.jung@naver.com</td>\n",
       "    </tr>\n",
       "  </tbody>\n",
       "</table>\n",
       "</div>"
      ],
      "text/plain": [
       "   Name          Phone                  Email\n",
       "67  정다현  010-2345-6782  dahyun.jung@naver.com"
      ]
     },
     "execution_count": 78,
     "metadata": {},
     "output_type": "execute_result"
    }
   ],
   "source": [
    "df[df.duplicated()]"
   ]
  },
  {
   "cell_type": "code",
   "execution_count": 79,
   "id": "09a90838",
   "metadata": {},
   "outputs": [
    {
     "data": {
      "text/html": [
       "<div>\n",
       "<style scoped>\n",
       "    .dataframe tbody tr th:only-of-type {\n",
       "        vertical-align: middle;\n",
       "    }\n",
       "\n",
       "    .dataframe tbody tr th {\n",
       "        vertical-align: top;\n",
       "    }\n",
       "\n",
       "    .dataframe thead th {\n",
       "        text-align: right;\n",
       "    }\n",
       "</style>\n",
       "<table border=\"1\" class=\"dataframe\">\n",
       "  <thead>\n",
       "    <tr style=\"text-align: right;\">\n",
       "      <th></th>\n",
       "      <th>Name</th>\n",
       "      <th>Phone</th>\n",
       "      <th>Email</th>\n",
       "    </tr>\n",
       "  </thead>\n",
       "  <tbody>\n",
       "    <tr>\n",
       "      <th>31</th>\n",
       "      <td>박철수</td>\n",
       "      <td>010-1234-5681</td>\n",
       "      <td>chulsoo.park@gmail.com</td>\n",
       "    </tr>\n",
       "    <tr>\n",
       "      <th>67</th>\n",
       "      <td>정다현</td>\n",
       "      <td>010-2345-6782</td>\n",
       "      <td>dahyun.jung@naver.com</td>\n",
       "    </tr>\n",
       "  </tbody>\n",
       "</table>\n",
       "</div>"
      ],
      "text/plain": [
       "   Name          Phone                   Email\n",
       "31  박철수  010-1234-5681  chulsoo.park@gmail.com\n",
       "67  정다현  010-2345-6782   dahyun.jung@naver.com"
      ]
     },
     "execution_count": 79,
     "metadata": {},
     "output_type": "execute_result"
    }
   ],
   "source": [
    "# 특정 컬럼을 지정해 중복 데이터를 확인 가능\n",
    "df[df.duplicated(['Name'])]"
   ]
  },
  {
   "cell_type": "code",
   "execution_count": 80,
   "id": "774cbfdb",
   "metadata": {},
   "outputs": [
    {
     "name": "stdout",
     "output_type": "stream",
     "text": [
      "<class 'pandas.core.frame.DataFrame'>\n",
      "RangeIndex: 77 entries, 0 to 76\n",
      "Data columns (total 3 columns):\n",
      " #   Column  Non-Null Count  Dtype \n",
      "---  ------  --------------  ----- \n",
      " 0   Name    77 non-null     object\n",
      " 1   Phone   71 non-null     object\n",
      " 2   Email   76 non-null     object\n",
      "dtypes: object(3)\n",
      "memory usage: 1.9+ KB\n"
     ]
    }
   ],
   "source": [
    "# 중복데이터 제거 \n",
    "df.drop_duplicates().reset_index(drop=True)      # drop만 사용시 인덱스가 유지됨. reset_index 매서드를 이용해서 인덱스 재설정 조건 부여 \n",
    "df.info()                                               # drop_duplicartes : 모든 컬럼이 동일하면 제거 "
   ]
  },
  {
   "cell_type": "markdown",
   "id": "8b2a19ab",
   "metadata": {},
   "source": [
    "---"
   ]
  },
  {
   "cell_type": "markdown",
   "id": "db69512d",
   "metadata": {},
   "source": [
    "### 결측치 처리 "
   ]
  },
  {
   "cell_type": "code",
   "execution_count": 81,
   "id": "796911ac",
   "metadata": {},
   "outputs": [
    {
     "data": {
      "text/plain": [
       "Name     0\n",
       "Phone    6\n",
       "Email    1\n",
       "dtype: int64"
      ]
     },
     "execution_count": 81,
     "metadata": {},
     "output_type": "execute_result"
    }
   ],
   "source": [
    "df.isna().sum()"
   ]
  },
  {
   "cell_type": "code",
   "execution_count": 82,
   "id": "5d784f55",
   "metadata": {},
   "outputs": [
    {
     "data": {
      "text/plain": [
       "Name     0\n",
       "Phone    6\n",
       "Email    1\n",
       "dtype: int64"
      ]
     },
     "execution_count": 82,
     "metadata": {},
     "output_type": "execute_result"
    }
   ],
   "source": [
    "df.isnull().sum()                # isna와 동일한 기능을 함. "
   ]
  },
  {
   "cell_type": "code",
   "execution_count": null,
   "id": "ee361671",
   "metadata": {},
   "outputs": [
    {
     "data": {
      "text/plain": [
       "Phone\n",
       "010-2345-6789    7\n",
       "010-2345-6782    2\n",
       "010-3456-7892    2\n",
       "010-0123-4569    2\n",
       "010-7890-1237    2\n",
       "                ..\n",
       "010-6789-0128    1\n",
       "010-7890-1240    1\n",
       "010-8901-2349    1\n",
       "010-9012-3461    1\n",
       "010-1234-5672    1\n",
       "Name: count, Length: 63, dtype: int64"
      ]
     },
     "execution_count": 89,
     "metadata": {},
     "output_type": "execute_result"
    }
   ],
   "source": [
    "# 대표값으로 결측치 대체\n",
    "# - 평균, 기본값, 최빈값 ,,,\n",
    "\n",
    "# df['Phone'] = df['Phone'].fillna('010-0000-0000')     # 기본값\n",
    "\n",
    "df['Phone'].value_counts()   # 값의 개수를 반환\n",
    "df['Phone'] = df['Phone'].fillna('010-2345-6789')       # 최빈값\n",
    "\n",
    "# df.info()\n",
    "# print(df['Phone'] == '010-0000-0000')"
   ]
  },
  {
   "cell_type": "code",
   "execution_count": 85,
   "id": "489403f6",
   "metadata": {},
   "outputs": [
    {
     "name": "stdout",
     "output_type": "stream",
     "text": [
      "<class 'pandas.core.frame.DataFrame'>\n",
      "Index: 76 entries, 0 to 76\n",
      "Data columns (total 3 columns):\n",
      " #   Column  Non-Null Count  Dtype \n",
      "---  ------  --------------  ----- \n",
      " 0   Name    76 non-null     object\n",
      " 1   Phone   76 non-null     object\n",
      " 2   Email   76 non-null     object\n",
      "dtypes: object(3)\n",
      "memory usage: 2.4+ KB\n"
     ]
    }
   ],
   "source": [
    "# df.dropna() : 결측치가 포함된 행 제거 \n",
    "# - how = 'all' : 모든 셀이 결측치인 경우 행 제거 \n",
    "# - how = 'any' : 결측치 셀을 하나라도 가지고 있으면 해당 행 제거 (기본값)\n",
    "\n",
    "# df = df.dropna(how='all')     # inplace 연산 미지원\n",
    "df = df.dropna() \n",
    "df.info()"
   ]
  }
 ],
 "metadata": {
  "kernelspec": {
   "display_name": "pystudy_env",
   "language": "python",
   "name": "python3"
  },
  "language_info": {
   "codemirror_mode": {
    "name": "ipython",
    "version": 3
   },
   "file_extension": ".py",
   "mimetype": "text/x-python",
   "name": "python",
   "nbconvert_exporter": "python",
   "pygments_lexer": "ipython3",
   "version": "3.12.11"
  }
 },
 "nbformat": 4,
 "nbformat_minor": 5
}
