{
 "cells": [
  {
   "cell_type": "markdown",
   "id": "94cef1d7",
   "metadata": {},
   "source": [
    "# 정규표현식 (Regular Expression)\n",
    "\n",
    "- 특정한 규칙을 가진 문자열을 찾기 위한 패턴\n",
    "- 정규 표현식을 사용하면 대량의 텍스트 데이터에서 특정 패턴을 효율적으로 추출, 삭제, 대체 가능"
   ]
  },
  {
   "cell_type": "code",
   "execution_count": 1,
   "id": "edd1238b",
   "metadata": {},
   "outputs": [],
   "source": [
    "# 정규표현식 모듈\n",
    "import re"
   ]
  },
  {
   "cell_type": "markdown",
   "id": "3322fefb",
   "metadata": {},
   "source": [
    "### Syntax"
   ]
  },
  {
   "cell_type": "markdown",
   "id": "ecc0bef7",
   "metadata": {},
   "source": [
    "깃 확인 alb는 a|b로 알기"
   ]
  },
  {
   "cell_type": "markdown",
   "id": "39593ca3",
   "metadata": {},
   "source": [
    "##### 임의의 한 글자  ."
   ]
  },
  {
   "cell_type": "code",
   "execution_count": null,
   "id": "b8fa5152",
   "metadata": {},
   "outputs": [
    {
     "name": "stdout",
     "output_type": "stream",
     "text": [
      "<re.Match object; span=(0, 3), match='abc'>\n",
      "None\n",
      "<re.Match object; span=(0, 3), match='aXc'>\n",
      "<re.Match object; span=(0, 3), match='a c'>\n",
      "None\n",
      "None\n"
     ]
    }
   ],
   "source": [
    "reg_ewp = re.compile('a.c')  # 'a.c' 패턴에 해당하는 정규 표현식 반환 : . 은 가운데 한 글자를 의미\n",
    "\n",
    "print(reg_ewp.search('abc'))  # search 해당 정규표현식에 해당하는 것이 있는 지 검색해줌. \n",
    "print(reg_ewp.search('abbbbbbbbbbc'))  # None\n",
    "print(reg_ewp.search('aXc'))\n",
    "print(reg_ewp.search('a c'))\n",
    "print(reg_ewp.search('ac'))   # None\n",
    "print(reg_ewp.search('bc'))   # None"
   ]
  },
  {
   "cell_type": "markdown",
   "id": "1955fb64",
   "metadata": {},
   "source": [
    "##### 수량자 * : 0개 이상"
   ]
  },
  {
   "cell_type": "code",
   "execution_count": null,
   "id": "b178a3bd",
   "metadata": {},
   "outputs": [
    {
     "name": "stdout",
     "output_type": "stream",
     "text": [
      "<re.Match object; span=(0, 2), match='ac'>\n",
      "None\n",
      "<re.Match object; span=(0, 3), match='abc'>\n",
      "None\n",
      "<re.Match object; span=(0, 13), match='abbbbbbbbbbbc'>\n"
     ]
    }
   ],
   "source": [
    "reg_exp = re.compile('ab*c')  # a로 시작 + b가 0개 이상 + c로 끝나는 형태를 반환\n",
    "\n",
    "print(reg_exp.search('ac'))  \n",
    "print(reg_exp.search('ab'))\n",
    "print(reg_exp.search('abc'))\n",
    "print(reg_exp.search('adc'))\n",
    "print(reg_exp.search('abbbbbbbbbbbc'))"
   ]
  },
  {
   "cell_type": "markdown",
   "id": "47f064bf",
   "metadata": {},
   "source": [
    "##### 수량자 ? : 0개 또는 1개"
   ]
  },
  {
   "cell_type": "code",
   "execution_count": null,
   "id": "dcdc4a53",
   "metadata": {},
   "outputs": [
    {
     "name": "stdout",
     "output_type": "stream",
     "text": [
      "<re.Match object; span=(0, 2), match='ac'>\n",
      "None\n",
      "<re.Match object; span=(0, 3), match='abc'>\n",
      "None\n",
      "None\n"
     ]
    }
   ],
   "source": [
    "reg_exp = re.compile('ab?c')  # a로 시작 + b가 0개 또는 1개 + c로 끝나는 형태를 반환\n",
    "\n",
    "print(reg_exp.search('ac'))  \n",
    "print(reg_exp.search('ab'))\n",
    "print(reg_exp.search('abc'))\n",
    "print(reg_exp.search('adc'))\n",
    "print(reg_exp.search('abbbbbbbbbbbc'))"
   ]
  },
  {
   "cell_type": "markdown",
   "id": "bb78eebf",
   "metadata": {},
   "source": [
    "##### 수량자 + : 1개 이상 "
   ]
  },
  {
   "cell_type": "code",
   "execution_count": null,
   "id": "47907db5",
   "metadata": {},
   "outputs": [
    {
     "name": "stdout",
     "output_type": "stream",
     "text": [
      "None\n",
      "None\n",
      "<re.Match object; span=(0, 3), match='abc'>\n",
      "None\n",
      "<re.Match object; span=(0, 13), match='abbbbbbbbbbbc'>\n"
     ]
    }
   ],
   "source": [
    "reg_exp = re.compile('ab+c')  # a로 시작 + b가 1개 이상 + c로 끝나는 형태를 반환\n",
    "\n",
    "print(reg_exp.search('ac'))  \n",
    "print(reg_exp.search('ab'))\n",
    "print(reg_exp.search('abc'))\n",
    "print(reg_exp.search('adc'))\n",
    "print(reg_exp.search('abbbbbbbbbbbc'))"
   ]
  },
  {
   "cell_type": "markdown",
   "id": "4fb2bb71",
   "metadata": {},
   "source": [
    "#### 수량자 {n} : n개"
   ]
  },
  {
   "cell_type": "code",
   "execution_count": 7,
   "id": "8c612c9a",
   "metadata": {},
   "outputs": [
    {
     "name": "stdout",
     "output_type": "stream",
     "text": [
      "None\n",
      "None\n",
      "None\n",
      "<re.Match object; span=(0, 5), match='abbbc'>\n",
      "None\n",
      "None\n"
     ]
    }
   ],
   "source": [
    "reg_exp = re.compile('ab{3}c')  # a로 시작 + b가 n개 + c로 끝나는 형태를 반환\n",
    "\n",
    "print(reg_exp.search('ac'))  \n",
    "print(reg_exp.search('abc'))\n",
    "print(reg_exp.search('abbc'))\n",
    "print(reg_exp.search('abbbc'))\n",
    "print(reg_exp.search('abbbbc'))\n",
    "print(reg_exp.search('abbbbbbbbbbbc'))"
   ]
  },
  {
   "cell_type": "markdown",
   "id": "c26e9e14",
   "metadata": {},
   "source": [
    "##### 수량자 {min, max} : min개 ~ max개 "
   ]
  },
  {
   "cell_type": "code",
   "execution_count": null,
   "id": "7eda509b",
   "metadata": {},
   "outputs": [
    {
     "name": "stdout",
     "output_type": "stream",
     "text": [
      "None\n",
      "<re.Match object; span=(0, 3), match='abc'>\n",
      "<re.Match object; span=(0, 4), match='abbc'>\n",
      "<re.Match object; span=(0, 5), match='abbbc'>\n",
      "None\n",
      "None\n"
     ]
    }
   ],
   "source": [
    "reg_exp = re.compile('ab{1,3}c')  # a로 시작 + b가 min개 이상 max개 이하  + c로 끝나는 형태를 반환\n",
    "\n",
    "print(reg_exp.search('ac'))  \n",
    "print(reg_exp.search('abc'))\n",
    "print(reg_exp.search('abbc'))\n",
    "print(reg_exp.search('abbbc'))\n",
    "print(reg_exp.search('abbbbc'))\n",
    "print(reg_exp.search('abbbbbbbbbbbc'))"
   ]
  },
  {
   "cell_type": "markdown",
   "id": "4a97ea9d",
   "metadata": {},
   "source": [
    "다양한 수량자 - 깃참고 "
   ]
  },
  {
   "cell_type": "markdown",
   "id": "37863ee0",
   "metadata": {},
   "source": [
    "##### 정규표현식에 맞는 패턴을 다 찾고 싶다면?"
   ]
  },
  {
   "cell_type": "code",
   "execution_count": null,
   "id": "6ecf077f",
   "metadata": {},
   "outputs": [
    {
     "name": "stdout",
     "output_type": "stream",
     "text": [
      "<re.Match object; span=(8, 11), match='abc'>\n",
      "<re.Match object; span=(18, 21), match='abc'>\n",
      "<re.Match object; span=(40, 43), match='abc'>\n",
      "<re.Match object; span=(51, 54), match='abc'>\n",
      "<re.Match object; span=(62, 65), match='abc'>\n"
     ]
    }
   ],
   "source": [
    "reg_exp = re.compile('a.c')\n",
    "\n",
    "text = 'asdfeiayabcbeilrsjabcdpvkndfug haeoisfmdabc sdfsdfaabcsdgsdfgsabcer'\n",
    "\n",
    "# reg_exp.search(text)  # 하나만 추출 \n",
    "\n",
    "for temp in re.finditer(reg_exp, text) :  # findall과 유사 \n",
    "    print(temp)"
   ]
  },
  {
   "cell_type": "markdown",
   "id": "978768e9",
   "metadata": {},
   "source": [
    "##### 문자 매칭 [] : [] 안에 있는 것 중 한 글자라도 일치하면 됨. \n",
    "- 일치하는 것 중 젤 처음 문자 반환"
   ]
  },
  {
   "cell_type": "markdown",
   "id": "4b95498c",
   "metadata": {},
   "source": [
    "한 글자에 대한 목록/범위 작성"
   ]
  },
  {
   "cell_type": "code",
   "execution_count": 15,
   "id": "9b865dfa",
   "metadata": {},
   "outputs": [
    {
     "name": "stdout",
     "output_type": "stream",
     "text": [
      "<re.Match object; span=(7, 8), match='a'>\n",
      "<re.Match object; span=(7, 8), match='c'>\n",
      "<re.Match object; span=(7, 8), match='A'>\n"
     ]
    }
   ],
   "source": [
    "reg_exp = re.compile('[abc]', re.IGNORECASE)  # re.IGNORECASE : 플래그 이그노어. 대소문자 무시 \n",
    "\n",
    "print(reg_exp.search('안녕하세요, abc입니다!'))\n",
    "print(reg_exp.search('안녕하세요, cba입니다!'))\n",
    "print(reg_exp.search('안녕하세요, ABC입니다!'))"
   ]
  },
  {
   "cell_type": "markdown",
   "id": "cc516c52",
   "metadata": {},
   "source": [
    "여러 글자에 대한 목록/범위 작성"
   ]
  },
  {
   "cell_type": "code",
   "execution_count": null,
   "id": "3b35e3d8",
   "metadata": {},
   "outputs": [
    {
     "name": "stdout",
     "output_type": "stream",
     "text": [
      "['8', '1', '8', 'A', 'b', 'C']\n"
     ]
    }
   ],
   "source": [
    "# reg_exp = re.compile('[abcdefghijklmnopqrstuvwsyg]', re.IGNORECASE)  # 영문자 대소문자 모두 탐색\n",
    "reg_exp = re.compile('[a-zA-Z0-9]')  # 범위로 표현가능\n",
    "\n",
    "print(re.findall(reg_exp, '8월 18일이네요. 안녕하세요 AbC 씨!'))"
   ]
  },
  {
   "cell_type": "markdown",
   "id": "8a113db1",
   "metadata": {},
   "source": [
    "##### 시작하는 문자열 ^"
   ]
  },
  {
   "cell_type": "code",
   "execution_count": null,
   "id": "99d9c65c",
   "metadata": {},
   "outputs": [
    {
     "name": "stdout",
     "output_type": "stream",
     "text": [
      "<re.Match object; span=(0, 3), match='who'>\n",
      "None\n",
      "['who', 'who']\n",
      "['who']\n",
      "[]\n"
     ]
    }
   ],
   "source": [
    "reg_exp = re.compile('^who')\n",
    "\n",
    "print(reg_exp.search('who is who'))\n",
    "print(reg_exp.search('is who'))\n",
    "\n",
    "print(re.findall('who', 'who is who'))  # 전부 반환\n",
    "print(re.findall('^who', 'who is who')) # ['who'] : 시작하는 who 만 반환\n",
    "print(re.findall('^who', 'is who'))     # [] : 시작하는게 없어서 아무것도 반환안함"
   ]
  },
  {
   "cell_type": "markdown",
   "id": "ec812249",
   "metadata": {},
   "source": [
    "### re 모듈 함수 & re 객체 매서드 "
   ]
  },
  {
   "cell_type": "markdown",
   "id": "bc5401b8",
   "metadata": {},
   "source": [
    "##### 매서드 search() : 문자열 패턴 검사 "
   ]
  },
  {
   "cell_type": "code",
   "execution_count": 22,
   "id": "48746db6",
   "metadata": {},
   "outputs": [
    {
     "name": "stdout",
     "output_type": "stream",
     "text": [
      "<re.Match object; span=(0, 2), match='ab'>\n",
      "None\n",
      "<re.Match object; span=(3, 5), match='ab'>\n"
     ]
    }
   ],
   "source": [
    "reg_exp = re.compile('ab')\n",
    "\n",
    "print(reg_exp.search('abc'))\n",
    "print(reg_exp.search('123'))\n",
    "print(reg_exp.search('123abc'))"
   ]
  },
  {
   "cell_type": "markdown",
   "id": "ef570130",
   "metadata": {},
   "source": [
    "##### 메서드 match() : 시작하는 문자열 패턴 검사 "
   ]
  },
  {
   "cell_type": "code",
   "execution_count": null,
   "id": "1cfb888a",
   "metadata": {},
   "outputs": [
    {
     "name": "stdout",
     "output_type": "stream",
     "text": [
      "<re.Match object; span=(0, 2), match='ab'>\n",
      "None\n",
      "None\n"
     ]
    }
   ],
   "source": [
    "reg_exp = re.compile('ab')\n",
    "\n",
    "print(reg_exp.match('abc'))  # 시작하는 것만 반환\n",
    "print(reg_exp.match('123'))\n",
    "print(reg_exp.match('123abc'))"
   ]
  },
  {
   "cell_type": "markdown",
   "id": "d2ac4e27",
   "metadata": {},
   "source": [
    "##### 함수 split() : 정규식 패턴으로 문자열 분할"
   ]
  },
  {
   "cell_type": "code",
   "execution_count": null,
   "id": "de6df43c",
   "metadata": {},
   "outputs": [
    {
     "data": {
      "text/plain": [
       "['Apple ', 'anana ', 'range']"
      ]
     },
     "execution_count": 31,
     "metadata": {},
     "output_type": "execute_result"
    }
   ],
   "source": [
    "text = 'Apple Banana Orange'\n",
    "\n",
    "split_text = re.split('[bo]', text, flags=re.IGNORECASE)  # 정규표현식 패턴에 들어있는 bo를 기준으로 나눠줌 / 대소문자 미구분\n",
    "split_text"
   ]
  },
  {
   "cell_type": "markdown",
   "id": "8b79c956",
   "metadata": {},
   "source": [
    "##### 함수 findall() : 매칭된 결과 모두 반환"
   ]
  },
  {
   "cell_type": "code",
   "execution_count": null,
   "id": "a7be60f3",
   "metadata": {},
   "outputs": [
    {
     "data": {
      "text/plain": [
       "['010-1234-5']"
      ]
     },
     "execution_count": 24,
     "metadata": {},
     "output_type": "execute_result"
    }
   ],
   "source": [
    "text = '제 전화번호는 010-1234-5678 입니다.'\n",
    "\n",
    "nums = re.findall('[0-9]+', text) # + 는 숫자에 해당하는 것이 몇개 이상일 때 반환\n",
    "nums = re.findall('[0-9]+-[0-9]+-[0-9]+', text)  # 전체 전화번호 반환\n",
    "nums"
   ]
  },
  {
   "cell_type": "markdown",
   "id": "2f17f0cb",
   "metadata": {},
   "source": [
    "##### 함수 sub() : 해당 패턴의 문자열을 대체 "
   ]
  },
  {
   "cell_type": "code",
   "execution_count": null,
   "id": "a3369019",
   "metadata": {},
   "outputs": [
    {
     "data": {
      "text/plain": [
       "'Hello everyone Welcome to NLP '"
      ]
     },
     "execution_count": 33,
     "metadata": {},
     "output_type": "execute_result"
    }
   ],
   "source": [
    "text = \"Hello, everyone! Welcome to NLP 🤖🤖🤖🤖🤖\"\n",
    "\n",
    "re.sub('[^a-zA-Z ]', '', text)  # ^는 이거를 제외하고 의미. '' = 빈문자로 변환하라 (앞에서 해당하는 문자, 공백을 빈문자열로 대체하라)\n",
    "                                # 결과 : 'Hello everyone Welcome to NLP ' = 구문, 이모티콘을 빈문자로 대체한 상태로 반환"
   ]
  },
  {
   "cell_type": "markdown",
   "id": "4ec4f1a4",
   "metadata": {},
   "source": [
    "### 정규표현식 토큰화"
   ]
  },
  {
   "cell_type": "code",
   "execution_count": null,
   "id": "0640cd63",
   "metadata": {},
   "outputs": [
    {
     "data": {
      "text/plain": [
       "['He',\n",
       " 's',\n",
       " 'a',\n",
       " 'tunner',\n",
       " 'but',\n",
       " 'not',\n",
       " 'a',\n",
       " 'lond_distance',\n",
       " 'runner',\n",
       " 'His',\n",
       " 'number',\n",
       " 'is',\n",
       " '1234']"
      ]
     },
     "execution_count": 37,
     "metadata": {},
     "output_type": "execute_result"
    }
   ],
   "source": [
    "from nltk.tokenize import RegexpTokenizer\n",
    "\n",
    "text = \"He's a tunner, but not a lond_distance runner. His number is 1234.\"\n",
    "\n",
    "tokenizer = RegexpTokenizer('[a-zA-Z0-9_]+')  # 영소/대문자, 숫자, _만 허용\n",
    "tokenizer = RegexpTokenizer(r'\\w+')           # \\w = 영소/대문자, 숫자, _만 허용 (동일한 결과)\n",
    "\n",
    "tokens = tokenizer.tokenize(text)\n",
    "tokens"
   ]
  }
 ],
 "metadata": {
  "kernelspec": {
   "display_name": "nlp_env",
   "language": "python",
   "name": "python3"
  },
  "language_info": {
   "codemirror_mode": {
    "name": "ipython",
    "version": 3
   },
   "file_extension": ".py",
   "mimetype": "text/x-python",
   "name": "python",
   "nbconvert_exporter": "python",
   "pygments_lexer": "ipython3",
   "version": "3.12.11"
  }
 },
 "nbformat": 4,
 "nbformat_minor": 5
}
