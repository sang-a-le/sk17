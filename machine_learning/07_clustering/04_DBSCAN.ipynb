{
 "cells": [
  {
   "cell_type": "markdown",
   "id": "20f068d5",
   "metadata": {},
   "source": [
    "# DBSCAN (Density-Based Spatial Clustering of Application with Noise)\n",
    "\n",
    "- 밀도(데이터포인트의 간격) 기반 군집 알고리즘"
   ]
  }
 ],
 "metadata": {
  "language_info": {
   "name": "python"
  }
 },
 "nbformat": 4,
 "nbformat_minor": 5
}
