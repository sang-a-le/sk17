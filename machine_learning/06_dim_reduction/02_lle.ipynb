{
 "cells": [
  {
   "cell_type": "markdown",
   "id": "ec25a858",
   "metadata": {},
   "source": [
    "# 차원 축소 - LLE (Locally Linear Embedding)\n",
    "\n",
    "- 데이터 포인트를 근접한 이웃과 선형 결합으로 표현하고 이를 유지하도록 저차원 공간에 매핑"
   ]
  },
  {
   "cell_type": "code",
   "execution_count": 1,
   "id": "3430c869",
   "metadata": {},
   "outputs": [],
   "source": [
    "import numpy as np\n",
    "import pandas as pd\n",
    "import matplotlib.pyplot as plt\n",
    "import seaborn as sns"
   ]
  },
  {
   "cell_type": "code",
   "execution_count": 2,
   "id": "8440bc4b",
   "metadata": {},
   "outputs": [],
   "source": [
    "from sklearn.datasets import load_iris\n",
    "from sklearn.manifold import LocallyLinearEmbedding\n",
    "\n",
    "iris_data = load_iris()\n",
    "\n",
    "# LLE 변환\n",
    "lle = LocallyLinearEmbedding(n_components=2, n_neighbors=10)\n",
    "iris_lle = lle.fit_transform(iris_data.data)\n",
    "# iris_lle.shape\n",
    "\n",
    "iris_lle_df = pd.DataFrame(iris_lle, columns=['lle_col1', 'lle_col2'])\n",
    "iris_lle_df['target'] = iris_data.target"
   ]
  },
  {
   "cell_type": "code",
   "execution_count": 3,
   "id": "317933c0",
   "metadata": {},
   "outputs": [
    {
     "data": {
      "image/png": "[encoded data removed]",
      "text/plain": [
       "<Figure size 640x480 with 1 Axes>"
      ]
     },
     "metadata": {},
     "output_type": "display_data"
    }
   ],
   "source": [
    "# 차원 축소 시각화\n",
    "markers = ['^', 's', 'o']\n",
    "\n",
    "for i, marker in enumerate(markers):\n",
    "    x = iris_lle_df[iris_lle_df['target'] == i]['lle_col1']\n",
    "    y = iris_lle_df[iris_lle_df['target'] == i]['lle_col2']\n",
    "    plt.scatter(x, y, marker=marker, label=iris_data.target_names[i])\n",
    "    \n",
    "plt.legend()\n",
    "plt.xlabel('lle_col1')\n",
    "plt.ylabel('lle_col2')\n",
    "plt.show()"
   ]
  },
  {
   "cell_type": "code",
   "execution_count": 4,
   "id": "da1504f2",
   "metadata": {},
   "outputs": [
    {
     "data": {
      "text/plain": [
       "{'fit_time': array([0.00800395, 0.00800085, 0.00499606]),\n",
       " 'score_time': array([0.00199652, 0.00300121, 0.00201964]),\n",
       " 'test_score': array([0.94, 0.9 , 0.9 ])}"
      ]
     },
     "execution_count": 4,
     "metadata": {},
     "output_type": "execute_result"
    }
   ],
   "source": [
    "from sklearn.model_selection import cross_validate\n",
    "from sklearn.linear_model import LogisticRegression\n",
    "\n",
    "lr_clf = LogisticRegression(max_iter=1000)\n",
    "result = cross_validate(lr_clf, \n",
    "                iris_lle_df[['lle_col1', 'lle_col2']],\n",
    "               iris_lle_df['target'], cv=3)\n",
    "result"
   ]
  },
  {
   "cell_type": "code",
   "execution_count": 5,
   "id": "bbf0b2ff",
   "metadata": {},
   "outputs": [
    {
     "name": "stdout",
     "output_type": "stream",
     "text": [
      "10\n",
      "2\n",
      "5.1168977786832e-07\n"
     ]
    }
   ],
   "source": [
    "print(lle.n_neighbors)\n",
    "print(lle.n_components)\n",
    "print(lle.reconstruction_error_)"
   ]
  }
 ],
 "metadata": {
  "kernelspec": {
   "display_name": "ml_env",
   "language": "python",
   "name": "python3"
  },
  "language_info": {
   "codemirror_mode": {
    "name": "ipython",
    "version": 3
   },
   "file_extension": ".py",
   "mimetype": "text/x-python",
   "name": "python",
   "nbconvert_exporter": "python",
   "pygments_lexer": "ipython3",
   "version": "3.12.11"
  }
 },
 "nbformat": 4,
 "nbformat_minor": 5
}
