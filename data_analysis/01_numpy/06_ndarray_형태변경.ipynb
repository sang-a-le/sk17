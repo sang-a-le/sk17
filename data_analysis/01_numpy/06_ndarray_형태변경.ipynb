{
 "cells": [
  {
   "cell_type": "markdown",
   "id": "8fe1106a",
   "metadata": {},
   "source": [
    "# ndarray 형태 변경"
   ]
  },
  {
   "cell_type": "code",
   "execution_count": 1,
   "id": "4edaed0e",
   "metadata": {},
   "outputs": [],
   "source": [
    "import numpy as np "
   ]
  },
  {
   "cell_type": "markdown",
   "id": "5a1b51b3",
   "metadata": {},
   "source": [
    "### reshape()\n",
    "- 요소의 개수가 맞는 shape으로 변형 가능"
   ]
  },
  {
   "cell_type": "code",
   "execution_count": 3,
   "id": "6e5b4abf",
   "metadata": {},
   "outputs": [
    {
     "name": "stdout",
     "output_type": "stream",
     "text": [
      "1 (12,)\n"
     ]
    }
   ],
   "source": [
    "arr = np.arange(12)\n",
    "print(arr.ndim, arr.shape)"
   ]
  },
  {
   "cell_type": "code",
   "execution_count": 9,
   "id": "5d47268f",
   "metadata": {},
   "outputs": [
    {
     "name": "stdout",
     "output_type": "stream",
     "text": [
      "3 (2, 2, 3)\n",
      "[[[ 0  1  2]\n",
      "  [ 3  4  5]]\n",
      "\n",
      " [[ 6  7  8]\n",
      "  [ 9 10 11]]]\n"
     ]
    }
   ],
   "source": [
    "arr = arr.reshape(3, 4)     # 요소의 개수만 맞으면 어떤 shape이라도 상관 없음. \n",
    "arr = arr.reshape(6, 2)\n",
    "arr = arr.reshape(12, 1)\n",
    "\n",
    "arr = arr.reshape(2, 2, 3)  # 요소의 개수만 맞으면 차원 변경도 가능\n",
    "print(arr.ndim, arr.shape) \n",
    "print(arr)"
   ]
  },
  {
   "cell_type": "code",
   "execution_count": null,
   "id": "870fbe96",
   "metadata": {},
   "outputs": [
    {
     "name": "stdout",
     "output_type": "stream",
     "text": [
      "[ 0  1  2  3  4  5  6  7  8  9 10 11]\n"
     ]
    }
   ],
   "source": [
    "# reshape(-1) : 1차원 처리 \n",
    "arr = arr.reshape(-1)  \n",
    "print(arr)"
   ]
  },
  {
   "cell_type": "code",
   "execution_count": null,
   "id": "b2821f4f",
   "metadata": {},
   "outputs": [
    {
     "name": "stdout",
     "output_type": "stream",
     "text": [
      "[[ 0  1  2  3]\n",
      " [ 4  5  6  7]\n",
      " [ 8  9 10 11]]\n"
     ]
    }
   ],
   "source": [
    "# reshape(a, b) -> a or b 하나가 -1 : -1인 축은 자동 계산\n",
    "arr = arr.reshape(4, -1)\n",
    "arr = arr.reshape(-1, 4)\n",
    "print(arr)\n"
   ]
  },
  {
   "cell_type": "markdown",
   "id": "098f22b2",
   "metadata": {},
   "source": [
    "### np.ravel()\n",
    "- 1차원 변환 \n",
    "- np가 제공하는 함수 "
   ]
  },
  {
   "cell_type": "code",
   "execution_count": null,
   "id": "f1d26720",
   "metadata": {},
   "outputs": [
    {
     "name": "stdout",
     "output_type": "stream",
     "text": [
      "[ 0  1  2  3  4  5  6  7  8  9 10 11]\n"
     ]
    }
   ],
   "source": [
    "arr = np.ravel(arr)   # arr 원래 형태 (3, 4)\n",
    "print(arr)  # 어떤 차원이든 1차원으로 변환"
   ]
  },
  {
   "cell_type": "markdown",
   "id": "2a489046",
   "metadata": {},
   "source": [
    "### np.expand_dims()\n",
    "- 차원 추가"
   ]
  },
  {
   "cell_type": "code",
   "execution_count": 19,
   "id": "4b2e613e",
   "metadata": {},
   "outputs": [
    {
     "name": "stdout",
     "output_type": "stream",
     "text": [
      "(10,) [0 1 2 3 4 5 6 7 8 9]\n",
      "[[0 1 2 3 4 5 6 7 8 9]]\n",
      "(1, 10)\n",
      "[[0]\n",
      " [1]\n",
      " [2]\n",
      " [3]\n",
      " [4]\n",
      " [5]\n",
      " [6]\n",
      " [7]\n",
      " [8]\n",
      " [9]]\n",
      "(10, 1)\n"
     ]
    }
   ],
   "source": [
    "arr_1d = np.arange(10)\n",
    "print(arr_1d.shape, arr_1d)\n",
    "\n",
    "# print(np.expend_dims(arr_1d))  # error\n",
    "print(np.expand_dims(arr_1d, axis=0))\n",
    "print(np.expand_dims(arr_1d, axis=0).shape)\n",
    "print(np.expand_dims(arr_1d, axis=1))\n",
    "print(np.expand_dims(arr_1d, axis=1).shape)"
   ]
  },
  {
   "cell_type": "code",
   "execution_count": null,
   "id": "e33de562",
   "metadata": {},
   "outputs": [
    {
     "name": "stdout",
     "output_type": "stream",
     "text": [
      "(2, 2) [[1 2]\n",
      " [3 4]]\n",
      "[[[1 2]\n",
      "  [3 4]]]\n",
      "(1, 2, 2)\n",
      "[[[1 2]]\n",
      "\n",
      " [[3 4]]]\n",
      "(2, 1, 2)\n",
      "[[[1]\n",
      "  [2]]\n",
      "\n",
      " [[3]\n",
      "  [4]]]\n",
      "(2, 2, 1)\n"
     ]
    }
   ],
   "source": [
    "arr_2d = np.array([[1, 2], [3, 4]])\n",
    "\n",
    "print(arr_2d.shape, arr_2d)  # 2차원이기 땨문에 0, 1, 2 부여 가능\n",
    "\n",
    "print(np.expand_dims(arr_2d, axis=0))\n",
    "print(np.expand_dims(arr_2d, axis=0).shape) \n",
    "print(np.expand_dims(arr_2d, axis=1))\n",
    "print(np.expand_dims(arr_2d, axis=1).shape)\n",
    "print(np.expand_dims(arr_2d, axis=2))\n",
    "print(np.expand_dims(arr_2d, axis=2).shape)"
   ]
  },
  {
   "cell_type": "markdown",
   "id": "5c518fd3",
   "metadata": {},
   "source": [
    "### np.squeeze()\n",
    "- 차원의 값(=해당 차원의 요소 개수)이 1일 때, 차원 제거 "
   ]
  },
  {
   "cell_type": "code",
   "execution_count": null,
   "id": "d063f797",
   "metadata": {},
   "outputs": [
    {
     "name": "stdout",
     "output_type": "stream",
     "text": [
      "(1, 2)\n",
      "(2,)\n"
     ]
    }
   ],
   "source": [
    "arr = np.array([[1, 2]])\n",
    "print(arr.shape)\n",
    "\n",
    "arr2 = np.squeeze(arr)\n",
    "arr2 = np.squeeze(arr, axis=0) #0번째 차원을 대상으로 차원 제거\n",
    "# arr2 = np.squeeze(arr, axis=1) # 없애려고 하는 축의 요소 개수가 1이 아니라서 error\n",
    "\n",
    "print(arr2.shape)"
   ]
  }
 ],
 "metadata": {
  "kernelspec": {
   "display_name": "pystudy_env",
   "language": "python",
   "name": "python3"
  },
  "language_info": {
   "codemirror_mode": {
    "name": "ipython",
    "version": 3
   },
   "file_extension": ".py",
   "mimetype": "text/x-python",
   "name": "python",
   "nbconvert_exporter": "python",
   "pygments_lexer": "ipython3",
   "version": "3.12.11"
  }
 },
 "nbformat": 4,
 "nbformat_minor": 5
}
