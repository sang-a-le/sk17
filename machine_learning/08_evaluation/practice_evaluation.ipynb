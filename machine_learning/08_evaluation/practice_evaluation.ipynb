{
 "cells": [
  {
   "cell_type": "markdown",
   "id": "d1406d34",
   "metadata": {},
   "source": [
    "##### [실습] 농어 무게 예측 모델 비교\n",
    "\n",
    "농어의 길이, 높이, 너비값을 사용해 무게를 예측하는 문제를 최근접이웃모델과 선형회귀모델로 해결해 보세요.\n",
    "\n",
    "평가 함수를 만들고 성능 평가지표로는 평균제곱오차(MSE), 평균절대오차(MAE), 제곱평균제곱근오차(RMSE), 평균제곱로그오차(MSLE), 제곱평균제곱근로그오차(RMSLE), 결정계수(R²)를 사용해 결과를 출력하세요."
   ]
  },
  {
   "cell_type": "code",
   "execution_count": null,
   "id": "dd9f11cc",
   "metadata": {},
   "outputs": [],
   "source": [
    "# import 구문"
   ]
  },
  {
   "cell_type": "code",
   "execution_count": null,
   "id": "45b97355",
   "metadata": {},
   "outputs": [],
   "source": [
    "perch_df = pd.read_csv('./data/perch_full.csv')\n",
    "perch_df"
   ]
  },
  {
   "cell_type": "code",
   "execution_count": null,
   "id": "697ef075",
   "metadata": {},
   "outputs": [],
   "source": [
    "perch_weight = np.array([\n",
    "    5.9, 32.0, 40.0, 51.5, 70.0, 100.0, 78.0, 80.0, 85.0, 85.0,\n",
    "    110.0, 115.0, 125.0, 130.0, 120.0, 120.0, 130.0, 135.0, 110.0,\n",
    "    130.0, 150.0, 145.0, 150.0, 170.0, 225.0, 145.0, 188.0, 180.0,\n",
    "    197.0, 218.0, 300.0, 260.0, 265.0, 250.0, 250.0, 300.0, 320.0,\n",
    "    514.0, 556.0, 840.0, 685.0, 700.0, 700.0, 690.0, 900.0, 650.0,\n",
    "    820.0, 850.0, 900.0, 1015.0, 820.0, 1100.0, 1000.0, 1100.0,\n",
    "    1000.0, 1000.0])"
   ]
  }
 ],
 "metadata": {
  "kernelspec": {
   "display_name": "ml_env",
   "language": "python",
   "name": "python3"
  },
  "language_info": {
   "name": "python",
   "version": "3.12.11"
  }
 },
 "nbformat": 4,
 "nbformat_minor": 5
}
