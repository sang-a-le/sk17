{
 "cells": [
  {
   "cell_type": "markdown",
   "id": "2560b589",
   "metadata": {},
   "source": [
    "# 어간 / 표제어 추출"
   ]
  },
  {
   "cell_type": "markdown",
   "id": "1258a525",
   "metadata": {},
   "source": [
    "**어간 (Stem)**\n",
    "- 단어의 의미를 담고 있는 단어의 핵심 부분\n",
    "\n",
    "\n",
    "**표제어 (Lemma)**\n",
    "- 단어의 사전적 형태 (단어의 기본형)\n",
    "- 언어의 문법적 규칙에 따라 변형된 단어를 원래 형태로 돌려놓은 것\n",
    "\n",
    "**왜 추출할까?**\n",
    "1. 의미 일관성 (일반화)\n",
    "2. 데이터 차원 축소 \n",
    "3. 노이즈 감소 \n",
    "4. 정확성 향상"
   ]
  },
  {
   "cell_type": "code",
   "execution_count": null,
   "id": "3c87d571",
   "metadata": {},
   "outputs": [
    {
     "name": "stdout",
     "output_type": "stream",
     "text": [
      "['The', 'runners', 'were', 'running', 'swiftly', 'and', 'easily', '.', 'They', 'ran', 'past', 'the', 'finish', 'line', '.']\n",
      "['the', 'runner', 'were', 'run', 'swiftli', 'and', 'easili', '.', 'they', 'ran', 'past', 'the', 'finish', 'line', '.']\n"
     ]
    }
   ],
   "source": [
    "# 어간 추출\n",
    "from nltk.stem import PorterStemmer\n",
    "from nltk.tokenize import word_tokenize\n",
    "\n",
    "text = \"The runners were running swiftly and easily. They ran past the finish line.\"\n",
    "\n",
    "tokens = word_tokenize(text)\n",
    "\n",
    "stemmer = PorterStemmer()   # 규칙을 통해 어간 추출\n",
    "stemmed_tokens = [stemmer.stem(token) for token in tokens]\n",
    "\n",
    "print(tokens)\n",
    "print(stemmed_tokens) "
   ]
  },
  {
   "cell_type": "code",
   "execution_count": null,
   "id": "10711256",
   "metadata": {},
   "outputs": [
    {
     "name": "stdout",
     "output_type": "stream",
     "text": [
      "['The', 'runners', 'were', 'running', 'swiftly', 'and', 'easily', '.', 'They', 'ran', 'past', 'the', 'finish', 'line', '.']\n",
      "['The', 'runners', 'be', 'run', 'swiftly', 'and', 'easily', '.', 'They', 'run', 'past', 'the', 'finish', 'line', '.']\n"
     ]
    }
   ],
   "source": [
    "# 표제어 추출\n",
    "from nltk.stem import WordNetLemmatizer\n",
    "\n",
    "lemmatizer = WordNetLemmatizer()  # 단어의 기본형 반환\n",
    "lemmatized_tokens = [lemmatizer.lemmatize(token, pos='v') for token in tokens]\n",
    "\n",
    "print(tokens)\n",
    "print(lemmatized_tokens)"
   ]
  },
  {
   "cell_type": "code",
   "execution_count": null,
   "id": "fd84027a",
   "metadata": {},
   "outputs": [],
   "source": []
  }
 ],
 "metadata": {
  "kernelspec": {
   "display_name": "nlp_env",
   "language": "python",
   "name": "python3"
  },
  "language_info": {
   "codemirror_mode": {
    "name": "ipython",
    "version": 3
   },
   "file_extension": ".py",
   "mimetype": "text/x-python",
   "name": "python",
   "nbconvert_exporter": "python",
   "pygments_lexer": "ipython3",
   "version": "3.12.11"
  }
 },
 "nbformat": 4,
 "nbformat_minor": 5
}
