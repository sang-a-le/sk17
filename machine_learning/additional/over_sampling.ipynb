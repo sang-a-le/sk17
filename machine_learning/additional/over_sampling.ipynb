{
 "cells": [
  {
   "cell_type": "markdown",
   "id": "cf85ffd3",
   "metadata": {},
   "source": [
    "# SMOTE"
   ]
  },
  {
   "cell_type": "code",
   "execution_count": 4,
   "id": "cbf8d877",
   "metadata": {},
   "outputs": [
    {
     "name": "stdout",
     "output_type": "stream",
     "text": [
      "Collecting imbalanced-learn\n",
      "  Downloading imbalanced_learn-0.13.0-py3-none-any.whl.metadata (8.8 kB)\n",
      "Requirement already satisfied: numpy<3,>=1.24.3 in c:\\users\\playdata\\anaconda3\\envs\\ml_env\\lib\\site-packages (from imbalanced-learn) (2.3.1)\n",
      "Requirement already satisfied: scipy<2,>=1.10.1 in c:\\users\\playdata\\anaconda3\\envs\\ml_env\\lib\\site-packages (from imbalanced-learn) (1.16.0)\n",
      "Requirement already satisfied: scikit-learn<2,>=1.3.2 in c:\\users\\playdata\\anaconda3\\envs\\ml_env\\lib\\site-packages (from imbalanced-learn) (1.7.0)\n",
      "Collecting sklearn-compat<1,>=0.1 (from imbalanced-learn)\n",
      "  Downloading sklearn_compat-0.1.3-py3-none-any.whl.metadata (18 kB)\n",
      "Requirement already satisfied: joblib<2,>=1.1.1 in c:\\users\\playdata\\anaconda3\\envs\\ml_env\\lib\\site-packages (from imbalanced-learn) (1.5.1)\n",
      "Requirement already satisfied: threadpoolctl<4,>=2.0.0 in c:\\users\\playdata\\anaconda3\\envs\\ml_env\\lib\\site-packages (from imbalanced-learn) (3.6.0)\n",
      "Collecting scikit-learn<2,>=1.3.2 (from imbalanced-learn)\n",
      "  Downloading scikit_learn-1.6.1-cp312-cp312-win_amd64.whl.metadata (15 kB)\n",
      "Downloading imbalanced_learn-0.13.0-py3-none-any.whl (238 kB)\n",
      "Downloading sklearn_compat-0.1.3-py3-none-any.whl (18 kB)\n",
      "Downloading scikit_learn-1.6.1-cp312-cp312-win_amd64.whl (11.1 MB)\n",
      "   ---------------------------------------- 0.0/11.1 MB ? eta -:--:--\n",
      "    --------------------------------------- 0.3/11.1 MB ? eta -:--:--\n",
      "   - -------------------------------------- 0.5/11.1 MB 2.1 MB/s eta 0:00:06\n",
      "   -- ------------------------------------- 0.8/11.1 MB 1.5 MB/s eta 0:00:07\n",
      "   ---- ----------------------------------- 1.3/11.1 MB 1.4 MB/s eta 0:00:07\n",
      "   ----- ---------------------------------- 1.6/11.1 MB 1.4 MB/s eta 0:00:08\n",
      "   ------ --------------------------------- 1.8/11.1 MB 1.4 MB/s eta 0:00:07\n",
      "   --------- ------------------------------ 2.6/11.1 MB 1.7 MB/s eta 0:00:06\n",
      "   ----------- ---------------------------- 3.1/11.1 MB 1.8 MB/s eta 0:00:05\n",
      "   ------------- -------------------------- 3.7/11.1 MB 1.9 MB/s eta 0:00:04\n",
      "   ------------- -------------------------- 3.7/11.1 MB 1.9 MB/s eta 0:00:04\n",
      "   --------------- ------------------------ 4.2/11.1 MB 1.8 MB/s eta 0:00:04\n",
      "   ------------------ --------------------- 5.2/11.1 MB 2.0 MB/s eta 0:00:03\n",
      "   -------------------- ------------------- 5.8/11.1 MB 2.1 MB/s eta 0:00:03\n",
      "   ----------------------- ---------------- 6.6/11.1 MB 2.2 MB/s eta 0:00:03\n",
      "   ------------------------- -------------- 7.1/11.1 MB 2.2 MB/s eta 0:00:02\n",
      "   --------------------------- ------------ 7.6/11.1 MB 2.3 MB/s eta 0:00:02\n",
      "   ----------------------------- ---------- 8.1/11.1 MB 2.3 MB/s eta 0:00:02\n",
      "   ------------------------------ --------- 8.4/11.1 MB 2.3 MB/s eta 0:00:02\n",
      "   -------------------------------- ------- 8.9/11.1 MB 2.3 MB/s eta 0:00:01\n",
      "   ---------------------------------- ----- 9.7/11.1 MB 2.3 MB/s eta 0:00:01\n",
      "   ------------------------------------- -- 10.5/11.1 MB 2.4 MB/s eta 0:00:01\n",
      "   ---------------------------------------- 11.1/11.1 MB 2.4 MB/s eta 0:00:00\n",
      "Installing collected packages: scikit-learn, sklearn-compat, imbalanced-learn\n",
      "\n",
      "  Attempting uninstall: scikit-learn\n",
      "\n",
      "    Found existing installation: scikit-learn 1.7.0\n",
      "\n",
      "    Uninstalling scikit-learn-1.7.0:\n",
      "\n",
      "      Successfully uninstalled scikit-learn-1.7.0\n",
      "\n",
      "   ---------------------------------------- 0/3 [scikit-learn]\n",
      "   ---------------------------------------- 0/3 [scikit-learn]\n",
      "   ---------------------------------------- 0/3 [scikit-learn]\n",
      "   ---------------------------------------- 0/3 [scikit-learn]\n",
      "   ---------------------------------------- 0/3 [scikit-learn]\n",
      "   ---------------------------------------- 0/3 [scikit-learn]\n",
      "   ---------------------------------------- 0/3 [scikit-learn]\n",
      "   ---------------------------------------- 0/3 [scikit-learn]\n",
      "   ---------------------------------------- 0/3 [scikit-learn]\n",
      "   ---------------------------------------- 0/3 [scikit-learn]\n",
      "   ---------------------------------------- 0/3 [scikit-learn]\n",
      "   ---------------------------------------- 0/3 [scikit-learn]\n",
      "   ---------------------------------------- 0/3 [scikit-learn]\n",
      "   ---------------------------------------- 0/3 [scikit-learn]\n",
      "   ---------------------------------------- 0/3 [scikit-learn]\n",
      "   ---------------------------------------- 0/3 [scikit-learn]\n",
      "   ---------------------------------------- 0/3 [scikit-learn]\n",
      "   ---------------------------------------- 0/3 [scikit-learn]\n",
      "   ---------------------------------------- 0/3 [scikit-learn]\n",
      "   ---------------------------------------- 0/3 [scikit-learn]\n",
      "   ---------------------------------------- 0/3 [scikit-learn]\n",
      "   ---------------------------------------- 0/3 [scikit-learn]\n",
      "   ---------------------------------------- 0/3 [scikit-learn]\n",
      "   ---------------------------------------- 0/3 [scikit-learn]\n",
      "   ---------------------------------------- 0/3 [scikit-learn]\n",
      "   ---------------------------------------- 0/3 [scikit-learn]\n",
      "   ---------------------------------------- 0/3 [scikit-learn]\n",
      "   ---------------------------------------- 0/3 [scikit-learn]\n",
      "   ---------------------------------------- 0/3 [scikit-learn]\n",
      "   ---------------------------------------- 0/3 [scikit-learn]\n",
      "   ---------------------------------------- 0/3 [scikit-learn]\n",
      "   ---------------------------------------- 0/3 [scikit-learn]\n",
      "   ---------------------------------------- 0/3 [scikit-learn]\n",
      "   ---------------------------------------- 0/3 [scikit-learn]\n",
      "   ---------------------------------------- 0/3 [scikit-learn]\n",
      "   ---------------------------------------- 0/3 [scikit-learn]\n",
      "   ---------------------------------------- 0/3 [scikit-learn]\n",
      "   -------------------------- ------------- 2/3 [imbalanced-learn]\n",
      "   -------------------------- ------------- 2/3 [imbalanced-learn]\n",
      "   ---------------------------------------- 3/3 [imbalanced-learn]\n",
      "\n",
      "Successfully installed imbalanced-learn-0.13.0 scikit-learn-1.6.1 sklearn-compat-0.1.3\n"
     ]
    },
    {
     "name": "stderr",
     "output_type": "stream",
     "text": [
      "  WARNING: Failed to remove contents in a temporary directory 'C:\\Users\\Playdata\\anaconda3\\envs\\ml_env\\Lib\\site-packages\\~klearn'.\n",
      "  You can safely remove it manually.\n"
     ]
    }
   ],
   "source": [
    "!pip install imbalanced-learn"
   ]
  },
  {
   "cell_type": "markdown",
   "id": "4e82473f",
   "metadata": {},
   "source": [
    "# 깃에서 설명 "
   ]
  },
  {
   "cell_type": "code",
   "execution_count": 8,
   "id": "ff8d4252",
   "metadata": {},
   "outputs": [
    {
     "name": "stdout",
     "output_type": "stream",
     "text": [
      "Before SMOTE: [897 103]\n"
     ]
    }
   ],
   "source": [
    "import numpy as np\n",
    "from imblearn.over_sampling import SMOTE\n",
    "from sklearn.datasets import make_classification\n",
    "\n",
    "X, y = make_classification(\n",
    "    n_classes=2,           # 이진분류\n",
    "    weights=[0.9, 0.1],\n",
    "    n_samples=1000, \n",
    "    random_state=42\n",
    ")\n",
    "\n",
    "print(f'Before SMOTE: { np.bincount(y) }')"
   ]
  },
  {
   "cell_type": "code",
   "execution_count": null,
   "id": "068f630b",
   "metadata": {},
   "outputs": [
    {
     "name": "stdout",
     "output_type": "stream",
     "text": [
      "After SMOTE: [897 897]\n",
      "(1794, 20)\n"
     ]
    }
   ],
   "source": [
    "smote = SMOTE(random_state=42)\n",
    "X_resample, y_resample = smote.fit_resample(X, y)\n",
    "\n",
    "print(f'After SMOTE: {np.bincount(y_resample)}')  # 샘플링 증강\n",
    "print(X_resample.shape)"
   ]
  },
  {
   "cell_type": "code",
   "execution_count": null,
   "id": "e3808fe1",
   "metadata": {},
   "outputs": [
    {
     "name": "stdout",
     "output_type": "stream",
     "text": [
      "              precision    recall  f1-score   support\n",
      "\n",
      "           0       0.97      1.00      0.98       224\n",
      "           1       1.00      0.69      0.82        26\n",
      "\n",
      "    accuracy                           0.97       250\n",
      "   macro avg       0.98      0.85      0.90       250\n",
      "weighted avg       0.97      0.97      0.97       250\n",
      "\n"
     ]
    }
   ],
   "source": [
    "from sklearn.model_selection import train_test_split\n",
    "from sklearn.metrics import classification_report\n",
    "from sklearn.ensemble import RandomForestClassifier\n",
    "\n",
    "X_train, X_test, y_train, y_test = train_test_split(X, y, random_state=0, stratify=y)    # stratify : 무엇을 기준으로 데이터를 나눌 것인지 지정 / 학습데이터를 잘 분배해주기 때문에 성능을 향상 해줌. \n",
    " \n",
    "model = RandomForestClassifier(random_state=0)\n",
    "model.fit(X_train, y_train)\n",
    "\n",
    "y_pred = model.predict(X_test)\n",
    "print(classification_report(y_test, y_pred))"
   ]
  },
  {
   "cell_type": "code",
   "execution_count": null,
   "id": "65a42bb9",
   "metadata": {},
   "outputs": [
    {
     "name": "stdout",
     "output_type": "stream",
     "text": [
      "              precision    recall  f1-score   support\n",
      "\n",
      "           0       0.96      0.96      0.96       224\n",
      "           1       0.96      0.96      0.96       225\n",
      "\n",
      "    accuracy                           0.96       449\n",
      "   macro avg       0.96      0.96      0.96       449\n",
      "weighted avg       0.96      0.96      0.96       449\n",
      "\n"
     ]
    }
   ],
   "source": [
    "from sklearn.model_selection import train_test_split\n",
    "from sklearn.metrics import classification_report\n",
    "from sklearn.ensemble import RandomForestClassifier\n",
    "\n",
    "X_train, X_test, y_train, y_test = train_test_split(X_resample, y_resample, random_state=0)    # 샘플링편향을 해결한 친구로 돌림. (smote로 값을 생성)\n",
    "\n",
    "model = RandomForestClassifier(random_state=0)\n",
    "model.fit(X_train, y_train)\n",
    "\n",
    "y_pred = model.predict(X_test)\n",
    "print(classification_report(y_test, y_pred))"
   ]
  }
 ],
 "metadata": {
  "kernelspec": {
   "display_name": "ml_env",
   "language": "python",
   "name": "python3"
  },
  "language_info": {
   "codemirror_mode": {
    "name": "ipython",
    "version": 3
   },
   "file_extension": ".py",
   "mimetype": "text/x-python",
   "name": "python",
   "nbconvert_exporter": "python",
   "pygments_lexer": "ipython3",
   "version": "3.12.11"
  }
 },
 "nbformat": 4,
 "nbformat_minor": 5
}
