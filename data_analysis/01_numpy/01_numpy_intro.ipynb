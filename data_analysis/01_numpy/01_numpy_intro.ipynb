{
 "cells": [
  {
   "cell_type": "markdown",
   "id": "5546858b",
   "metadata": {},
   "source": [
    "# Data Science\n",
    "- 방대한 양의 데이터를 수진, 분석, 시각화 처리하여 유의미한 정보를 추출하는 것\n",
    "- 파이썬 패키지로는 numpy, pandas, matplotlib, seaborn 등이 주로 사용됨"
   ]
  },
  {
   "cell_type": "markdown",
   "id": "47978b82",
   "metadata": {},
   "source": [
    "---------------\n",
    "# numpy\n",
    "- 대규모의 다차원 배열, 수치 연산을 지원하는 라이브러리 "
   ]
  },
  {
   "cell_type": "code",
   "execution_count": null,
   "id": "4e93b8fa",
   "metadata": {},
   "outputs": [
    {
     "name": "stdout",
     "output_type": "stream",
     "text": [
      "Requirement already satisfied: numpy in c:\\users\\playdata\\appdata\\local\\anaconda3\\envs\\pystudy_env\\lib\\site-packages (2.3.1)\n"
     ]
    }
   ],
   "source": [
    "!pip install numpy"
   ]
  },
  {
   "cell_type": "markdown",
   "id": "9d62db28",
   "metadata": {},
   "source": [
    "---------------------"
   ]
  },
  {
   "cell_type": "markdown",
   "id": "dde29045",
   "metadata": {},
   "source": [
    "### ndarray 다차원 배열 생성"
   ]
  },
  {
   "cell_type": "code",
   "execution_count": 3,
   "id": "56be2d61",
   "metadata": {},
   "outputs": [],
   "source": [
    "import numpy as np"
   ]
  },
  {
   "cell_type": "code",
   "execution_count": null,
   "id": "1dc1fca4",
   "metadata": {},
   "outputs": [
    {
     "name": "stdout",
     "output_type": "stream",
     "text": [
      "[2025, 7, 16, 11, 32] <class 'list'>\n",
      "[2025    7   16   11   32] <class 'numpy.ndarray'>\n"
     ]
    }
   ],
   "source": [
    "today_arr = [2025, 7, 16, 11, 32]                  # 콤마로 구분\n",
    "arr = np.array([2025, 7, 16, 11, 32])              # 띄어쓰기로 구분\n",
    "print(today_arr, type(today_arr))\n",
    "print(arr, type(arr))"
   ]
  },
  {
   "cell_type": "code",
   "execution_count": null,
   "id": "a90d61d4",
   "metadata": {},
   "outputs": [
    {
     "name": "stdout",
     "output_type": "stream",
     "text": [
      "[1 2 3 4 5] <class 'numpy.ndarray'>\n",
      "(5,)\n",
      "1\n",
      "5\n",
      "int64\n"
     ]
    }
   ],
   "source": [
    "arr = np.array((1, 2, 3, 4, 5))                   # 튜플로 진행해도 동일 (np = 시퀀스 형태로 전달받은 것을 ndarray로 변환)\n",
    "print(arr, type(arr))\n",
    "\n",
    "# ndarray 구조 파악을 위한 속성\n",
    "print(arr.shape)      #형태       # 각 축별로의 크기 반환 (현재 arr는 1차원으로 구성되어 있어, shape의 요소가 1이며 해당 축의 요소가 5개) (요소가 하나이면 (5,)로 표현-튜플형태 반환)\n",
    "print(arr.ndim)       #깊이       # 깊이를 나타내는 요소 (축의 갯수를 나타냄)\n",
    "print(arr.size)       #요소의 갯수       # 요소의 갯수를 나타냄\n",
    "print(arr.dtype)      #요소의 자료형       # 데이터 타입(고정된 데이터만 들어감) : 정수 자료형만 들어감. \n"
   ]
  },
  {
   "cell_type": "code",
   "execution_count": null,
   "id": "a897e751",
   "metadata": {},
   "outputs": [
    {
     "name": "stdout",
     "output_type": "stream",
     "text": [
      "[[1 2 3]\n",
      " [4 5 6]]\n",
      "[[1, 2, 3], [4, 5, 6]]\n",
      "(2, 3)\n",
      "2\n",
      "6\n",
      "int64\n"
     ]
    }
   ],
   "source": [
    "arr_2d = np.array([[1,2,3], [4,5,6]])\n",
    "\n",
    "print(arr_2d)\n",
    "print([[1,2,3], [4,5,6]])\n",
    "\n",
    "# 배열로 출력시 그대로 출력. but ndarray의 형식은 행렬의 형식으로 반환(2차원)\n",
    "\n",
    "print(arr_2d.shape)   # (2, 3)   \n",
    "print(arr_2d.ndim)    # 2\n",
    "print(arr_2d.size)    # 6     *** 이해가 안돼. 추가 공부 필요\n",
    "print(arr_2d.dtype)   # int     *** 고정된 데이터 셋을 가짐"
   ]
  },
  {
   "cell_type": "code",
   "execution_count": null,
   "id": "32004efb",
   "metadata": {},
   "outputs": [
    {
     "name": "stdout",
     "output_type": "stream",
     "text": [
      "int64\n",
      "float64\n",
      "bool\n",
      "<U9\n"
     ]
    }
   ],
   "source": [
    "arr_int = np.array([2025, 7, 14])\n",
    "print(arr_int.dtype)              # int64  : 64비트(8바이트) 데이터\n",
    "\n",
    "arr_float = np.array([1.234, 3.456, 9.876, 10])\n",
    "print(arr_float.dtype)           # float64 : 정수 10을 추가해도 float 타입 \n",
    "\n",
    "arr_bool = np.array([True, False, True, True])\n",
    "print(arr_bool.dtype)            # bool\n",
    "\n",
    "arr_str = np.array(['Hello', 'World', 'python', 'numpy-lib'])\n",
    "print(arr_str.dtype)             # <U9    : 유니코드 9글자까지 저장가능한 문자열 의미 (가장 긴 문자 값 기준으로 판단)"
   ]
  },
  {
   "cell_type": "code",
   "execution_count": 20,
   "id": "2758495f",
   "metadata": {},
   "outputs": [
    {
     "name": "stdout",
     "output_type": "stream",
     "text": [
      "[ 1.  3.  9. 10.] float64\n"
     ]
    }
   ],
   "source": [
    "# 형변환\n",
    "arr = np.array([1.234, 3.456, 9.876, 10])  # 암묵적 형변환\n",
    "arr = np.array([1.234, 3.456, 9.876, 10], dtype=float)   # 명시적 형변환\n",
    "arr = np.array([1.234, 3.456, 9.876, 10], dtype=int)     # 실수를 정수로 형변환 시 내림 적용. \n",
    "\n",
    "arr = arr.astype(float)  # 명시적 형변환\n",
    "# arr = arr.astype(str)\n",
    "\n",
    "print(arr, arr.dtype)"
   ]
  },
  {
   "cell_type": "markdown",
   "id": "46d32c03",
   "metadata": {},
   "source": [
    "### python list와 ndarray의 차이\n",
    "- ndarray는 동일한 자료형만 저장 가능 (고정된 자료형)\n",
    "- ndarray는 다차원인 경우, 중첩 배열은 동일한 크기만 허용  (고정된 크기)  : 축별 요소의 갯수가 동일\n",
    "- 형태 / 길이를 확인하는 방법\n",
    "    - python list : len()\n",
    "    - ndarray : ndarray.shape, ndarray.ndim, ndarray.size"
   ]
  },
  {
   "cell_type": "code",
   "execution_count": null,
   "id": "98205171",
   "metadata": {},
   "outputs": [
    {
     "name": "stdout",
     "output_type": "stream",
     "text": [
      "[2025, 7, 14, 'numpy', True]\n",
      "[[1, 2, 3], [4, 5], [6]]\n",
      "3\n",
      "3\n"
     ]
    }
   ],
   "source": [
    "my_list = [2025, 7, 14, 'numpy', True]\n",
    "print(my_list)\n",
    "\n",
    "my_list = [[1,2,3], [4,5], [6]]\n",
    "print(my_list)\n",
    "\n",
    "print(len(my_list))\n",
    "print(len(my_list[0]))"
   ]
  },
  {
   "cell_type": "code",
   "execution_count": 28,
   "id": "bb2d792d",
   "metadata": {},
   "outputs": [
    {
     "name": "stdout",
     "output_type": "stream",
     "text": [
      "['2025' '7' '14' 'numpy' 'True']\n",
      "(5,)\n",
      "1\n",
      "5\n",
      "<U21\n"
     ]
    }
   ],
   "source": [
    "arr = np.array([2025, 7, 14, 'numpy', True])    # 암시적 형변환이 일어남\n",
    "# arr = np.array([[1,2,3], [4,5], [6]])           # ValueError 발생. \n",
    " \n",
    "print(arr)\n",
    "print(arr.shape)      \n",
    "print(arr.ndim)    \n",
    "print(arr.size)  \n",
    "print(arr.dtype)"
   ]
  },
  {
   "cell_type": "markdown",
   "id": "9e730cc3",
   "metadata": {},
   "source": [
    "### 특정 수로 초기화된 ndarray 생성"
   ]
  },
  {
   "cell_type": "code",
   "execution_count": null,
   "id": "618e1206",
   "metadata": {},
   "outputs": [
    {
     "name": "stdout",
     "output_type": "stream",
     "text": [
      "[[0. 0. 0. 0.]\n",
      " [0. 0. 0. 0.]\n",
      " [0. 0. 0. 0.]]\n",
      "[[1. 1. 1. 1.]\n",
      " [1. 1. 1. 1.]\n",
      " [1. 1. 1. 1.]]\n",
      "float64\n",
      "[9 9 9 9]\n",
      "int64\n"
     ]
    }
   ],
   "source": [
    "# zeros\n",
    "arr = np.zeros((3, 4))    # shape 넣기. 3행 4열\n",
    "print(arr)\n",
    "\n",
    "# ones\n",
    "arr = np.ones((3, 4))    # shape 넣기. 3행 4열\n",
    "print(arr)\n",
    "print(arr.dtype)\n",
    "\n",
    "# full \n",
    "arr = np.full((4, 1), 9)    # shape 넣기. 3행 4열\n",
    "arr = np.full((4,), 9)      # 1차원의 ndarray \n",
    "print(arr)\n",
    "print(arr.dtype)            \n",
    "\n",
    "#  zeros, ones 는 기본값이 float, full의 경우 정수 9를 부여했기때문에 int. \n",
    "#  zeros_like, ones_like 는 앞선 데이터 형식이 정수면 정수 반환, 실수면 실수 반환. "
   ]
  },
  {
   "cell_type": "code",
   "execution_count": null,
   "id": "fcf0b45b",
   "metadata": {},
   "outputs": [
    {
     "name": "stdout",
     "output_type": "stream",
     "text": [
      "(2, 2)\n",
      "[[0 0]\n",
      " [0 0]]\n",
      "[[1 1]\n",
      " [1 1]]\n",
      "[[9 9]\n",
      " [9 9]]\n"
     ]
    }
   ],
   "source": [
    "arr = np.array([[10, 20], [30, 40]])\n",
    "print(arr.shape)\n",
    "\n",
    "# zeros_like\n",
    "print(np.zeros_like(arr))   # shape 대신 arr 집어넣음. 원래 생성되어 있던 arr가 있는 경우 사용 .\n",
    "\n",
    "# ones_like\n",
    "print(np.ones_like(arr))\n",
    "\n",
    "# full_like\n",
    "print(np.full_like(arr, 9))     # print(np.full_like(arr, 9.1), dtype=float)로 타입 지정 시 실수 반환 가능. 타입 지정 안할 시 이전 타입으로 반환"
   ]
  },
  {
   "cell_type": "markdown",
   "id": "ed27acd2",
   "metadata": {},
   "source": [
    "# (1, 5) = [[ , , , , ]]  : 2차원    / (5, ) = [ , , , , ]   : 1차원   *** 공부하기.. shape일 때 무슨소리야.. arage는 1차원으로 수열 만드는 것 (다른거거등요? 왜 다르져..?)"
   ]
  },
  {
   "cell_type": "markdown",
   "id": "7dc30fe7",
   "metadata": {},
   "source": [
    "### 수열 생성\n",
    "- np.arange(start, end, step) \n",
    "   - start : 시작하는 숫자\n",
    "   - end : 끝나는 숫자 + 1\n",
    "   - step : 증가하는 간격"
   ]
  },
  {
   "cell_type": "code",
   "execution_count": null,
   "id": "ff88f3e9",
   "metadata": {},
   "outputs": [
    {
     "name": "stdout",
     "output_type": "stream",
     "text": [
      "[0 1 2 3 4 5 6 7 8 9]\n"
     ]
    }
   ],
   "source": [
    "arr = np.arange(1, 10)\n",
    "arr = np.arange(1, 10, .1)\n",
    "arr = np.arange(10)   # 인자 한개만 부여시 끝값 부여로 인식\n",
    "\n",
    "print(arr)"
   ]
  },
  {
   "cell_type": "markdown",
   "id": "c0035bc1",
   "metadata": {},
   "source": [
    "- np.linspace(start, end, num)\n",
    "    - start : 시작하는 숫자\n",
    "    - end : 끝나는 숫자 (포함)\n",
    "    - num : (시작하는 숫자부터 끝나는 숫자까지 범위에서) 결과로 만들어진 수열의 요소 개수(동일한 간격으로 생성)"
   ]
  },
  {
   "cell_type": "code",
   "execution_count": null,
   "id": "76dbe9af",
   "metadata": {},
   "outputs": [
    {
     "name": "stdout",
     "output_type": "stream",
     "text": [
      "[10.          9.89795918  9.79591837  9.69387755  9.59183673  9.48979592\n",
      "  9.3877551   9.28571429  9.18367347  9.08163265  8.97959184  8.87755102\n",
      "  8.7755102   8.67346939  8.57142857  8.46938776  8.36734694  8.26530612\n",
      "  8.16326531  8.06122449  7.95918367  7.85714286  7.75510204  7.65306122\n",
      "  7.55102041  7.44897959  7.34693878  7.24489796  7.14285714  7.04081633\n",
      "  6.93877551  6.83673469  6.73469388  6.63265306  6.53061224  6.42857143\n",
      "  6.32653061  6.2244898   6.12244898  6.02040816  5.91836735  5.81632653\n",
      "  5.71428571  5.6122449   5.51020408  5.40816327  5.30612245  5.20408163\n",
      "  5.10204082  5.        ]\n"
     ]
    }
   ],
   "source": [
    "arr = np.linspace(0, 10, 5)\n",
    "arr = np.linspace(0, 10)         # num 디폴트 값이 50 \n",
    "# arr = np.linspace(10)            # typeerror : 반드시 두개의 인자가 필요함.(시작, 끝)\n",
    "\n",
    "print(arr)"
   ]
  },
  {
   "cell_type": "markdown",
   "id": "056a0735",
   "metadata": {},
   "source": [
    "- [참고] 지수 | 로그\n",
    "    - 지수 : 거듭제곱 $a^x = b$ 에서 x\n",
    "    - 밑 : 거듭제곱될 수 $a^x = b$ 에서 a\n",
    "    - 로그  : 밑과 거듭제곱 결과로부터 지수를 반환  $log_a{b} = x$\n",
    "    - 자연로그 : 밑이 자연상수 e(2.718)인 로그\n",
    "    - 상용로그 : 밑이 10인 로그 "
   ]
  },
  {
   "cell_type": "markdown",
   "id": "31899a75",
   "metadata": {},
   "source": [
    "- np.logspace(start_exp, end_exp, num, base)\n",
    "    - start_exp : 시작 지수\n",
    "    - end_exp : 끝 지수\n",
    "    - num : 결과로 만들어진 수열의 요소 개수 \n",
    "    - base : 밑"
   ]
  },
  {
   "cell_type": "code",
   "execution_count": null,
   "id": "81970f92",
   "metadata": {},
   "outputs": [
    {
     "name": "stdout",
     "output_type": "stream",
     "text": [
      "[  10.           46.41588834  215.443469   1000.        ]\n"
     ]
    }
   ],
   "source": [
    "arr = np.logspace(1, 3, 4)    # 시작, 끝은 필수. base의 기본 값은 10 (상용로그)\n",
    "print(arr)                    # 지수 형태에서의 y의 값을 반환 "
   ]
  },
  {
   "cell_type": "markdown",
   "id": "0465c956",
   "metadata": {},
   "source": [
    "### ndarry indexing & slicing"
   ]
  },
  {
   "cell_type": "code",
   "execution_count": null,
   "id": "9096e20c",
   "metadata": {},
   "outputs": [
    {
     "name": "stdout",
     "output_type": "stream",
     "text": [
      "(10,)\n",
      "1\n",
      "[ 1  2  3  4  5  6  7  8  9 10]\n",
      "2 4 10\n",
      "10 6\n"
     ]
    }
   ],
   "source": [
    "# 1차원 배열 인덱싱 (python과 동일)\n",
    "arr = np.arange(1, 11)\n",
    "\n",
    "\n",
    "print(arr)\n",
    "print(arr[1], arr[3], arr[9]) # indexing\n",
    "print(arr[-1], arr[-5]) #음수로 인덱싱 (뒤에서부터)"
   ]
  },
  {
   "cell_type": "code",
   "execution_count": null,
   "id": "261c6595",
   "metadata": {},
   "outputs": [
    {
     "name": "stdout",
     "output_type": "stream",
     "text": [
      "(2, 3)\n",
      "[10 20 30]\n",
      "20\n",
      "20\n"
     ]
    }
   ],
   "source": [
    "# 2차원 배열 인덱싱\n",
    "arr_2d = np.array([[10, 20, 30], [40, 50, 60]])\n",
    "\n",
    "print(arr_2d.shape)\n",
    "\n",
    "print(arr_2d[0])\n",
    "print(arr_2d[0][1])\n",
    "print(arr_2d[0, 1])         # shape이 튜플의 형태를 가진 것처럼 아래와 동일한 상태임. \n",
    "print(arr_2d[(0, 1)])       # 다차원 인덱싱 (동작 결과는 동일하지만 인덱싱하는 방식은 다름)"
   ]
  },
  {
   "cell_type": "code",
   "execution_count": 61,
   "id": "5dff6789",
   "metadata": {},
   "outputs": [
    {
     "name": "stdout",
     "output_type": "stream",
     "text": [
      "44\n",
      "88\n",
      "88\n"
     ]
    }
   ],
   "source": [
    "arr_2d = np.array([[11, 22, 33], [44, 55, 66], [77, 88, 99]])\n",
    "\n",
    "print(arr_2d[1, 0])  #44\n",
    "print(arr_2d[2, 1])  #88\n",
    "print(arr_2d[-1, -2])  #88 (음수 인덱스 활용)"
   ]
  },
  {
   "cell_type": "code",
   "execution_count": null,
   "id": "0db5fd13",
   "metadata": {},
   "outputs": [
    {
     "name": "stdout",
     "output_type": "stream",
     "text": [
      "[3 4 5 6 7]\n",
      "[1 3 5 7 9]\n",
      "[ 5  6  7  8  9 10]\n",
      "[1 2 3 4 5 6 7]\n",
      "[10  9  8  7  6  5  4  3  2  1]\n"
     ]
    }
   ],
   "source": [
    "# 1차원 배열 슬라이싱\n",
    "arr = np.arange(1, 11)\n",
    "\n",
    "print(arr[2:7])           # [ 3 4 5 6 7 ]\n",
    "print(arr[arr % 2 != 0])  # [ 1 3 5 7 9 ]   #print(arr[::2])\n",
    "print(arr[4:])            # [ 5 6 7 8 9 10 ]\n",
    "print(arr[:7])            # [ 1 2 3 4 5 6 7 ]\n",
    "print(arr[::-1])          # [ 10 9 8 7 6 5 4 3 2 1 ]"
   ]
  },
  {
   "cell_type": "code",
   "execution_count": null,
   "id": "edad995d",
   "metadata": {},
   "outputs": [
    {
     "name": "stdout",
     "output_type": "stream",
     "text": [
      "[[10 20 30]\n",
      " [40 50 60]\n",
      " [70 80 90]]\n",
      "[[20]\n",
      " [50]]\n",
      "[[10 20 30]\n",
      " [40 50 60]]\n",
      "[[20]\n",
      " [50]\n",
      " [80]]\n",
      "[[20 30]\n",
      " [50 60]\n",
      " [80 90]]\n",
      "[[10 20 30]\n",
      " [40 50 60]]\n",
      "[]\n"
     ]
    }
   ],
   "source": [
    "# 2차원 배열 슬라이싱\n",
    "arr_2d = np.array([[10, 20, 30], [40, 50, 60], [70, 80, 90]])\n",
    "\n",
    "print(arr_2d)\n",
    "print(arr_2d[0:2, 1:2])   # [행 슬라이싱, 열 슬라이싱]\n",
    "print(arr_2d[0:2, : ])\n",
    "print(arr_2d[ : , 1:2])\n",
    "print(arr_2d[ : , 1: ])\n",
    "print(arr_2d[0:2])        # 하나만 입력 시 행에 대해서로 인식(열에 대해서만 슬라이싱 진행 시 앞에 빈 콜론이 필요함.)\n",
    "print(arr_2d[ : , arr_2d[arr_2d % 2 != 0]])  #??? 외낭돼?"
   ]
  },
  {
   "cell_type": "code",
   "execution_count": null,
   "id": "b96d9f02",
   "metadata": {},
   "outputs": [
    {
     "name": "stdout",
     "output_type": "stream",
     "text": [
      "[[10]\n",
      " [40]]\n",
      "(2, 1)\n",
      "[10 40]\n",
      "(2,)\n"
     ]
    }
   ],
   "source": [
    "# 슬라이싱 = shape 유지 (차원 유지)\n",
    "print(arr_2d[ :-1, 0:1])\n",
    "print(arr_2d[ :-1, 0:1].shape)   # 차원유지 \n",
    "\n",
    "\n",
    "# index 접근 -> 값을 꺼내서 반환 (차원 제거)\n",
    "print(arr_2d[ :-1, 0])\n",
    "print(arr_2d[ :-1, 0].shape)      # 인덱싱 시 해당 값을 꺼내서 반환하기 때문에 차원이 제거됨. "
   ]
  },
  {
   "cell_type": "markdown",
   "id": "5b1860cf",
   "metadata": {},
   "source": [
    "### fancy indexing & boolean indexing"
   ]
  },
  {
   "cell_type": "code",
   "execution_count": 84,
   "id": "970acd89",
   "metadata": {},
   "outputs": [
    {
     "name": "stdout",
     "output_type": "stream",
     "text": [
      "[ 5 10 15 20 25 30]\n",
      "[10 20 30]\n",
      "[10 20 30]\n"
     ]
    }
   ],
   "source": [
    "# 1차원 배열 fancy indexing\n",
    "arr = np.arange(5, 31, 5)\n",
    "print(arr)\n",
    "\n",
    "indices = [1, 3, 5]\n",
    "print(arr[indices])   # = print(arr[[1,3,5]])   fnacy indexing : 정수 배열을 사용해서 여러 위치의 갓을 추출할 수 있는 것\n",
    "print(arr[[1,3,5]])\n"
   ]
  },
  {
   "cell_type": "code",
   "execution_count": null,
   "id": "80100019",
   "metadata": {},
   "outputs": [
    {
     "name": "stdout",
     "output_type": "stream",
     "text": [
      "[10 35]\n",
      "[10 35]\n",
      "[10 40]\n"
     ]
    }
   ],
   "source": [
    "# 2차원 배열 fancy indexing\n",
    "arr_2d = np.array([\n",
    "    [5, 10, 15, 20],\n",
    "    [25, 30, 35, 40], \n",
    "    [45, 50, 55, 60]\n",
    "])\n",
    "\n",
    "# [10 35] 요소 추출\n",
    "indices1 = [0, 1]\n",
    "indices2 = [1, 2]  \n",
    "print(arr_2d[indices1, indices2])\n",
    "print(arr_2d[[0, 1], [1, 2]])       # 정수형 배열로 넣어주면 fancy indexing (행과 열에 대한 인덱싱을 하기 위해 대괄호에 넣어주는 것)\n",
    "                                    # 앞에가 행이고, 뒤에가 열임. 짝을 맞춰서 해석해줘야함. \n",
    "                                    # 작성: [0행, 1행] [1열,2열], 결과값: [0행 1열] [1행 2열] 이렇게 나옴\n",
    "\n",
    "print(arr_2d[[0,1], [1,3]])         # [0행, 1행], [1열, 3열]로 작성 -> 결과는 [0행, 1열], [1행, 3열] 값 반환"
   ]
  },
  {
   "cell_type": "code",
   "execution_count": null,
   "id": "55cf87e8",
   "metadata": {},
   "outputs": [
    {
     "name": "stdout",
     "output_type": "stream",
     "text": [
      "[1 2 3 4 5]\n",
      "[1 5]\n",
      "[1 2]\n"
     ]
    }
   ],
   "source": [
    "# 1차원 boolean indexing\n",
    "arr = np.arange(1, 6)\n",
    "print(arr)\n",
    "\n",
    "bools = [True, False, False, False, True]\n",
    "print(arr[bools])                          # 대조 시 true인 값만 반환 / 조건을 집어넣고 조건에 만족하는 값만 반환. \n",
    "print(arr[arr < 3])                        # 요소 중 3보다 작은 값을 반환하기 \n"
   ]
  },
  {
   "cell_type": "code",
   "execution_count": null,
   "id": "0900b79b",
   "metadata": {},
   "outputs": [
    {
     "name": "stdout",
     "output_type": "stream",
     "text": [
      "[35 40 45]\n",
      "[10 20 30 40 50 60]\n"
     ]
    }
   ],
   "source": [
    "# 2차원 boolean indexing\n",
    "arr_2d = np.array([\n",
    "    [5, 10, 15, 20],\n",
    "    [25, 30, 35, 40], \n",
    "    [45, 50, 55, 60]\n",
    "])\n",
    "\n",
    "print(arr_2d[(arr_2d > 30) & (arr_2d < 50)])   # and 사용은 안됨. \n",
    "print(arr_2d[arr_2d % 2 == 0])"
   ]
  },
  {
   "cell_type": "markdown",
   "id": "8a12835c",
   "metadata": {},
   "source": [
    "- np.all(): ndarray의 모든 요소가 조건을 만족할 때 true 반환\n",
    "- np.any(): ndarray의 요소 중 하나라도 조건을 만족할 때 true 반환"
   ]
  },
  {
   "cell_type": "code",
   "execution_count": null,
   "id": "3b595806",
   "metadata": {},
   "outputs": [
    {
     "name": "stdout",
     "output_type": "stream",
     "text": [
      "False\n",
      "True\n",
      "\n"
     ]
    }
   ],
   "source": [
    "arr = np.array([10, 20, 30, 40, -50])\n",
    "\n",
    "print(np.all(arr > 0))       # 모든 조건이 t 일때 t 반환 (like and 조건)\n",
    "print(np.any(arr > 0))       # 하나라도 t이면 t 반환     (like or 조건)\n",
    "# 괄호 안에는 조건식 "
   ]
  },
  {
   "cell_type": "code",
   "execution_count": null,
   "id": "d014a4fb",
   "metadata": {},
   "outputs": [
    {
     "name": "stdout",
     "output_type": "stream",
     "text": [
      "모든 수가 양수는 아니다\n",
      "양수가 포함되어 있다.\n"
     ]
    }
   ],
   "source": [
    "is_all_positive = np.all(arr > 0)\n",
    "has_positive = np.any(arr > 0)\n",
    "\n",
    "\n",
    "if is_all_positive : \n",
    "    print('모든 수가 양수')\n",
    "else :\n",
    "    print('모든 수가 양수는 아니다')\n",
    "\n",
    "\n",
    "if has_positive : \n",
    "    print('양수가 포함되어 있다.') \n",
    "else :\n",
    "    print('모든 수가 음수이다.')"
   ]
  }
 ],
 "metadata": {
  "kernelspec": {
   "display_name": "pystudy_env",
   "language": "python",
   "name": "python3"
  },
  "language_info": {
   "codemirror_mode": {
    "name": "ipython",
    "version": 3
   },
   "file_extension": ".py",
   "mimetype": "text/x-python",
   "name": "python",
   "nbconvert_exporter": "python",
   "pygments_lexer": "ipython3",
   "version": "3.12.11"
  }
 },
 "nbformat": 4,
 "nbformat_minor": 5
}
