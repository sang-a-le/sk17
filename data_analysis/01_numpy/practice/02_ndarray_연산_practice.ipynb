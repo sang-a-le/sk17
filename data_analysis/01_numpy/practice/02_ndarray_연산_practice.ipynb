{
 "cells": [
  {
   "cell_type": "markdown",
   "id": "7454f8dc",
   "metadata": {},
   "source": [
    "### **[실습] 데이터를 기반으로 배열 연산 수행**\n",
    "\n",
    "<aside>\n",
    "❓\n",
    "\n",
    "다음과 같은 과일 판매량 데이터가 있습니다. 각 과일의 1분기와 2분기 판매량이 주어졌을 때, NumPy 배열을 사용하여 아래 문제를 해결하세요.\n",
    "\n",
    "1. 1분기와 2분기의 과일별 총 판매량을 구하세요.\n",
    "2. 과일별 평균 판매량을 구하세요.\n",
    "\n",
    "- **데이터**:\n",
    "    - 1분기 판매량: `[200, 340, 150, 400]` (사과, 배, 오렌지, 바나나)\n",
    "    - 2분기 판매량: `[220, 300, 180, 420]` (사과, 배, 오렌지, 바나나)\n",
    "</aside>"
   ]
  },
  {
   "cell_type": "code",
   "execution_count": 12,
   "id": "205fc1bd",
   "metadata": {},
   "outputs": [],
   "source": [
    "import numpy as np"
   ]
  },
  {
   "cell_type": "code",
   "execution_count": 14,
   "id": "2f11e705",
   "metadata": {},
   "outputs": [
    {
     "name": "stdout",
     "output_type": "stream",
     "text": [
      "[[200, 340, 150, 400], [220, 300, 180, 420]]\n",
      "2210\n",
      "[272.5 280. ]\n"
     ]
    }
   ],
   "source": [
    "arr1 = ([[200, 340, 150, 400]])\n",
    "arr2 = ([[220, 300, 180, 420]])\n",
    "arr = arr1 +arr2\n",
    "\n",
    "print(arr)\n",
    "print(np.sum(arr))\n",
    "print(np.mean(arr, axis=1))"
   ]
  },
  {
   "cell_type": "markdown",
   "id": "09a3fe03",
   "metadata": {},
   "source": [
    "### **[실습 1] 기본 산술 연산**\n",
    "\n",
    "<aside>\n",
    "❓\n",
    "\n",
    "다음 두 배열을 사용하여 각각의 요소별로 덧셈, 뺄셈, 곱셈, 나눗셈을 수행하세요.\n",
    "\n",
    "</aside>"
   ]
  },
  {
   "cell_type": "code",
   "execution_count": 19,
   "id": "0407d546",
   "metadata": {},
   "outputs": [
    {
     "name": "stdout",
     "output_type": "stream",
     "text": [
      "[11 22 33 44]\n",
      "[ 9 18 27 36]\n",
      "[ 10  40  90 160]\n",
      "[10. 10. 10. 10.]\n"
     ]
    }
   ],
   "source": [
    "arr1 = np.array([10, 20, 30, 40])\n",
    "arr2 = np.array([1, 2, 3, 4])\n",
    "\n",
    "print(arr1 + arr2)\n",
    "print(arr1 - arr2)\n",
    "print(arr1 * arr2)\n",
    "print(arr1 / arr2)"
   ]
  },
  {
   "cell_type": "markdown",
   "id": "5c29c233",
   "metadata": {},
   "source": [
    "### [**실습 2] Dot Product**\n",
    "\n",
    "<aside>\n",
    "❓\n",
    "\n",
    "다음 두 배열 간의 내적 연산을 수행하세요.\n",
    "\n",
    "</aside>"
   ]
  },
  {
   "cell_type": "code",
   "execution_count": 29,
   "id": "b36854ba",
   "metadata": {},
   "outputs": [
    {
     "name": "stdout",
     "output_type": "stream",
     "text": [
      "[1 2 3]\n",
      "[4 5 6]\n",
      "32\n",
      "32\n"
     ]
    }
   ],
   "source": [
    "arr1 = np.array([1, 2, 3]).reshape(3,)\n",
    "arr2 = np.array([4, 5, 6]).reshape(3,)\n",
    "\n",
    "print(arr1)\n",
    "print(arr2.T)\n",
    "print(arr1 @ arr2.T)\n",
    "print(np.dot(arr1, arr2))"
   ]
  },
  {
   "cell_type": "markdown",
   "id": "01ced508",
   "metadata": {},
   "source": [
    "### [**실습 3] 브로드캐스팅**\n",
    "\n",
    "<aside>\n",
    "❓\n",
    "\n",
    "아래의 2차원 배열과 1차원 배열을 브로드캐스팅하여 더하세요.\n",
    "\n",
    "</aside>"
   ]
  },
  {
   "cell_type": "code",
   "execution_count": null,
   "id": "1d948972",
   "metadata": {},
   "outputs": [
    {
     "name": "stdout",
     "output_type": "stream",
     "text": [
      "[[11 22 33]\n",
      " [14 25 36]]\n"
     ]
    }
   ],
   "source": [
    "arr2d = np.array([[1, 2, 3], [4, 5, 6]])\n",
    "arr1d = np.array([10, 20, 30])\n",
    "\n",
    "print(arr2d + arr1d)\n"
   ]
  },
  {
   "cell_type": "markdown",
   "id": "c0e3c9f5",
   "metadata": {},
   "source": [
    "### **[실습 4] 비교 연산 및 집계 함수 사용**\n",
    "\n",
    "<aside>\n",
    "❓\n",
    "\n",
    "1. 배열에서 20보다 큰 값을 찾아 출력하세요.\n",
    "2. 배열의 합계, 최대값, 최소값, 평균을 계산하세요.\n",
    "</aside>"
   ]
  },
  {
   "cell_type": "code",
   "execution_count": 38,
   "id": "42c60fc6",
   "metadata": {},
   "outputs": [
    {
     "name": "stdout",
     "output_type": "stream",
     "text": [
      "[30 40 50]\n",
      "150\n",
      "50\n",
      "10\n",
      "30.0\n"
     ]
    }
   ],
   "source": [
    "arr = np.array([10, 20, 30, 40, 50])\n",
    "\n",
    "print(arr[arr > 20])\n",
    "print(np.sum(arr))\n",
    "print(np.max(arr))\n",
    "print(np.min(arr))\n",
    "print(np.mean(arr))"
   ]
  }
 ],
 "metadata": {
  "kernelspec": {
   "display_name": "pystudy_env",
   "language": "python",
   "name": "python3"
  },
  "language_info": {
   "codemirror_mode": {
    "name": "ipython",
    "version": 3
   },
   "file_extension": ".py",
   "mimetype": "text/x-python",
   "name": "python",
   "nbconvert_exporter": "python",
   "pygments_lexer": "ipython3",
   "version": "3.12.11"
  }
 },
 "nbformat": 4,
 "nbformat_minor": 5
}
